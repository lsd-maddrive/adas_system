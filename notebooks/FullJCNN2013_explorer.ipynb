{
 "cells": [
  {
   "cell_type": "code",
   "execution_count": 43,
   "id": "c2b9aa38",
   "metadata": {},
   "outputs": [
    {
     "data": {
      "text/plain": [
       "device(type='cuda')"
      ]
     },
     "execution_count": 43,
     "metadata": {},
     "output_type": "execute_result"
    }
   ],
   "source": [
    "import matplotlib.pyplot as plt\n",
    "import numpy as np\n",
    "import random\n",
    "import torch\n",
    "from torch import nn\n",
    "import seaborn as sns\n",
    "import pandas as pd\n",
    "import os\n",
    "import pathlib\n",
    "import shutil\n",
    "import cv2\n",
    "\n",
    "from PIL import Image\n",
    "\n",
    "TEXT_COLOR = 'black'\n",
    "\n",
    "# Зафиксируем состояние случайных чисел\n",
    "RANDOM_STATE = 42\n",
    "np.random.seed(RANDOM_STATE)\n",
    "torch.manual_seed(RANDOM_STATE)\n",
    "random.seed(RANDOM_STATE)\n",
    "\n",
    "device = torch.device('cuda' if torch.cuda.is_available() else 'cpu')\n",
    "device"
   ]
  },
  {
   "cell_type": "code",
   "execution_count": 91,
   "id": "7b59f70a",
   "metadata": {},
   "outputs": [
    {
     "data": {
      "image/png": "[encoded data removed]",
      "text/plain": [
       "<Figure size 432x288 with 1 Axes>"
      ]
     },
     "metadata": {
      "needs_background": "light"
     },
     "output_type": "display_data"
    }
   ],
   "source": [
    "PROJECT_ROOT = pathlib.Path(os.path.join(os.curdir, os.pardir))\n",
    "ROOT_DIR = PROJECT_ROOT / 'data/FullIJCNN2013'\n",
    "train_dir = ROOT_DIR / 'dataset'\n",
    "# print(train_dir)\n",
    "# print('!', train_dir)\n",
    "\n",
    "target_folder = ['40'] #, '01', '02', '03', '04', '05', '06', '07', '08']\n",
    "speed_limit = []\n",
    "for parent_folder in train_dir.iterdir():\n",
    "    if parent_folder.stem in target_folder[0]:\n",
    "        for img_path in parent_folder.iterdir():\n",
    "            # print(str(img_path))\n",
    "            img = cv2.imread(str(img_path)) \n",
    "            img = cv2.cvtColor(img, cv2.COLOR_RGB2BGR)\n",
    "            plt.imshow(img)\n",
    "            plt.show()\n",
    "            break\n",
    "    \n",
    "plt.show()"
   ]
  },
  {
   "cell_type": "code",
   "execution_count": 72,
   "id": "4111f0c5",
   "metadata": {},
   "outputs": [
    {
     "name": "stdout",
     "output_type": "stream",
     "text": [
      "070932.png,116\n",
      "070933.png,116\n",
      "070934.png,116\n",
      "070935.png,116\n",
      "070936.png,116\n",
      "070937.png,116\n",
      "070938.png,116\n",
      "070939.png,116\n",
      "070940.png,116\n",
      "070941.png,116\n",
      "070942.png,116\n",
      "070943.png,116\n",
      "070944.png,116\n",
      "070945.png,116\n",
      "070946.png,116\n",
      "070947.png,116\n",
      "070948.png,116\n",
      "070949.png,116\n",
      "070950.png,116\n",
      "070951.png,116\n",
      "070952.png,116\n",
      "070953.png,116\n",
      "070954.png,116\n",
      "070955.png,116\n",
      "070956.png,116\n",
      "070957.png,116\n",
      "070958.png,116\n",
      "070959.png,116\n",
      "070960.png,116\n",
      "070961.png,116\n",
      "070962.png,116\n",
      "070963.png,116\n",
      "070964.png,116\n",
      "070965.png,116\n",
      "070966.png,116\n",
      "070967.png,116\n",
      "070968.png,116\n",
      "070969.png,116\n",
      "070970.png,116\n",
      "070971.png,116\n",
      "070972.png,116\n",
      "070973.png,116\n",
      "070974.png,116\n",
      "070975.png,116\n",
      "070976.png,116\n",
      "070977.png,116\n",
      "070978.png,116\n",
      "070979.png,116\n",
      "070980.png,116\n",
      "070981.png,116\n",
      "070982.png,116\n",
      "070983.png,116\n",
      "070984.png,116\n",
      "070985.png,116\n",
      "070986.png,116\n",
      "070987.png,116\n",
      "070988.png,116\n",
      "070989.png,116\n",
      "070990.png,116\n",
      "070991.png,116\n",
      "070992.png,116\n",
      "070993.png,116\n",
      "070994.png,116\n",
      "070995.png,116\n",
      "070996.png,116\n",
      "070997.png,116\n",
      "070998.png,116\n",
      "070999.png,116\n",
      "071000.png,116\n",
      "071001.png,116\n",
      "071002.png,116\n",
      "071003.png,116\n",
      "071004.png,116\n",
      "071005.png,116\n",
      "071006.png,116\n",
      "071007.png,116\n",
      "071008.png,116\n",
      "071009.png,116\n",
      "071010.png,116\n",
      "071011.png,116\n"
     ]
    }
   ],
   "source": [
    "rtsd_train = PROJECT_ROOT / 'data/rtsd-r3/train'\n",
    "rtsd_train_images = os.listdir(rtsd_train)\n",
    "\n",
    "target_out_folder = train_dir / 'exported_to_rtsd-r3'\n",
    "target_out_folder.mkdir(parents=True, exist_ok=True)\n",
    "\n",
    "# delete previous\n",
    "for file in target_out_folder.iterdir():\n",
    "    os.remove(file)\n",
    "\n",
    "def incrementFile(filename_src):\n",
    "    ext = filename_src.split('.')[-1]\n",
    "    filename = filename_src.split('.')[-2]\n",
    "    src_str_len = len(filename)\n",
    "    filename_int = int(filename) + 1\n",
    "    filename = str(filename_int)\n",
    "    \n",
    "    while (len(filename) < src_str_len):\n",
    "        filename = '0' + filename\n",
    "        \n",
    "    return filename + '.' + ext\n",
    "\n",
    "def copyImagesToTargetFolder(inputDir, lastFileName, target_out_folder):\n",
    "    speed_limit = []\n",
    "    # print(target_out_folder)\n",
    "    # print(inputDir)\n",
    "    for parent_folder in inputDir.iterdir():\n",
    "        # print(parent_folder)\n",
    "        if parent_folder.stem == '10':\n",
    "            for img_path in parent_folder.iterdir():\n",
    "                lastFileName = incrementFile(lastFileName)\n",
    "                im = Image.open(str(img_path))\n",
    "                im.save(str(target_out_folder / lastFileName))\n",
    "                print(lastFileName, ',116', sep='')\n",
    "                \n",
    "copyImagesToTargetFolder(train_dir, rtsd_train_images[-1], target_out_folder)"
   ]
  }
 ],
 "metadata": {
  "kernelspec": {
   "display_name": "Python 3 (ipykernel)",
   "language": "python",
   "name": "python3"
  },
  "language_info": {
   "codemirror_mode": {
    "name": "ipython",
    "version": 3
   },
   "file_extension": ".py",
   "mimetype": "text/x-python",
   "name": "python",
   "nbconvert_exporter": "python",
   "pygments_lexer": "ipython3",
   "version": "3.8.12"
  }
 },
 "nbformat": 4,
 "nbformat_minor": 5
}
