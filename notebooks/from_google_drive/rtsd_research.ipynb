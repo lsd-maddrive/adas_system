{
  "nbformat": 4,
  "nbformat_minor": 0,
  "metadata": {
    "accelerator": "GPU",
    "colab": {
      "name": "rtsd_research.ipynb",
      "provenance": [],
      "collapsed_sections": []
    },
    "kernelspec": {
      "display_name": "Python 3",
      "name": "python3"
    },
    "language_info": {
      "name": "python"
    }
  },
  "cells": [
    {
      "cell_type": "code",
      "metadata": {
        "colab": {
          "base_uri": "https://localhost:8080/"
        },
        "id": "rkV42eQBowr-",
        "outputId": "5b8c1d78-9fa3-4904-908e-4acce93bd15a"
      },
      "source": [
        "#@title Default title text\n",
        "from google.colab import drive\n",
        "\n",
        "drive.mount('/content/gdrive/')\n",
        "# !~\n",
        "# drive.flush_and_unmount()\n",
        "\n",
        "# %cd  /content/gdrive/MyDrive/MastersD/RTSD_dataset+/rtsd-r3\n",
        "# !pwd"
      ],
      "execution_count": null,
      "outputs": [
        {
          "name": "stdout",
          "output_type": "stream",
          "text": [
            "Drive already mounted at /content/gdrive/; to attempt to forcibly remount, call drive.mount(\"/content/gdrive/\", force_remount=True).\n"
          ]
        }
      ]
    },
    {
      "cell_type": "code",
      "metadata": {
        "id": "u39uiyhBcmpr"
      },
      "source": [
        "# !gdown --id '1eKNfEuNQadRW1H4NOoMw5sdnyHV14ze0'"
      ],
      "execution_count": null,
      "outputs": []
    },
    {
      "cell_type": "code",
      "metadata": {
        "id": "3E3IWvrnevOn"
      },
      "source": [
        "# !unzip rtsd-r3.zip"
      ],
      "execution_count": null,
      "outputs": []
    },
    {
      "cell_type": "code",
      "metadata": {
        "colab": {
          "base_uri": "https://localhost:8080/"
        },
        "id": "XtyeNnnnuBTJ",
        "outputId": "684666c2-8fe5-4c68-e9cd-b05080131b4a"
      },
      "source": [
        "import matplotlib.pyplot as plt\n",
        "import numpy as np\n",
        "import random\n",
        "import torch\n",
        "from torch import nn\n",
        "import seaborn as sns\n",
        "import pandas as pd\n",
        "import os\n",
        "import pathlib\n",
        "import shutil\n",
        "import cv2\n",
        "import PIL\n",
        "\n",
        "TEXT_COLOR = 'black'\n",
        "\n",
        "# Зафиксируем состояние случайных чисел\n",
        "RANDOM_STATE = 42\n",
        "np.random.seed(RANDOM_STATE)\n",
        "torch.manual_seed(RANDOM_STATE)\n",
        "random.seed(RANDOM_STATE)\n",
        "\n",
        "device = torch.device('cuda' if torch.cuda.is_available() else 'cpu')\n",
        "device"
      ],
      "execution_count": null,
      "outputs": [
        {
          "data": {
            "text/plain": [
              "device(type='cuda')"
            ]
          },
          "execution_count": 4,
          "metadata": {},
          "output_type": "execute_result"
        }
      ]
    },
    {
      "cell_type": "code",
      "metadata": {
        "id": "nUd698RcuIyI"
      },
      "source": [
        "PROJECT_ROOT = pathlib.Path('rtsd-r3') #pathlib.Path(os.path.join(os.curdir, os.pardir))\n",
        "ROOT_DIR = PROJECT_ROOT / 'data'\n",
        "train_dir_source = ROOT_DIR / 'train'\n",
        "train_dir = ROOT_DIR / 'train'"
      ],
      "execution_count": null,
      "outputs": []
    },
    {
      "cell_type": "code",
      "metadata": {
        "id": "5hzFPkAPwFIp"
      },
      "source": [
        "gt_train = pd.read_csv(ROOT_DIR / 'gt_train.csv')\n",
        "numbers_to_classes = pd.read_csv(ROOT_DIR / 'numbers_to_classes.csv')\n",
        "\n",
        "gt_train = pd.merge(gt_train, numbers_to_classes, on='class_number', how='left', validate='many_to_one', copy=False)\n",
        "gt_train.drop(['class_number'], inplace=True, axis=1)\n",
        "gt_train['IsPresent'] = pd.Series([1 for x in range(len(gt_train.index))])\n",
        "\n",
        "del numbers_to_classes"
      ],
      "execution_count": null,
      "outputs": []
    },
    {
      "cell_type": "code",
      "metadata": {
        "colab": {
          "base_uri": "https://localhost:8080/",
          "height": 921
        },
        "id": "g16dw4sSwTQj",
        "outputId": "dedc8635-9ed5-45c9-ca34-b8316c4d3b7f"
      },
      "source": [
        "display(gt_train)\n",
        "print(gt_train['sign_class'].value_counts().to_json())\n",
        "_, ax = plt.subplots(figsize=(21, 7))\n",
        "plt.xticks(rotation=90)\n",
        "sns.countplot(x='sign_class', data=gt_train, ax=ax);"
      ],
      "execution_count": null,
      "outputs": [
        {
          "data": {
            "text/html": [
              "<div>\n",
              "<style scoped>\n",
              "    .dataframe tbody tr th:only-of-type {\n",
              "        vertical-align: middle;\n",
              "    }\n",
              "\n",
              "    .dataframe tbody tr th {\n",
              "        vertical-align: top;\n",
              "    }\n",
              "\n",
              "    .dataframe thead th {\n",
              "        text-align: right;\n",
              "    }\n",
              "</style>\n",
              "<table border=\"1\" class=\"dataframe\">\n",
              "  <thead>\n",
              "    <tr style=\"text-align: right;\">\n",
              "      <th></th>\n",
              "      <th>filename</th>\n",
              "      <th>sign_class</th>\n",
              "      <th>IsPresent</th>\n",
              "    </tr>\n",
              "  </thead>\n",
              "  <tbody>\n",
              "    <tr>\n",
              "      <th>0</th>\n",
              "      <td>000000.png</td>\n",
              "      <td>2_1</td>\n",
              "      <td>1</td>\n",
              "    </tr>\n",
              "    <tr>\n",
              "      <th>1</th>\n",
              "      <td>000001.png</td>\n",
              "      <td>2_1</td>\n",
              "      <td>1</td>\n",
              "    </tr>\n",
              "    <tr>\n",
              "      <th>2</th>\n",
              "      <td>000002.png</td>\n",
              "      <td>2_1</td>\n",
              "      <td>1</td>\n",
              "    </tr>\n",
              "    <tr>\n",
              "      <th>3</th>\n",
              "      <td>000003.png</td>\n",
              "      <td>2_1</td>\n",
              "      <td>1</td>\n",
              "    </tr>\n",
              "    <tr>\n",
              "      <th>4</th>\n",
              "      <td>000004.png</td>\n",
              "      <td>1_23</td>\n",
              "      <td>1</td>\n",
              "    </tr>\n",
              "    <tr>\n",
              "      <th>...</th>\n",
              "      <td>...</td>\n",
              "      <td>...</td>\n",
              "      <td>...</td>\n",
              "    </tr>\n",
              "    <tr>\n",
              "      <th>70682</th>\n",
              "      <td>070682.png</td>\n",
              "      <td>1_23</td>\n",
              "      <td>1</td>\n",
              "    </tr>\n",
              "    <tr>\n",
              "      <th>70683</th>\n",
              "      <td>070683.png</td>\n",
              "      <td>1_23</td>\n",
              "      <td>1</td>\n",
              "    </tr>\n",
              "    <tr>\n",
              "      <th>70684</th>\n",
              "      <td>070684.png</td>\n",
              "      <td>1_23</td>\n",
              "      <td>1</td>\n",
              "    </tr>\n",
              "    <tr>\n",
              "      <th>70685</th>\n",
              "      <td>070685.png</td>\n",
              "      <td>1_23</td>\n",
              "      <td>1</td>\n",
              "    </tr>\n",
              "    <tr>\n",
              "      <th>70686</th>\n",
              "      <td>070686.png</td>\n",
              "      <td>1_23</td>\n",
              "      <td>1</td>\n",
              "    </tr>\n",
              "  </tbody>\n",
              "</table>\n",
              "<p>70687 rows × 3 columns</p>\n",
              "</div>"
            ],
            "text/plain": [
              "         filename sign_class  IsPresent\n",
              "0      000000.png        2_1          1\n",
              "1      000001.png        2_1          1\n",
              "2      000002.png        2_1          1\n",
              "3      000003.png        2_1          1\n",
              "4      000004.png       1_23          1\n",
              "...           ...        ...        ...\n",
              "70682  070682.png       1_23          1\n",
              "70683  070683.png       1_23          1\n",
              "70684  070684.png       1_23          1\n",
              "70685  070685.png       1_23          1\n",
              "70686  070686.png       1_23          1\n",
              "\n",
              "[70687 rows x 3 columns]"
            ]
          },
          "metadata": {},
          "output_type": "display_data"
        },
        {
          "name": "stdout",
          "output_type": "stream",
          "text": [
            "{\"5_19_1\":19913,\"2_1\":8620,\"5_16\":3751,\"5_15_2\":3544,\"3_27\":2409,\"1_23\":2320,\"5_20\":1841,\"3_24_n40\":1804,\"4_1_1\":1673,\"1_17\":1145,\"3_20\":1036,\"5_5\":915,\"5_15_1\":873,\"4_1_4\":871,\"3_1\":868,\"4_2_3\":828,\"1_25\":802,\"6_4\":794,\"7_3\":790,\"5_15_2_2\":700,\"3_24_n20\":696,\"4_2_1\":693,\"6_6\":662,\"5_15_3\":619,\"1_22\":603,\"2_3_2\":593,\"5_15_5\":559,\"2_5\":512,\"2_2\":479,\"3_4_1\":476,\"5_6\":474,\"4_2_2\":433,\"2_3_3\":400,\"4_1_2\":359,\"1_20_2\":319,\"7_5\":312,\"1_2\":301,\"1_11_1\":298,\"3_28\":294,\"5_14\":251,\"1_11\":249,\"1_16\":235,\"3_18\":219,\"1_1\":198,\"3_24_n50\":193,\"2_3\":191,\"3_18_2\":169,\"6_3_1\":156,\"5_15_7\":152,\"3_24_n5\":149,\"4_3\":149,\"5_7_2\":141,\"4_1_5\":139,\"4_1_2_1\":135,\"3_24_n30\":131,\"7_2\":129,\"1_12_2\":128,\"1_15\":126,\"3_13_r4.5\":124,\"1_8\":120,\"4_1_2_2\":119,\"5_7_1\":119,\"7_11\":111,\"3_24_n80\":111,\"3_2\":110,\"7_4\":110,\"7_7\":101,\"1_21\":93,\"5_3\":91,\"3_24_n60\":87,\"5_11\":85,\"7_12\":84,\"2_6\":83,\"1_33\":82,\"6_7\":80,\"3_24_n70\":80,\"1_12\":79,\"1_20_3\":76,\"1_5\":72,\"4_1_6\":68,\"6_2_n50\":59,\"3_32\":54,\"4_1_3\":51,\"5_21\":51,\"1_20\":51,\"7_6\":50,\"1_19\":45,\"1_27\":43,\"5_22\":43,\"3_30\":38,\"3_4_n8\":35,\"5_8\":34,\"3_19\":34,\"3_10\":28,\"6_2_n60\":25,\"3_11_n5\":24,\"7_1\":21,\"5_18\":20,\"3_13_r3.5\":15,\"6_2_n70\":14,\"1_13\":11,\"1_14\":10,\"3_29\":10,\"3_24_n10\":9,\"1_18\":8}\n"
          ]
        },
        {
          "data": {
            "image/png": "[encoded data removed]",
            "text/plain": [
              "<Figure size 1512x504 with 1 Axes>"
            ]
          },
          "metadata": {},
          "output_type": "display_data"
        }
      ]
    },
    {
      "cell_type": "code",
      "metadata": {
        "colab": {
          "base_uri": "https://localhost:8080/"
        },
        "id": "qyEUV051wL3q",
        "outputId": "2b6e726a-119f-44c3-e456-569b46832797"
      },
      "source": [
        "EXTRACT_BIG = True\n",
        "EXTRACT_SPECIFIC_CLASSES = True\n",
        "\n",
        "if EXTRACT_SPECIFIC_CLASSES == False:\n",
        "    CLASSES = gt_train['sign_class'].values\n",
        "    print(\"[!] Assume classification for all of available classes\")\n",
        "    \n",
        "else:\n",
        "    CLASSES = [\n",
        "        '1_1', '1_6', '1_8', '1_22', '1_31', '1_33', '2_1', '2_2', \n",
        "        # ~2_3_1\n",
        "        '2_3', \\\n",
        "        # /~2_3_1\n",
        "        '2_4', '2_5', '3_1', \n",
        "        # ~3_18_1\n",
        "        '3_18', \n",
        "        # /~3_18_1\n",
        "        '3_20', '3_21', '3_22', '3_23', \\\n",
        "        # all speed limits\n",
        "        '3_24_n10', '3_24_n20', '3_24_n30', '3_24_n40', '3_24_n50', '3_24_n60', \\\n",
        "        '3_24_n70', '3_24_n80', '3_24_n90', '3_24_n100', '3_24_n110', '3_24_n120', '3_24_n130', \\\n",
        "        # /all speed limits\n",
        "        '3_25', '3_27', '3_28', '3_31', '4_1_1', '4_3', '5_5', '5_6', '5_16', \n",
        "        '5_19_1',  \n",
        "        #'5_19_2', \\ ~ '5_19_1'\n",
        "        '5_20', '6_3_2', '6_4', '7_3', '7_4'\n",
        "    ]\n",
        "    print(\"[+] Classification for all of those classes:\\n\", CLASSES)\n",
        "\n",
        "def printProgressEnum(index, length, label=None):\n",
        "    print('\\r{}Progress: {}/{} ({:.2f}%)'.\n",
        "                  format(label if label != None else '', index + 1, length, 100 * (index + 1) / length), flush=True, end='')\n",
        "\n",
        "def getPictureSignClass(filename=None, path=None, index=None):\n",
        "    if index:\n",
        "        return gt_train.iloc[index]['sign_class']\n",
        "    if path:\n",
        "        return gt_train[gt_train['filename']==str(path).split(sep='\\\\')[-1]]['sign_class'].values[0]\n",
        "    else:\n",
        "        if filename:\n",
        "            return gt_train[gt_train['filename']==filename]['sign_class'].values[0]\n",
        "        else:\n",
        "            assert False, 'wrong arg'\n",
        "\n",
        "if EXTRACT_BIG == True:\n",
        " \n",
        "    included_clases = set()\n",
        "    \n",
        "    gt_train_size = len(gt_train.index)\n",
        "    \n",
        "    for index, row in gt_train.iterrows():\n",
        "\n",
        "        full_path_to_image = train_dir_source / row['filename']\n",
        "        \n",
        "        class_for_current_image = row['sign_class']\n",
        "                \n",
        "        if class_for_current_image in CLASSES:\n",
        "          included_clases.add(class_for_current_image)\n",
        "          # shutil.copy2(full_path_to_image, train_dir)\n",
        "        else:\n",
        "          gt_train.loc[index, 'IsPresent'] = 0\n",
        "          # print('\\n[!]', class_for_current_image, 'is not CLASSES')\n",
        "\n",
        "        \n",
        "        if (index % 100 == 0) or (index + 1 == gt_train_size):\n",
        "            printProgressEnum(index, gt_train_size)\n",
        "    \n",
        "    not_included_signs = set(CLASSES) - included_clases\n",
        "    if not_included_signs:\n",
        "        print('\\n[!] These signs were not included: \\n', not_included_signs)"
      ],
      "execution_count": null,
      "outputs": [
        {
          "name": "stdout",
          "output_type": "stream",
          "text": [
            "[+] Classification for all of those classes:\n",
            " ['1_1', '1_6', '1_8', '1_22', '1_31', '1_33', '2_1', '2_2', '2_3', '2_4', '2_5', '3_1', '3_18', '3_20', '3_21', '3_22', '3_23', '3_24_n10', '3_24_n20', '3_24_n30', '3_24_n40', '3_24_n50', '3_24_n60', '3_24_n70', '3_24_n80', '3_24_n90', '3_24_n100', '3_24_n110', '3_24_n120', '3_24_n130', '3_25', '3_27', '3_28', '3_31', '4_1_1', '4_3', '5_5', '5_6', '5_16', '5_19_1', '5_20', '6_3_2', '6_4', '7_3', '7_4']\n",
            "Progress: 70687/70687 (100.00%)\n",
            "[!] These signs were not included: \n",
            " {'3_25', '3_24_n130', '1_6', '3_21', '1_31', '2_4', '3_24_n100', '3_22', '3_24_n110', '3_24_n120', '3_24_n90', '3_23', '3_31', '6_3_2'}\n"
          ]
        }
      ]
    },
    {
      "cell_type": "code",
      "metadata": {
        "colab": {
          "base_uri": "https://localhost:8080/"
        },
        "id": "0cbt15szwuVR",
        "outputId": "29b982a7-b430-49c9-f378-83f707f191a0"
      },
      "source": [
        "print(gt_train.loc[gt_train['IsPresent'] == 1]['sign_class'].value_counts())\n",
        "print(np.mean(gt_train.loc[gt_train['IsPresent'] == 1]['sign_class'].value_counts()))"
      ],
      "execution_count": null,
      "outputs": [
        {
          "name": "stdout",
          "output_type": "stream",
          "text": [
            "5_19_1      19913\n",
            "2_1          8620\n",
            "5_16         3751\n",
            "3_27         2409\n",
            "5_20         1841\n",
            "3_24_n40     1804\n",
            "4_1_1        1673\n",
            "3_20         1036\n",
            "5_5           915\n",
            "3_1           868\n",
            "6_4           794\n",
            "7_3           790\n",
            "3_24_n20      696\n",
            "1_22          603\n",
            "2_5           512\n",
            "2_2           479\n",
            "5_6           474\n",
            "3_28          294\n",
            "3_18          219\n",
            "1_1           198\n",
            "3_24_n50      193\n",
            "2_3           191\n",
            "4_3           149\n",
            "3_24_n30      131\n",
            "1_8           120\n",
            "3_24_n80      111\n",
            "7_4           110\n",
            "3_24_n60       87\n",
            "1_33           82\n",
            "3_24_n70       80\n",
            "3_24_n10        9\n",
            "Name: sign_class, dtype: int64\n",
            "1585.5483870967741\n"
          ]
        }
      ]
    },
    {
      "cell_type": "code",
      "metadata": {
        "colab": {
          "base_uri": "https://localhost:8080/"
        },
        "id": "qsOMPCBfJZP9",
        "outputId": "95987bee-e86c-455a-d834-95b71fc90e37"
      },
      "source": [
        "MODEL_CLASSES = sorted(list(included_clases))\n",
        "MODEL_CLASSES\n",
        "\n",
        "from sklearn import preprocessing\n",
        "MODEL_LABEL_ENCODER = preprocessing.LabelEncoder()\n",
        "MODEL_CLASSES_TARGETS = MODEL_LABEL_ENCODER.fit_transform(MODEL_CLASSES)\n",
        "\n",
        "MODEL_CLASS_MAP = dict(zip(MODEL_CLASSES, MODEL_CLASSES_TARGETS))\n",
        "MODEL_CLASS_MAP"
      ],
      "execution_count": null,
      "outputs": [
        {
          "data": {
            "text/plain": [
              "{'1_1': 0,\n",
              " '1_22': 1,\n",
              " '1_33': 2,\n",
              " '1_8': 3,\n",
              " '2_1': 4,\n",
              " '2_2': 5,\n",
              " '2_3': 6,\n",
              " '2_5': 7,\n",
              " '3_1': 8,\n",
              " '3_18': 9,\n",
              " '3_20': 10,\n",
              " '3_24_n10': 11,\n",
              " '3_24_n20': 12,\n",
              " '3_24_n30': 13,\n",
              " '3_24_n40': 14,\n",
              " '3_24_n50': 15,\n",
              " '3_24_n60': 16,\n",
              " '3_24_n70': 17,\n",
              " '3_24_n80': 18,\n",
              " '3_27': 19,\n",
              " '3_28': 20,\n",
              " '4_1_1': 21,\n",
              " '4_3': 22,\n",
              " '5_16': 23,\n",
              " '5_19_1': 24,\n",
              " '5_20': 25,\n",
              " '5_5': 26,\n",
              " '5_6': 27,\n",
              " '6_4': 28,\n",
              " '7_3': 29,\n",
              " '7_4': 30}"
            ]
          },
          "execution_count": 10,
          "metadata": {},
          "output_type": "execute_result"
        }
      ]
    },
    {
      "cell_type": "code",
      "metadata": {
        "id": "5NgwpYo3z8AO"
      },
      "source": [
        "def getPictureSignClass(filename=None, path=None, index=None):\n",
        "    if index:\n",
        "        return gt_train.iloc[index]['sign_class']\n",
        "    if path:\n",
        "      return gt_train[gt_train['filename']==pathlib.Path(path).parts[-1]]['sign_class'].values[0]\n",
        "    else:\n",
        "        if filename:\n",
        "            return gt_train[gt_train['filename']==filename]['sign_class'].values[0]\n",
        "        else:\n",
        "            assert False, 'wrong arg'\n",
        "\n",
        "def getRandomPictureFromTrain():\n",
        "    # instance = gt_train.sample(1)   # fix me or kill me\n",
        "    while(1):\n",
        "        instance = gt_train.sample(axis=0)\n",
        "        # print(instance['IsPresent'].values)\n",
        "        if instance['IsPresent'].values == 1:\n",
        "            instance = instance['filename'].values[0]\n",
        "            break\n",
        "        \n",
        "    # print('!', instance)\n",
        "    path = pathlib.Path(train_dir / instance)\n",
        "    # print(path)\n",
        "    return path, getPictureSignClass(path=path)\n",
        "\n",
        "def showPictureAndClass(path=None, gt_train_index=None):\n",
        "    if path != None:\n",
        "        pass\n",
        "    else:\n",
        "        if gt_train_index == None:\n",
        "            assert False, 'cannot identify picture'\n",
        "        else:\n",
        "            path = train_dir / gt_train.iloc[gt_train_index]['filename']\n",
        "    \n",
        "    sign_class = str(getPictureSignClass(path=path))\n",
        "    \n",
        "    fig = plt.figure(figsize=(4, 4))\n",
        "    img = cv2.imread(str(path))\n",
        "    img = cv2.cvtColor(img, cv2.COLOR_RGB2BGR)\n",
        "    plt.imshow(img)\n",
        "    plt.title(f'Label: {sign_class}')\n",
        "    plt.show()           "
      ],
      "execution_count": null,
      "outputs": []
    },
    {
      "cell_type": "code",
      "metadata": {
        "colab": {
          "base_uri": "https://localhost:8080/",
          "height": 315
        },
        "id": "sf9-Hp6G0CaM",
        "outputId": "f7dfec1b-693b-49ed-fdf1-8d86b413e115"
      },
      "source": [
        "path, class_ = getRandomPictureFromTrain()\n",
        "print(path, class_)\n",
        "showPictureAndClass(path)\n",
        "print(getPictureSignClass(path=path))"
      ],
      "execution_count": null,
      "outputs": [
        {
          "name": "stdout",
          "output_type": "stream",
          "text": [
            "rtsd-r3/data/train/016355.png 2_1\n"
          ]
        },
        {
          "data": {
            "image/png": "[encoded data removed]",
            "text/plain": [
              "<Figure size 288x288 with 1 Axes>"
            ]
          },
          "metadata": {},
          "output_type": "display_data"
        },
        {
          "name": "stdout",
          "output_type": "stream",
          "text": [
            "2_1\n"
          ]
        }
      ]
    },
    {
      "cell_type": "code",
      "metadata": {
        "id": "zSuBWbTX6rrz"
      },
      "source": [
        "class SignDataset(torch.utils.data.Dataset):\n",
        "    def __init__(self, df, dir):\n",
        "        self.df = df[df['IsPresent'] == 1]\n",
        "        self.dir = dir\n",
        "    def __len__(self):\n",
        "        return len(self.df.index)\n",
        "    \n",
        "    def __getitem__(self, index):\n",
        "        label = self.df.iloc[index]['sign_class']\n",
        "        path = self.dir / self.df.iloc[index]['filename']\n",
        "        # print(path)\n",
        "        img = cv2.imread(str(path))\n",
        "        img = cv2.resize(img, (160, 160))\n",
        "        # print(img)\n",
        "        img_tnsr = torch.Tensor.permute(torch.Tensor(img), [2, 0, 1]).div(255)\n",
        "        # print(label)\n",
        "        encoded_label = MODEL_CLASS_MAP[label]\n",
        "        # print(encoded_label)\n",
        "        return img_tnsr, encoded_label"
      ],
      "execution_count": null,
      "outputs": []
    },
    {
      "cell_type": "code",
      "metadata": {
        "colab": {
          "base_uri": "https://localhost:8080/"
        },
        "id": "_M1gc75x8qFl",
        "outputId": "c9ab1bca-cfeb-4cd0-8b12-19db53de868d"
      },
      "source": [
        "batch_size_ = 512\n",
        "train_loader = torch.utils.data.DataLoader(\n",
        "         SignDataset(gt_train, train_dir),\n",
        "        batch_size=batch_size_,\n",
        "        pin_memory=True,\n",
        "        shuffle=True,\n",
        "        num_workers=2,\n",
        "    )\n",
        "# next(iter(train_loader))"
      ],
      "execution_count": null,
      "outputs": [
        {
          "name": "stderr",
          "output_type": "stream",
          "text": [
            "/usr/local/lib/python3.7/dist-packages/torch/utils/data/dataloader.py:481: UserWarning: This DataLoader will create 8 worker processes in total. Our suggested max number of worker in current system is 2, which is smaller than what this DataLoader is going to create. Please be aware that excessive worker creation might get DataLoader running slow or even freeze, lower the worker number to avoid potential slowness/freeze if necessary.\n",
            "  cpuset_checked))\n"
          ]
        }
      ]
    },
    {
      "cell_type": "code",
      "metadata": {
        "id": "AhqWRtSb-ndd"
      },
      "source": [
        "from torchvision import models, transforms as transforms\n",
        "model = models.resnet18(pretrained=True)\n",
        "model.fc = nn.Linear(512, len(MODEL_CLASSES))\n",
        "model.to(device)\n",
        "\n",
        "data_transforms = {\n",
        "    'train': transforms.Compose([\n",
        "        transforms.Resize(244),\n",
        "        #transforms.RandomResizedCrop(input_size),\n",
        "        #transforms.RandomHorizontalFlip(),\n",
        "        transforms.ToTensor(),\n",
        "        transforms.Normalize([0.485, 0.456, 0.406], [0.229, 0.224, 0.225])\n",
        "    ]),\n",
        "    'val': transforms.Compose([\n",
        "        transforms.Resize(244),\n",
        "        #transforms.Resize(input_size),\n",
        "        #transforms.CenterCrop(input_size),\n",
        "        transforms.ToTensor(),\n",
        "        transforms.Normalize([0.485, 0.456, 0.406], [0.229, 0.224, 0.225])\n",
        "    ]),\n",
        "}"
      ],
      "execution_count": null,
      "outputs": []
    },
    {
      "cell_type": "code",
      "metadata": {
        "id": "dcRK0hwMLo7Y"
      },
      "source": [
        "def train_epoch(model, loader, loss_op, optim):\n",
        "    loss_ = []\n",
        "    torch.set_grad_enabled(True)\n",
        "    \n",
        "    # Таким образом переводим модель в режим обучения\n",
        "    # В этом режиме вычисляются градиенты, нужные для обучения\n",
        "    model.train()\n",
        "    \n",
        "    for batch_idx, (imgs_batch, labels_batch) in enumerate(loader):\n",
        "        # print(imgs_batch.shape)\n",
        "        imgs_batch = imgs_batch.to(device)\n",
        "        # print(labels_batch)\n",
        "        labels_batch = labels_batch.to(device)\n",
        "\n",
        "        pred = model(imgs_batch)\n",
        "\n",
        "        loss = loss_op(pred, labels_batch)\n",
        "        # Сохраним в историю эпохи\n",
        "        l_ = loss.item()\n",
        "        loss_.append(l_)\n",
        "        # model.addValidHistoryAcc(l_)\n",
        "        # optim.zero_grad()\n",
        "        for param in model.parameters(): # https://pytorch.org/tutorials/recipes/recipes/tuning_guide.html\n",
        "            param.grad = None\n",
        "        loss.backward()\n",
        "        optim.step()\n",
        "        \n",
        "        if batch_idx % 20 == 0:\n",
        "            print('\\rTrain Epoch: {} [{}/{} ({:.2f}%)]'.\n",
        "                  format(epoch, batch_idx * len(imgs_batch), len(loader.dataset),\n",
        "                 100 * batch_idx * len(imgs_batch) / len(loader.dataset)), flush=True, end='')\n",
        "        \n",
        "    print('\\rTrain Epoch: {} [{}/{} (100%)]     \\n'.\n",
        "                  format(epoch, len(loader.dataset), len(loader.dataset)), flush=True, end='')\n",
        "    \n",
        "    return np.mean(loss_)\n",
        "\n",
        "\n",
        "from sklearn.metrics import accuracy_score\n",
        "\n",
        "def evaluate_batch_accuracy(y_pred, y_true):\n",
        "    '''\n",
        "    Оценка точности предсказания (accuracy)\n",
        "\n",
        "    y_pred:\n",
        "        батч сырых степеней уверенности, размер (N, K)\n",
        "    y_true:\n",
        "        вектор истинных значений, размер (N)\n",
        "    '''\n",
        "    y_pred = y_pred.detach().numpy()\n",
        "    y_true = y_true.detach().numpy()\n",
        "    # print(y_true)\n",
        "    # print(y_pred)\n",
        "    accuracy = 0\n",
        "    for i in range(len(y_true)):\n",
        "        index_max = max(range(len(y_pred[i, :])), key=y_pred[i].__getitem__)\n",
        "        # print(index_max)\n",
        "        if (index_max == y_true[i]):\n",
        "            accuracy += 1\n",
        "    accuracy /= len(y_pred)\n",
        "    return accuracy\n",
        "\n",
        "def valid_epoch(model, loader, loss):\n",
        "    acc_ = []\n",
        "    torch.set_grad_enabled(False)\n",
        "    # Таким образом переводим модель в режим исполнения (inference)\n",
        "    # В этом режиме отключены градиенты, он быстрее, \n",
        "    #   но в нём нельзя обучать модель\n",
        "    model.eval()\n",
        "    for batch_idx, (imgs_batch, labels_batch) in enumerate(loader):\n",
        "        imgs_batch = imgs_batch.to(device)\n",
        "        #print(labels_batch)\n",
        "        labels_batch = labels_batch.to(device)\n",
        "        \n",
        "        pred = model(imgs_batch)\n",
        "        \n",
        "        local_acc = evaluate_batch_accuracy(pred.cpu(), labels_batch.cpu())\n",
        "        acc_.append(local_acc)\n",
        "        \n",
        "        # model.addValidHistoryAcc(local_acc)\n",
        "        \n",
        "        if batch_idx % 20 == 0:\n",
        "            print('\\rValid Epoch: {} [{}/{} ({:.2f}%)]'.\n",
        "                  format(epoch, batch_idx * len(imgs_batch), len(loader.dataset),\n",
        "                 100 * batch_idx * len(imgs_batch) / len(loader.dataset)), flush=True, end='')\n",
        "        \n",
        "    print('\\rValid Epoch: {} [{}/{} (100%)]     \\n'.\n",
        "                  format(epoch, len(loader.dataset), len(loader.dataset)), flush=True, end='')\n",
        "    \n",
        "    return np.mean(acc_)"
      ],
      "execution_count": null,
      "outputs": []
    },
    {
      "cell_type": "code",
      "metadata": {
        "colab": {
          "background_save": true,
          "base_uri": "https://localhost:8080/"
        },
        "id": "Cw7SfWnTQ_lL",
        "outputId": "8786c86a-9d60-4b57-d5dd-24821b7e469c"
      },
      "source": [
        "config = {\n",
        "    'lr': 0.0001,\n",
        "    'epochs': 150,\n",
        "}\n",
        "\n",
        "loss_op = nn.CrossEntropyLoss().cuda()\n",
        "optim = torch.optim.Adadelta(model.parameters(), lr=config['lr'])\n",
        "\n",
        "if os.path.isfile('resnet18_rtsd_test'):\n",
        "    model.load_state_dict(torch.load('resnet18_rtsd_test'))\n",
        "    print('[+] Model restored from save file!')\n",
        "\n",
        "history = {\n",
        "    'train_loss': [],\n",
        "    'valid_acc': []\n",
        "}\n",
        "\n",
        "import shutil\n",
        "from datetime import datetime\n",
        "model.to(device)\n",
        "\n",
        "for epoch in range(config['epochs']):\n",
        "    \n",
        "\n",
        "    history['train_loss'].append(train_epoch(model, train_loader, loss_op, optim))\n",
        "\n",
        "    print(f'Epoch {epoch}:')\n",
        "    print('  Train loss:', history['train_loss'][-1])\n",
        "\n",
        "    history['valid_acc'].append(valid_epoch(model, train_loader, loss_op))\n",
        "    # model.incIter()\n",
        "    print('  Valid acc:', history['valid_acc'][-1])\n",
        "    \n",
        "    now = datetime.now()\n",
        "    model_save_name = 'resnet18_rtsd_test_{}_loss{:.4f}_acc_{:.4f}'.format(now.strftime(\"%m.%d_%H.%M\"),\n",
        "                                                                  history['train_loss'][-1],\n",
        "                                                                  history['valid_acc'][-1],\n",
        "                                                         )\n",
        "\n",
        "    torch.save(model.state_dict(), model_save_name)\n",
        "    shutil.copy2(model_save_name, '/content/gdrive/MyDrive/MastersD/RTSD_dataset+/rtsd-r3/')\n",
        "\n",
        "    torch.save(model.state_dict(), 'resnet18_rtsd_test')\n",
        "    shutil.copy2('resnet18_rtsd_test', '/content/gdrive/MyDrive/MastersD/RTSD_dataset+/rtsd-r3/')\n",
        "    \n",
        "\n",
        "print(history)"
      ],
      "execution_count": null,
      "outputs": [
        {
          "name": "stdout",
          "output_type": "stream",
          "text": [
            "[+] Model restored from save file!\n"
          ]
        },
        {
          "name": "stderr",
          "output_type": "stream",
          "text": [
            "/usr/local/lib/python3.7/dist-packages/torch/utils/data/dataloader.py:481: UserWarning: This DataLoader will create 8 worker processes in total. Our suggested max number of worker in current system is 2, which is smaller than what this DataLoader is going to create. Please be aware that excessive worker creation might get DataLoader running slow or even freeze, lower the worker number to avoid potential slowness/freeze if necessary.\n",
            "  cpuset_checked))\n",
            "/usr/local/lib/python3.7/dist-packages/torch/nn/functional.py:718: UserWarning: Named tensors and all their associated APIs are an experimental feature and subject to change. Please do not use them for anything important until they are released as stable. (Triggered internally at  /pytorch/c10/core/TensorImpl.h:1156.)\n",
            "  return torch.max_pool2d(input, kernel_size, stride, padding, dilation, ceil_mode)\n"
          ]
        },
        {
          "name": "stdout",
          "output_type": "stream",
          "text": [
            "Train Epoch: 0 [49152/49152 (100%)]     \n",
            "Epoch 0:\n",
            "  Train loss: 0.4431831904997428\n",
            "Valid Epoch: 0 [49152/49152 (100%)]     \n",
            "  Valid acc: 0.9030965169270834\n",
            "Train Epoch: 1 [49152/49152 (100%)]     \n",
            "Epoch 1:\n",
            "  Train loss: 0.4400562938923637\n",
            "Valid Epoch: 1 [49152/49152 (100%)]     \n",
            "  Valid acc: 0.9038899739583334\n",
            "Train Epoch: 2 [49152/49152 (100%)]     \n",
            "Epoch 2:\n",
            "  Train loss: 0.4360350891947746\n",
            "Valid Epoch: 2 [49152/49152 (100%)]     \n",
            "  Valid acc: 0.9045206705729166\n",
            "Train Epoch: 3 [49152/49152 (100%)]     \n",
            "Epoch 3:\n",
            "  Train loss: 0.4331373531992237\n",
            "Valid Epoch: 3 [49152/49152 (100%)]     \n",
            "  Valid acc: 0.9049886067708334\n",
            "Train Epoch: 4 [49152/49152 (100%)]     \n",
            "Epoch 4:\n",
            "  Train loss: 0.43000386841595173\n",
            "Valid Epoch: 4 [49152/49152 (100%)]     \n",
            "  Valid acc: 0.9053751627604166\n",
            "Train Epoch: 5 [49152/49152 (100%)]     \n",
            "Epoch 5:\n",
            "  Train loss: 0.4262792070706685\n",
            "Valid Epoch: 5 [49152/49152 (100%)]     \n",
            "  Valid acc: 0.9060872395833334\n",
            "Train Epoch: 6 [40960/49152 (83.33%)]"
          ]
        }
      ]
    }
  ]
}