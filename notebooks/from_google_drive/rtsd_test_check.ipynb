{
  "nbformat": 4,
  "nbformat_minor": 0,
  "metadata": {
    "colab": {
      "name": "rtsd_test_check.ipynb",
      "provenance": [],
      "collapsed_sections": []
    },
    "kernelspec": {
      "name": "python3",
      "display_name": "Python 3"
    },
    "language_info": {
      "name": "python"
    },
    "accelerator": "GPU"
  },
  "cells": [
    {
      "cell_type": "code",
      "metadata": {
        "id": "jaeI1Z-viWsQ"
      },
      "source": [
        "# !gdown --id '1eKNfEuNQadRW1H4NOoMw5sdnyHV14ze0'\n",
        "# !unzip rtsd-r3.zip"
      ],
      "execution_count": null,
      "outputs": []
    },
    {
      "cell_type": "code",
      "metadata": {
        "colab": {
          "base_uri": "https://localhost:8080/"
        },
        "id": "oRkpfs0XrPpF",
        "outputId": "4082be05-4e4f-44ef-d53a-71145de5b11d"
      },
      "source": [
        "%cd rtsd-r3"
      ],
      "execution_count": null,
      "outputs": [
        {
          "output_type": "stream",
          "name": "stdout",
          "text": [
            "/content/rtsd-r3\n"
          ]
        }
      ]
    },
    {
      "cell_type": "code",
      "metadata": {
        "colab": {
          "base_uri": "https://localhost:8080/"
        },
        "id": "kROabcYAjynv",
        "outputId": "e7637af1-780c-4a82-d1b3-5057481246ca"
      },
      "source": [
        "import matplotlib.pyplot as plt\n",
        "import numpy as np\n",
        "import random\n",
        "import torch\n",
        "from torch import nn\n",
        "import seaborn as sns\n",
        "import pandas as pd\n",
        "import os\n",
        "import pathlib\n",
        "import shutil\n",
        "import cv2\n",
        "import PIL\n",
        "\n",
        "TEXT_COLOR = 'black'\n",
        "\n",
        "# Зафиксируем состояние случайных чисел\n",
        "RANDOM_STATE = 42\n",
        "np.random.seed(RANDOM_STATE)\n",
        "torch.manual_seed(RANDOM_STATE)\n",
        "random.seed(RANDOM_STATE)\n",
        "\n",
        "device = torch.device('cuda' if torch.cuda.is_available() else 'cpu')\n",
        "device"
      ],
      "execution_count": null,
      "outputs": [
        {
          "output_type": "execute_result",
          "data": {
            "text/plain": [
              "device(type='cpu')"
            ]
          },
          "metadata": {},
          "execution_count": 3
        }
      ]
    },
    {
      "cell_type": "code",
      "metadata": {
        "id": "G7Cj4uoNj2L9"
      },
      "source": [
        "PROJECT_ROOT = pathlib.Path('') #pathlib.Path(os.path.join(os.curdir, os.pardir))\n",
        "ROOT_DIR = PROJECT_ROOT / 'data'\n",
        "test_dir_source = ROOT_DIR / 'test'\n",
        "test_dir = ROOT_DIR / 'test'"
      ],
      "execution_count": null,
      "outputs": []
    },
    {
      "cell_type": "code",
      "metadata": {
        "id": "C1ZULEpOj8b2"
      },
      "source": [
        "gt_test = pd.read_csv(ROOT_DIR / 'gt_test.csv')\n",
        "numbers_to_classes = pd.read_csv(ROOT_DIR / 'numbers_to_classes.csv')\n",
        "\n",
        "gt_test = pd.merge(gt_test, numbers_to_classes, on='class_number', how='left', validate='many_to_one', copy=False)\n",
        "gt_test.drop(['class_number'], inplace=True, axis=1)\n",
        "gt_test['IsPresent'] = pd.Series([1 for x in range(len(gt_test.index))])\n",
        "\n",
        "del numbers_to_classes"
      ],
      "execution_count": null,
      "outputs": []
    },
    {
      "cell_type": "code",
      "metadata": {
        "colab": {
          "base_uri": "https://localhost:8080/",
          "height": 779
        },
        "id": "d-z0kg5EkJwf",
        "outputId": "e2853712-f55e-4e4b-d8c7-b5d484c2a23f"
      },
      "source": [
        "display(gt_test)\n",
        "print(gt_test['sign_class'].value_counts().to_json())\n",
        "_, ax = plt.subplots(figsize=(21, 7))\n",
        "plt.xticks(rotation=90)\n",
        "sns.countplot(x='sign_class', data=gt_test, ax=ax);"
      ],
      "execution_count": null,
      "outputs": [
        {
          "output_type": "display_data",
          "data": {
            "text/html": [
              "<div>\n",
              "<style scoped>\n",
              "    .dataframe tbody tr th:only-of-type {\n",
              "        vertical-align: middle;\n",
              "    }\n",
              "\n",
              "    .dataframe tbody tr th {\n",
              "        vertical-align: top;\n",
              "    }\n",
              "\n",
              "    .dataframe thead th {\n",
              "        text-align: right;\n",
              "    }\n",
              "</style>\n",
              "<table border=\"1\" class=\"dataframe\">\n",
              "  <thead>\n",
              "    <tr style=\"text-align: right;\">\n",
              "      <th></th>\n",
              "      <th>filename</th>\n",
              "      <th>sign_class</th>\n",
              "      <th>IsPresent</th>\n",
              "    </tr>\n",
              "  </thead>\n",
              "  <tbody>\n",
              "    <tr>\n",
              "      <th>0</th>\n",
              "      <td>000000.png</td>\n",
              "      <td>5_19_1</td>\n",
              "      <td>1</td>\n",
              "    </tr>\n",
              "    <tr>\n",
              "      <th>1</th>\n",
              "      <td>000001.png</td>\n",
              "      <td>5_19_1</td>\n",
              "      <td>1</td>\n",
              "    </tr>\n",
              "    <tr>\n",
              "      <th>2</th>\n",
              "      <td>000002.png</td>\n",
              "      <td>5_19_1</td>\n",
              "      <td>1</td>\n",
              "    </tr>\n",
              "    <tr>\n",
              "      <th>3</th>\n",
              "      <td>000003.png</td>\n",
              "      <td>5_19_1</td>\n",
              "      <td>1</td>\n",
              "    </tr>\n",
              "    <tr>\n",
              "      <th>4</th>\n",
              "      <td>000004.png</td>\n",
              "      <td>5_19_1</td>\n",
              "      <td>1</td>\n",
              "    </tr>\n",
              "    <tr>\n",
              "      <th>...</th>\n",
              "      <td>...</td>\n",
              "      <td>...</td>\n",
              "      <td>...</td>\n",
              "    </tr>\n",
              "    <tr>\n",
              "      <th>22962</th>\n",
              "      <td>022962.png</td>\n",
              "      <td>5_15_5</td>\n",
              "      <td>1</td>\n",
              "    </tr>\n",
              "    <tr>\n",
              "      <th>22963</th>\n",
              "      <td>022963.png</td>\n",
              "      <td>5_15_5</td>\n",
              "      <td>1</td>\n",
              "    </tr>\n",
              "    <tr>\n",
              "      <th>22964</th>\n",
              "      <td>022964.png</td>\n",
              "      <td>5_15_5</td>\n",
              "      <td>1</td>\n",
              "    </tr>\n",
              "    <tr>\n",
              "      <th>22965</th>\n",
              "      <td>022965.png</td>\n",
              "      <td>5_15_5</td>\n",
              "      <td>1</td>\n",
              "    </tr>\n",
              "    <tr>\n",
              "      <th>22966</th>\n",
              "      <td>022966.png</td>\n",
              "      <td>1_22</td>\n",
              "      <td>1</td>\n",
              "    </tr>\n",
              "  </tbody>\n",
              "</table>\n",
              "<p>22967 rows × 3 columns</p>\n",
              "</div>"
            ],
            "text/plain": [
              "         filename sign_class  IsPresent\n",
              "0      000000.png     5_19_1          1\n",
              "1      000001.png     5_19_1          1\n",
              "2      000002.png     5_19_1          1\n",
              "3      000003.png     5_19_1          1\n",
              "4      000004.png     5_19_1          1\n",
              "...           ...        ...        ...\n",
              "22962  022962.png     5_15_5          1\n",
              "22963  022963.png     5_15_5          1\n",
              "22964  022964.png     5_15_5          1\n",
              "22965  022965.png     5_15_5          1\n",
              "22966  022966.png       1_22          1\n",
              "\n",
              "[22967 rows x 3 columns]"
            ]
          },
          "metadata": {}
        },
        {
          "output_type": "stream",
          "name": "stdout",
          "text": [
            "{\"5_19_1\":4196,\"2_1\":2314,\"5_16\":1393,\"5_15_2\":1348,\"3_27\":1131,\"5_15_3\":973,\"3_20\":761,\"5_15_2_2\":688,\"4_1_1\":653,\"5_15_5\":649,\"5_15_1\":613,\"4_2_1\":486,\"1_23\":462,\"2_3_2\":404,\"3_24_n40\":377,\"1_22\":341,\"4_2_3\":333,\"7_3\":308,\"4_1_4\":295,\"5_15_7\":287,\"6_4\":280,\"2_3\":241,\"1_8\":233,\"2_3_3\":231,\"1_25\":214,\"1_11_1\":169,\"5_20\":166,\"6_6\":152,\"3_24_n20\":132,\"1_11\":131,\"3_1\":115,\"4_1_2\":114,\"1_12\":112,\"4_2_2\":110,\"1_17\":108,\"1_16\":106,\"6_3_1\":105,\"5_5\":94,\"1_14\":94,\"1_15\":90,\"3_29\":75,\"3_24_n70\":74,\"3_24_n50\":74,\"3_4_1\":73,\"3_24_n5\":73,\"3_2\":68,\"1_13\":64,\"4_1_5\":63,\"7_12\":63,\"2_2\":63,\"1_20_2\":61,\"5_14\":59,\"5_6\":58,\"7_7\":57,\"3_18\":52,\"1_12_2\":47,\"4_1_2_1\":47,\"7_2\":46,\"1_20\":45,\"3_28\":45,\"1_27\":45,\"1_33\":44,\"6_2_n20\":42,\"5_7_1\":39,\"4_1_2_2\":37,\"3_19\":34,\"7_4\":34,\"7_1\":34,\"3_32\":33,\"3_13_r4.5\":28,\"7_11\":27,\"4_3\":25,\"2_5\":23,\"3_24_n10\":23,\"7_5\":22,\"3_18_2\":21,\"3_30\":20,\"7_6\":18,\"1_20_3\":17,\"6_7\":16,\"3_24_n60\":16,\"3_24_n30\":15,\"6_2_n50\":15,\"3_10\":15,\"5_7_2\":14,\"3_24_n80\":13,\"1_5\":13,\"1_1\":10,\"4_1_3\":10,\"1_2\":9,\"5_3\":8,\"4_1_6\":7,\"6_2_n70\":6,\"5_21\":6,\"1_21\":5,\"1_18\":4,\"3_13_r3.5\":3}\n"
          ]
        },
        {
          "output_type": "display_data",
          "data": {
            "image/png": "[encoded data removed]",
            "text/plain": [
              "<Figure size 1512x504 with 1 Axes>"
            ]
          },
          "metadata": {
            "needs_background": "light"
          }
        }
      ]
    },
    {
      "cell_type": "code",
      "metadata": {
        "colab": {
          "base_uri": "https://localhost:8080/"
        },
        "id": "1RLXI26Nkpsn",
        "outputId": "09fda647-1192-4b1c-f2f0-ec0ea58ab556"
      },
      "source": [
        "EXTRACT_BIG = True\n",
        "EXTRACT_SPECIFIC_CLASSES = True\n",
        "\n",
        "if EXTRACT_SPECIFIC_CLASSES == False:\n",
        "    CLASSES = gt_test['sign_class'].values\n",
        "    print(\"[!] Assume classification for all of available classes\")\n",
        "    \n",
        "else:\n",
        "    CLASSES = [\n",
        "        '1_1', '1_6', '1_8', '1_22', '1_31', '1_33', '2_1', '2_2', \n",
        "        # ~2_3_1\n",
        "        '2_3', \\\n",
        "        # /~2_3_1\n",
        "        '2_4', '2_5', '3_1', \n",
        "        # ~3_18_1\n",
        "        '3_18', \n",
        "        # /~3_18_1\n",
        "        '3_20', '3_21', '3_22', '3_23', \\\n",
        "        # all speed limits\n",
        "        '3_24_n10', '3_24_n20', '3_24_n30', '3_24_n40', '3_24_n50', '3_24_n60', \\\n",
        "        '3_24_n70', '3_24_n80', '3_24_n90', '3_24_n100', '3_24_n110', '3_24_n120', '3_24_n130', \\\n",
        "        # /all speed limits\n",
        "        '3_25', '3_27', '3_28', '3_31', '4_1_1', '4_3', '5_5', '5_6', '5_16', \n",
        "        '5_19_1',  \n",
        "        #'5_19_2', \\ ~ '5_19_1'\n",
        "        '5_20', '6_3_2', '6_4', '7_3', '7_4'\n",
        "    ]\n",
        "    print(\"[+] Classification for all of those classes:\\n\", CLASSES)\n",
        "\n",
        "def printProgressEnum(index, length, label=None):\n",
        "    print('\\r{}Progress: {}/{} ({:.2f}%)'.\n",
        "                  format(label if label != None else '', index + 1, length, 100 * (index + 1) / length), flush=True, end='')\n",
        "\n",
        "def getPictureSignClass(filename=None, path=None, index=None):\n",
        "    if index:\n",
        "        return gt_test.iloc[index]['sign_class']\n",
        "    if path:\n",
        "        return gt_test[gt_test['filename']==str(path).split(sep='\\\\')[-1]]['sign_class'].values[0]\n",
        "    else:\n",
        "        if filename:\n",
        "            return gt_test[gt_test['filename']==filename]['sign_class'].values[0]\n",
        "        else:\n",
        "            assert False, 'wrong arg'\n",
        "\n",
        "if EXTRACT_BIG == True:\n",
        "  \n",
        "    included_clases = set()\n",
        "    \n",
        "    gt_test_size = len(gt_test.index)\n",
        "    \n",
        "    for index, row in gt_test.iterrows():\n",
        "\n",
        "        full_path_to_image = test_dir_source / row['filename']\n",
        "        \n",
        "        class_for_current_image = row['sign_class']\n",
        "                \n",
        "        if class_for_current_image in CLASSES:\n",
        "          included_clases.add(class_for_current_image)\n",
        "          # shutil.copy2(full_path_to_image, train_dir)\n",
        "        else:\n",
        "          gt_test.loc[index, 'IsPresent'] = 0\n",
        "          # print('\\n[!]', class_for_current_image, 'is not CLASSES')\n",
        "\n",
        "        \n",
        "        if (index % 100 == 0) or (index + 1 == gt_test_size):\n",
        "            printProgressEnum(index, gt_test_size)\n",
        "    \n",
        "    not_included_signs = set(CLASSES) - included_clases\n",
        "    if not_included_signs:\n",
        "        print('\\n[!] These signs were not included: \\n', not_included_signs)"
      ],
      "execution_count": null,
      "outputs": [
        {
          "output_type": "stream",
          "name": "stdout",
          "text": [
            "[+] Classification for all of those classes:\n",
            " ['1_1', '1_6', '1_8', '1_22', '1_31', '1_33', '2_1', '2_2', '2_3', '2_4', '2_5', '3_1', '3_18', '3_20', '3_21', '3_22', '3_23', '3_24_n10', '3_24_n20', '3_24_n30', '3_24_n40', '3_24_n50', '3_24_n60', '3_24_n70', '3_24_n80', '3_24_n90', '3_24_n100', '3_24_n110', '3_24_n120', '3_24_n130', '3_25', '3_27', '3_28', '3_31', '4_1_1', '4_3', '5_5', '5_6', '5_16', '5_19_1', '5_20', '6_3_2', '6_4', '7_3', '7_4']\n",
            "Progress: 22967/22967 (100.00%)\n",
            "[!] These signs were not included: \n",
            " {'3_22', '1_31', '3_24_n130', '3_24_n120', '1_6', '3_24_n90', '6_3_2', '3_24_n110', '3_31', '3_21', '3_25', '2_4', '3_23', '3_24_n100'}\n"
          ]
        }
      ]
    },
    {
      "cell_type": "code",
      "metadata": {
        "colab": {
          "base_uri": "https://localhost:8080/"
        },
        "id": "EEjF_2yflBBI",
        "outputId": "d88e9186-f527-448c-c98d-8338855f97aa"
      },
      "source": [
        "print(gt_test.loc[gt_test['IsPresent'] == 1]['sign_class'].value_counts())\n",
        "print(np.mean(gt_test.loc[gt_test['IsPresent'] == 1]['sign_class'].value_counts()))"
      ],
      "execution_count": null,
      "outputs": [
        {
          "output_type": "stream",
          "name": "stdout",
          "text": [
            "5_19_1      4196\n",
            "2_1         2314\n",
            "5_16        1393\n",
            "3_27        1131\n",
            "3_20         761\n",
            "4_1_1        653\n",
            "3_24_n40     377\n",
            "1_22         341\n",
            "7_3          308\n",
            "6_4          280\n",
            "2_3          241\n",
            "1_8          233\n",
            "5_20         166\n",
            "3_24_n20     132\n",
            "3_1          115\n",
            "5_5           94\n",
            "3_24_n50      74\n",
            "3_24_n70      74\n",
            "2_2           63\n",
            "5_6           58\n",
            "3_18          52\n",
            "3_28          45\n",
            "1_33          44\n",
            "7_4           34\n",
            "4_3           25\n",
            "3_24_n10      23\n",
            "2_5           23\n",
            "3_24_n60      16\n",
            "3_24_n30      15\n",
            "3_24_n80      13\n",
            "1_1           10\n",
            "Name: sign_class, dtype: int64\n",
            "429.16129032258067\n"
          ]
        }
      ]
    },
    {
      "cell_type": "code",
      "metadata": {
        "colab": {
          "base_uri": "https://localhost:8080/"
        },
        "id": "YwvtXiY-lDeW",
        "outputId": "437a66e6-a25a-42d7-a133-0bbae3322aa0"
      },
      "source": [
        "MODEL_CLASSES = sorted(list(included_clases))\n",
        "MODEL_CLASSES\n",
        "\n",
        "from sklearn import preprocessing\n",
        "MODEL_LABEL_ENCODER = preprocessing.LabelEncoder()\n",
        "MODEL_CLASSES_TARGETS = MODEL_LABEL_ENCODER.fit_transform(MODEL_CLASSES)\n",
        "\n",
        "MODEL_CLASS_MAP = dict(zip(MODEL_CLASSES, MODEL_CLASSES_TARGETS))\n",
        "MODEL_CLASS_MAP"
      ],
      "execution_count": null,
      "outputs": [
        {
          "output_type": "execute_result",
          "data": {
            "text/plain": [
              "{'1_1': 0,\n",
              " '1_22': 1,\n",
              " '1_33': 2,\n",
              " '1_8': 3,\n",
              " '2_1': 4,\n",
              " '2_2': 5,\n",
              " '2_3': 6,\n",
              " '2_5': 7,\n",
              " '3_1': 8,\n",
              " '3_18': 9,\n",
              " '3_20': 10,\n",
              " '3_24_n10': 11,\n",
              " '3_24_n20': 12,\n",
              " '3_24_n30': 13,\n",
              " '3_24_n40': 14,\n",
              " '3_24_n50': 15,\n",
              " '3_24_n60': 16,\n",
              " '3_24_n70': 17,\n",
              " '3_24_n80': 18,\n",
              " '3_27': 19,\n",
              " '3_28': 20,\n",
              " '4_1_1': 21,\n",
              " '4_3': 22,\n",
              " '5_16': 23,\n",
              " '5_19_1': 24,\n",
              " '5_20': 25,\n",
              " '5_5': 26,\n",
              " '5_6': 27,\n",
              " '6_4': 28,\n",
              " '7_3': 29,\n",
              " '7_4': 30}"
            ]
          },
          "metadata": {},
          "execution_count": 9
        }
      ]
    },
    {
      "cell_type": "code",
      "metadata": {
        "id": "GxiTbG17lIv2"
      },
      "source": [
        "def getPictureSignClass(filename=None, path=None, index=None):\n",
        "    if index:\n",
        "        return gt_test.iloc[index]['sign_class']\n",
        "    if path:\n",
        "      return gt_test[gt_test['filename']==pathlib.Path(path).parts[-1]]['sign_class'].values[0]\n",
        "    else:\n",
        "        if filename:\n",
        "            return gt_test[gt_test['filename']==filename]['sign_class'].values[0]\n",
        "        else:\n",
        "            assert False, 'wrong arg'\n",
        "\n",
        "def getRandomPictureFromTest():\n",
        "    # instance = gt_test.sample(1)   # fix me or kill me\n",
        "    while(1):\n",
        "        instance = gt_test.sample(axis=0)\n",
        "        # print(instance['IsPresent'].values)\n",
        "        if instance['IsPresent'].values == 1:\n",
        "            instance = instance['filename'].values[0]\n",
        "            break\n",
        "        \n",
        "    # print('!', instance)\n",
        "    path = pathlib.Path(test_dir / instance)\n",
        "    # print(path)\n",
        "    return path, getPictureSignClass(path=path)\n",
        "\n",
        "def showPictureAndClass(path=None, gt_test_index=None):\n",
        "    if path != None:\n",
        "        pass\n",
        "    else:\n",
        "        if gt_test_index == None:\n",
        "            assert False, 'cannot identify picture'\n",
        "        else:\n",
        "            path = test_dir / gt_test.iloc[gt_test_index]['filename']\n",
        "    \n",
        "    sign_class = str(getPictureSignClass(path=path))\n",
        "    \n",
        "    fig = plt.figure(figsize=(4, 4))\n",
        "    img = cv2.imread(str(path))\n",
        "    img = cv2.cvtColor(img, cv2.COLOR_RGB2BGR)\n",
        "    plt.imshow(img)\n",
        "    plt.title(f'Label: {sign_class}')\n",
        "    plt.show()  "
      ],
      "execution_count": null,
      "outputs": []
    },
    {
      "cell_type": "code",
      "metadata": {
        "colab": {
          "base_uri": "https://localhost:8080/",
          "height": 315
        },
        "id": "bo2kGdjSlI12",
        "outputId": "ae2709d3-c84f-439e-abe9-c400d85d8f68"
      },
      "source": [
        "path, class_ = getRandomPictureFromTest()\n",
        "print(path, class_)\n",
        "showPictureAndClass(path)\n",
        "print(getPictureSignClass(path=path))"
      ],
      "execution_count": null,
      "outputs": [
        {
          "output_type": "stream",
          "name": "stdout",
          "text": [
            "data/test/009482.png 7_3\n"
          ]
        },
        {
          "output_type": "display_data",
          "data": {
            "image/png": "[encoded data removed]",
            "text/plain": [
              "<Figure size 288x288 with 1 Axes>"
            ]
          },
          "metadata": {
            "needs_background": "light"
          }
        },
        {
          "output_type": "stream",
          "name": "stdout",
          "text": [
            "7_3\n"
          ]
        }
      ]
    },
    {
      "cell_type": "code",
      "metadata": {
        "id": "ISgcipO-lMp2"
      },
      "source": [
        "class SignDataset(torch.utils.data.Dataset):\n",
        "    def __init__(self, df, dir):\n",
        "        self.df = df[df['IsPresent'] == 1]\n",
        "        self.dir = dir\n",
        "    def __len__(self):\n",
        "        return len(self.df.index)\n",
        "    \n",
        "    def __getitem__(self, index):\n",
        "        label = self.df.iloc[index]['sign_class']\n",
        "        path = self.dir / self.df.iloc[index]['filename']\n",
        "        # print(path)\n",
        "        img = cv2.imread(str(path))\n",
        "        img = cv2.resize(img, (160, 160))\n",
        "        # print(img)\n",
        "        img_tnsr = torch.Tensor.permute(torch.Tensor(img), [2, 0, 1]).div(255)\n",
        "        # print(label)\n",
        "        encoded_label = MODEL_CLASS_MAP[label]\n",
        "        # print(encoded_label)\n",
        "        return img_tnsr, encoded_label"
      ],
      "execution_count": null,
      "outputs": []
    },
    {
      "cell_type": "code",
      "metadata": {
        "colab": {
          "base_uri": "https://localhost:8080/"
        },
        "id": "JEecfY7bqFRP",
        "outputId": "a4449364-c409-4021-f58b-f98feb977e55"
      },
      "source": [
        "sd = SignDataset(gt_test, test_dir)\n",
        "sd[3]"
      ],
      "execution_count": null,
      "outputs": [
        {
          "output_type": "execute_result",
          "data": {
            "text/plain": [
              "(tensor([[[0.7961, 0.7961, 0.7961,  ..., 0.5843, 0.5843, 0.5843],\n",
              "          [0.7961, 0.7961, 0.7961,  ..., 0.5843, 0.5843, 0.5843],\n",
              "          [0.7961, 0.7961, 0.7922,  ..., 0.5804, 0.5843, 0.5843],\n",
              "          ...,\n",
              "          [0.5843, 0.5843, 0.5843,  ..., 0.4706, 0.4745, 0.4745],\n",
              "          [0.5843, 0.5843, 0.5843,  ..., 0.4745, 0.4745, 0.4745],\n",
              "          [0.5843, 0.5843, 0.5843,  ..., 0.4745, 0.4745, 0.4745]],\n",
              " \n",
              "         [[0.6510, 0.6510, 0.6510,  ..., 0.6667, 0.6667, 0.6667],\n",
              "          [0.6510, 0.6510, 0.6510,  ..., 0.6667, 0.6667, 0.6667],\n",
              "          [0.6510, 0.6510, 0.6510,  ..., 0.6667, 0.6667, 0.6667],\n",
              "          ...,\n",
              "          [0.5647, 0.5647, 0.5647,  ..., 0.5647, 0.5647, 0.5647],\n",
              "          [0.5647, 0.5647, 0.5647,  ..., 0.5647, 0.5647, 0.5647],\n",
              "          [0.5647, 0.5647, 0.5647,  ..., 0.5647, 0.5647, 0.5647]],\n",
              " \n",
              "         [[0.5725, 0.5725, 0.5725,  ..., 0.6078, 0.6078, 0.6078],\n",
              "          [0.5725, 0.5725, 0.5725,  ..., 0.6078, 0.6078, 0.6078],\n",
              "          [0.5725, 0.5725, 0.5725,  ..., 0.6078, 0.6078, 0.6078],\n",
              "          ...,\n",
              "          [0.4667, 0.4667, 0.4667,  ..., 0.5098, 0.5098, 0.5098],\n",
              "          [0.4667, 0.4667, 0.4667,  ..., 0.5098, 0.5098, 0.5098],\n",
              "          [0.4667, 0.4667, 0.4667,  ..., 0.5098, 0.5098, 0.5098]]]), 24)"
            ]
          },
          "metadata": {},
          "execution_count": 13
        }
      ]
    },
    {
      "cell_type": "code",
      "metadata": {
        "colab": {
          "base_uri": "https://localhost:8080/"
        },
        "id": "7s-F3IEylN3X",
        "outputId": "1605c9ae-d3cc-44e5-bbd6-ef6a3ec9f339"
      },
      "source": [
        "batch_size_ = 512\n",
        "test_loader = torch.utils.data.DataLoader(\n",
        "        SignDataset(gt_test, test_dir),\n",
        "        batch_size=batch_size_,\n",
        "        pin_memory=True,\n",
        "        shuffle=True,\n",
        "        num_workers=2,\n",
        "    )\n",
        "next(iter(test_loader))"
      ],
      "execution_count": null,
      "outputs": [
        {
          "output_type": "execute_result",
          "data": {
            "text/plain": [
              "[tensor([[[[0.6471, 0.6471, 0.6471,  ..., 0.6510, 0.6510, 0.6510],\n",
              "           [0.6471, 0.6471, 0.6471,  ..., 0.6510, 0.6510, 0.6510],\n",
              "           [0.6471, 0.6471, 0.6471,  ..., 0.6510, 0.6510, 0.6510],\n",
              "           ...,\n",
              "           [0.3059, 0.3059, 0.3059,  ..., 0.3412, 0.3412, 0.3412],\n",
              "           [0.3059, 0.3059, 0.3059,  ..., 0.3412, 0.3412, 0.3412],\n",
              "           [0.3059, 0.3059, 0.3059,  ..., 0.3412, 0.3412, 0.3412]],\n",
              " \n",
              "          [[0.6549, 0.6549, 0.6549,  ..., 0.6471, 0.6471, 0.6471],\n",
              "           [0.6549, 0.6549, 0.6549,  ..., 0.6471, 0.6471, 0.6471],\n",
              "           [0.6549, 0.6549, 0.6549,  ..., 0.6471, 0.6471, 0.6471],\n",
              "           ...,\n",
              "           [0.3020, 0.3020, 0.3020,  ..., 0.3137, 0.3137, 0.3137],\n",
              "           [0.3020, 0.3020, 0.3020,  ..., 0.3137, 0.3137, 0.3137],\n",
              "           [0.3020, 0.3020, 0.3020,  ..., 0.3137, 0.3137, 0.3137]],\n",
              " \n",
              "          [[0.6588, 0.6588, 0.6588,  ..., 0.6549, 0.6549, 0.6549],\n",
              "           [0.6588, 0.6588, 0.6588,  ..., 0.6549, 0.6549, 0.6549],\n",
              "           [0.6588, 0.6588, 0.6588,  ..., 0.6549, 0.6549, 0.6549],\n",
              "           ...,\n",
              "           [0.3176, 0.3176, 0.3176,  ..., 0.3255, 0.3255, 0.3255],\n",
              "           [0.3176, 0.3176, 0.3176,  ..., 0.3255, 0.3255, 0.3255],\n",
              "           [0.3176, 0.3176, 0.3176,  ..., 0.3255, 0.3255, 0.3255]]],\n",
              " \n",
              " \n",
              "         [[[0.1216, 0.1216, 0.1216,  ..., 0.0980, 0.0980, 0.0980],\n",
              "           [0.1216, 0.1216, 0.1216,  ..., 0.0980, 0.0980, 0.0980],\n",
              "           [0.1216, 0.1216, 0.1216,  ..., 0.0980, 0.0980, 0.0980],\n",
              "           ...,\n",
              "           [0.1176, 0.1176, 0.1176,  ..., 0.1216, 0.1216, 0.1216],\n",
              "           [0.1176, 0.1176, 0.1176,  ..., 0.1216, 0.1216, 0.1216],\n",
              "           [0.1176, 0.1176, 0.1176,  ..., 0.1216, 0.1216, 0.1216]],\n",
              " \n",
              "          [[0.1098, 0.1098, 0.1098,  ..., 0.1451, 0.1451, 0.1451],\n",
              "           [0.1098, 0.1098, 0.1098,  ..., 0.1451, 0.1451, 0.1451],\n",
              "           [0.1098, 0.1098, 0.1098,  ..., 0.1451, 0.1451, 0.1451],\n",
              "           ...,\n",
              "           [0.1294, 0.1294, 0.1294,  ..., 0.1882, 0.1882, 0.1882],\n",
              "           [0.1294, 0.1294, 0.1294,  ..., 0.1882, 0.1882, 0.1882],\n",
              "           [0.1294, 0.1294, 0.1294,  ..., 0.1882, 0.1882, 0.1882]],\n",
              " \n",
              "          [[0.1176, 0.1176, 0.1176,  ..., 0.1451, 0.1451, 0.1451],\n",
              "           [0.1176, 0.1176, 0.1176,  ..., 0.1451, 0.1451, 0.1451],\n",
              "           [0.1176, 0.1176, 0.1176,  ..., 0.1451, 0.1451, 0.1451],\n",
              "           ...,\n",
              "           [0.1216, 0.1216, 0.1216,  ..., 0.1529, 0.1529, 0.1529],\n",
              "           [0.1216, 0.1216, 0.1216,  ..., 0.1529, 0.1529, 0.1529],\n",
              "           [0.1216, 0.1216, 0.1216,  ..., 0.1529, 0.1529, 0.1529]]],\n",
              " \n",
              " \n",
              "         [[[0.1882, 0.1882, 0.1882,  ..., 0.1843, 0.1843, 0.1843],\n",
              "           [0.1882, 0.1882, 0.1882,  ..., 0.1843, 0.1843, 0.1843],\n",
              "           [0.1882, 0.1882, 0.1882,  ..., 0.1843, 0.1843, 0.1843],\n",
              "           ...,\n",
              "           [0.1725, 0.1725, 0.1725,  ..., 0.1922, 0.1922, 0.1922],\n",
              "           [0.1725, 0.1725, 0.1725,  ..., 0.1922, 0.1922, 0.1922],\n",
              "           [0.1725, 0.1725, 0.1725,  ..., 0.1922, 0.1922, 0.1922]],\n",
              " \n",
              "          [[0.2431, 0.2431, 0.2431,  ..., 0.2353, 0.2353, 0.2353],\n",
              "           [0.2431, 0.2431, 0.2431,  ..., 0.2353, 0.2353, 0.2353],\n",
              "           [0.2431, 0.2431, 0.2431,  ..., 0.2353, 0.2353, 0.2353],\n",
              "           ...,\n",
              "           [0.2314, 0.2314, 0.2314,  ..., 0.2588, 0.2588, 0.2588],\n",
              "           [0.2314, 0.2314, 0.2314,  ..., 0.2588, 0.2588, 0.2588],\n",
              "           [0.2314, 0.2314, 0.2314,  ..., 0.2588, 0.2588, 0.2588]],\n",
              " \n",
              "          [[0.2275, 0.2275, 0.2275,  ..., 0.2431, 0.2431, 0.2431],\n",
              "           [0.2275, 0.2275, 0.2275,  ..., 0.2431, 0.2431, 0.2431],\n",
              "           [0.2275, 0.2275, 0.2275,  ..., 0.2431, 0.2431, 0.2431],\n",
              "           ...,\n",
              "           [0.2392, 0.2392, 0.2392,  ..., 0.2706, 0.2706, 0.2706],\n",
              "           [0.2392, 0.2392, 0.2392,  ..., 0.2706, 0.2706, 0.2706],\n",
              "           [0.2392, 0.2392, 0.2392,  ..., 0.2706, 0.2706, 0.2706]]],\n",
              " \n",
              " \n",
              "         ...,\n",
              " \n",
              " \n",
              "         [[[0.3804, 0.3804, 0.3725,  ..., 0.4314, 0.4392, 0.4392],\n",
              "           [0.3804, 0.3804, 0.3725,  ..., 0.4314, 0.4392, 0.4392],\n",
              "           [0.3725, 0.3725, 0.3686,  ..., 0.4275, 0.4353, 0.4353],\n",
              "           ...,\n",
              "           [0.3569, 0.3569, 0.3725,  ..., 0.3529, 0.3569, 0.3569],\n",
              "           [0.3529, 0.3529, 0.3686,  ..., 0.3529, 0.3529, 0.3529],\n",
              "           [0.3529, 0.3529, 0.3725,  ..., 0.3529, 0.3529, 0.3529]],\n",
              " \n",
              "          [[0.4000, 0.4000, 0.3922,  ..., 0.4392, 0.4471, 0.4471],\n",
              "           [0.4000, 0.4000, 0.3922,  ..., 0.4392, 0.4471, 0.4471],\n",
              "           [0.3922, 0.3922, 0.3882,  ..., 0.4353, 0.4431, 0.4431],\n",
              "           ...,\n",
              "           [0.3765, 0.3765, 0.3961,  ..., 0.3529, 0.3529, 0.3529],\n",
              "           [0.3725, 0.3725, 0.3922,  ..., 0.3490, 0.3490, 0.3490],\n",
              "           [0.3725, 0.3725, 0.3922,  ..., 0.3451, 0.3490, 0.3490]],\n",
              " \n",
              "          [[0.3961, 0.3961, 0.3882,  ..., 0.4392, 0.4471, 0.4471],\n",
              "           [0.3961, 0.3961, 0.3882,  ..., 0.4392, 0.4471, 0.4471],\n",
              "           [0.3882, 0.3882, 0.3843,  ..., 0.4353, 0.4431, 0.4431],\n",
              "           ...,\n",
              "           [0.3725, 0.3725, 0.3922,  ..., 0.3569, 0.3569, 0.3569],\n",
              "           [0.3686, 0.3686, 0.3882,  ..., 0.3569, 0.3569, 0.3569],\n",
              "           [0.3686, 0.3686, 0.3882,  ..., 0.3569, 0.3569, 0.3569]]],\n",
              " \n",
              " \n",
              "         [[[0.9804, 0.9804, 0.9804,  ..., 0.2706, 0.2667, 0.2667],\n",
              "           [0.9804, 0.9804, 0.9804,  ..., 0.2706, 0.2667, 0.2667],\n",
              "           [0.9804, 0.9804, 0.9804,  ..., 0.2706, 0.2667, 0.2667],\n",
              "           ...,\n",
              "           [0.9412, 0.9412, 0.9412,  ..., 0.2471, 0.2471, 0.2471],\n",
              "           [0.9412, 0.9412, 0.9412,  ..., 0.2471, 0.2471, 0.2471],\n",
              "           [0.9412, 0.9412, 0.9412,  ..., 0.2471, 0.2471, 0.2471]],\n",
              " \n",
              "          [[0.9804, 0.9804, 0.9804,  ..., 0.2784, 0.2745, 0.2745],\n",
              "           [0.9804, 0.9804, 0.9804,  ..., 0.2784, 0.2745, 0.2745],\n",
              "           [0.9804, 0.9804, 0.9804,  ..., 0.2784, 0.2745, 0.2745],\n",
              "           ...,\n",
              "           [0.9412, 0.9412, 0.9412,  ..., 0.2784, 0.2784, 0.2784],\n",
              "           [0.9412, 0.9412, 0.9412,  ..., 0.2784, 0.2784, 0.2784],\n",
              "           [0.9412, 0.9412, 0.9412,  ..., 0.2784, 0.2784, 0.2784]],\n",
              " \n",
              "          [[0.9804, 0.9804, 0.9804,  ..., 0.2824, 0.2784, 0.2784],\n",
              "           [0.9804, 0.9804, 0.9804,  ..., 0.2824, 0.2784, 0.2784],\n",
              "           [0.9804, 0.9804, 0.9804,  ..., 0.2824, 0.2784, 0.2784],\n",
              "           ...,\n",
              "           [0.9412, 0.9412, 0.9412,  ..., 0.2745, 0.2745, 0.2745],\n",
              "           [0.9412, 0.9412, 0.9412,  ..., 0.2745, 0.2745, 0.2745],\n",
              "           [0.9412, 0.9412, 0.9412,  ..., 0.2745, 0.2745, 0.2745]]],\n",
              " \n",
              " \n",
              "         [[[0.2078, 0.2078, 0.2078,  ..., 0.2706, 0.2706, 0.2706],\n",
              "           [0.2078, 0.2078, 0.2078,  ..., 0.2706, 0.2706, 0.2706],\n",
              "           [0.2078, 0.2078, 0.2078,  ..., 0.2706, 0.2706, 0.2706],\n",
              "           ...,\n",
              "           [0.1647, 0.1647, 0.1647,  ..., 0.2588, 0.2588, 0.2588],\n",
              "           [0.1647, 0.1647, 0.1647,  ..., 0.2588, 0.2588, 0.2588],\n",
              "           [0.1647, 0.1647, 0.1647,  ..., 0.2588, 0.2588, 0.2588]],\n",
              " \n",
              "          [[0.2118, 0.2118, 0.2118,  ..., 0.2941, 0.2941, 0.2941],\n",
              "           [0.2118, 0.2118, 0.2118,  ..., 0.2941, 0.2941, 0.2941],\n",
              "           [0.2118, 0.2118, 0.2118,  ..., 0.2941, 0.2941, 0.2941],\n",
              "           ...,\n",
              "           [0.1804, 0.1804, 0.1804,  ..., 0.2824, 0.2824, 0.2824],\n",
              "           [0.1804, 0.1804, 0.1804,  ..., 0.2824, 0.2824, 0.2824],\n",
              "           [0.1804, 0.1804, 0.1804,  ..., 0.2824, 0.2824, 0.2824]],\n",
              " \n",
              "          [[0.2275, 0.2275, 0.2275,  ..., 0.3373, 0.3373, 0.3373],\n",
              "           [0.2275, 0.2275, 0.2275,  ..., 0.3373, 0.3373, 0.3373],\n",
              "           [0.2275, 0.2275, 0.2275,  ..., 0.3373, 0.3373, 0.3373],\n",
              "           ...,\n",
              "           [0.1843, 0.1843, 0.1843,  ..., 0.3255, 0.3255, 0.3255],\n",
              "           [0.1843, 0.1843, 0.1843,  ..., 0.3255, 0.3255, 0.3255],\n",
              "           [0.1843, 0.1843, 0.1843,  ..., 0.3255, 0.3255, 0.3255]]]]),\n",
              " tensor([23, 24, 19,  4, 24, 19, 24, 24, 14,  4, 21,  3, 24, 19, 19, 20, 30, 14,\n",
              "         21, 15,  4, 24, 24, 17, 23, 28,  4,  8, 24,  4, 24, 19, 19,  4,  4, 28,\n",
              "         23, 10, 14, 24,  4, 10, 29,  4,  4, 23, 24, 19, 19, 24, 24,  6,  4,  4,\n",
              "         10, 14, 24, 28,  4,  4,  6,  6, 24, 21, 21,  4,  4, 10,  4,  6, 21, 23,\n",
              "         19, 19, 24, 24, 24, 19, 24,  4, 21,  4, 19, 24, 19, 24, 24,  4, 13, 28,\n",
              "          1, 10, 23, 10,  7, 21, 24, 24, 29,  5, 21, 23,  4,  4,  4, 21, 19,  4,\n",
              "         24,  4, 24, 23, 24, 21, 18, 24, 21, 24, 10, 23, 10, 24, 21, 24, 23, 24,\n",
              "         19,  4, 24, 23, 24, 24, 24, 24, 19, 23, 23, 22, 26,  4, 21,  6, 14, 23,\n",
              "          4,  4, 24, 21, 24, 10, 23, 24, 24, 24,  4, 21,  8, 24, 23,  4, 24,  4,\n",
              "         19,  4, 24, 10, 21, 24,  3,  5,  4, 24,  6,  3,  3, 19, 17, 24, 23,  4,\n",
              "         24, 24, 10,  4, 24, 23, 25, 23, 28, 24, 19, 24, 24, 24,  4, 24, 28, 19,\n",
              "         24, 24, 23, 24, 27, 19,  4, 24, 24, 19, 24, 12, 28, 24, 25, 24, 19, 23,\n",
              "         24,  4, 24, 24,  4,  4,  4,  1,  1, 24, 24,  4, 23,  8, 23, 24, 21, 23,\n",
              "         24, 24, 24, 24, 23,  4,  4, 24, 10, 15, 24,  6, 24, 26, 23, 17,  1, 12,\n",
              "         19,  6, 14,  4, 24,  1,  4, 19, 28, 24, 23,  4, 21, 14, 24,  4, 14, 26,\n",
              "         23,  4, 10,  4, 19, 23,  4, 23, 24, 23, 12, 23, 29,  3, 28, 20, 10, 10,\n",
              "         23,  4, 24, 19, 24, 14, 24,  3,  4, 19, 24, 12, 24, 29, 21,  4, 24,  4,\n",
              "         17, 18, 10, 24, 28, 23, 23, 24, 23,  1, 19, 25, 24, 23, 21, 21, 24, 17,\n",
              "         24, 19, 23,  1,  1, 23,  4, 23,  6,  4, 23, 24, 24,  4, 24, 24,  4, 19,\n",
              "          4, 21, 20, 21, 10, 21, 24, 24, 24, 24,  4, 24, 21, 15, 24, 24, 12, 24,\n",
              "         21, 24, 25, 24, 14, 24, 19, 24, 24, 24, 14, 10, 24, 24, 28, 24, 21, 19,\n",
              "         10,  3, 19,  1, 24,  4, 19, 23, 25, 24,  4, 23, 10, 23,  4, 24, 19, 10,\n",
              "         24,  4, 24, 24, 24,  4, 24, 23, 12,  4, 29, 29, 23,  4,  4,  1, 24, 29,\n",
              "         19, 17, 28, 10,  4,  4, 10,  4,  4,  8, 24, 24, 24,  4, 24,  4, 10,  4,\n",
              "          4,  4, 23, 24, 17, 14,  8,  4, 24,  4, 24, 21, 10, 10, 24,  4, 24, 23,\n",
              "         19, 24,  4, 19, 24, 24, 25, 24, 21, 10,  4, 29,  4, 24,  8, 21,  5,  4,\n",
              "          4, 24, 24, 24, 19, 19, 19, 19, 17, 24,  4,  2,  3, 10, 19, 24, 24, 24,\n",
              "         24,  8, 23, 23, 24,  4, 23, 10,  4, 28, 28, 24, 24, 28, 23, 24,  9, 24,\n",
              "         25,  4,  4,  4,  3, 19, 23, 14])]"
            ]
          },
          "metadata": {},
          "execution_count": 14
        }
      ]
    },
    {
      "cell_type": "code",
      "metadata": {
        "colab": {
          "base_uri": "https://localhost:8080/"
        },
        "id": "GJHEvdemlSR_",
        "outputId": "dc7859a2-2e0e-4221-9a45-17e3553ccaf6"
      },
      "source": [
        "from torchvision import models, transforms as transforms\n",
        "model = models.resnet18(pretrained=True)\n",
        "model.fc = nn.Linear(512, len(MODEL_CLASSES))\n",
        "model.to(device)"
      ],
      "execution_count": null,
      "outputs": [
        {
          "output_type": "execute_result",
          "data": {
            "text/plain": [
              "ResNet(\n",
              "  (conv1): Conv2d(3, 64, kernel_size=(7, 7), stride=(2, 2), padding=(3, 3), bias=False)\n",
              "  (bn1): BatchNorm2d(64, eps=1e-05, momentum=0.1, affine=True, track_running_stats=True)\n",
              "  (relu): ReLU(inplace=True)\n",
              "  (maxpool): MaxPool2d(kernel_size=3, stride=2, padding=1, dilation=1, ceil_mode=False)\n",
              "  (layer1): Sequential(\n",
              "    (0): BasicBlock(\n",
              "      (conv1): Conv2d(64, 64, kernel_size=(3, 3), stride=(1, 1), padding=(1, 1), bias=False)\n",
              "      (bn1): BatchNorm2d(64, eps=1e-05, momentum=0.1, affine=True, track_running_stats=True)\n",
              "      (relu): ReLU(inplace=True)\n",
              "      (conv2): Conv2d(64, 64, kernel_size=(3, 3), stride=(1, 1), padding=(1, 1), bias=False)\n",
              "      (bn2): BatchNorm2d(64, eps=1e-05, momentum=0.1, affine=True, track_running_stats=True)\n",
              "    )\n",
              "    (1): BasicBlock(\n",
              "      (conv1): Conv2d(64, 64, kernel_size=(3, 3), stride=(1, 1), padding=(1, 1), bias=False)\n",
              "      (bn1): BatchNorm2d(64, eps=1e-05, momentum=0.1, affine=True, track_running_stats=True)\n",
              "      (relu): ReLU(inplace=True)\n",
              "      (conv2): Conv2d(64, 64, kernel_size=(3, 3), stride=(1, 1), padding=(1, 1), bias=False)\n",
              "      (bn2): BatchNorm2d(64, eps=1e-05, momentum=0.1, affine=True, track_running_stats=True)\n",
              "    )\n",
              "  )\n",
              "  (layer2): Sequential(\n",
              "    (0): BasicBlock(\n",
              "      (conv1): Conv2d(64, 128, kernel_size=(3, 3), stride=(2, 2), padding=(1, 1), bias=False)\n",
              "      (bn1): BatchNorm2d(128, eps=1e-05, momentum=0.1, affine=True, track_running_stats=True)\n",
              "      (relu): ReLU(inplace=True)\n",
              "      (conv2): Conv2d(128, 128, kernel_size=(3, 3), stride=(1, 1), padding=(1, 1), bias=False)\n",
              "      (bn2): BatchNorm2d(128, eps=1e-05, momentum=0.1, affine=True, track_running_stats=True)\n",
              "      (downsample): Sequential(\n",
              "        (0): Conv2d(64, 128, kernel_size=(1, 1), stride=(2, 2), bias=False)\n",
              "        (1): BatchNorm2d(128, eps=1e-05, momentum=0.1, affine=True, track_running_stats=True)\n",
              "      )\n",
              "    )\n",
              "    (1): BasicBlock(\n",
              "      (conv1): Conv2d(128, 128, kernel_size=(3, 3), stride=(1, 1), padding=(1, 1), bias=False)\n",
              "      (bn1): BatchNorm2d(128, eps=1e-05, momentum=0.1, affine=True, track_running_stats=True)\n",
              "      (relu): ReLU(inplace=True)\n",
              "      (conv2): Conv2d(128, 128, kernel_size=(3, 3), stride=(1, 1), padding=(1, 1), bias=False)\n",
              "      (bn2): BatchNorm2d(128, eps=1e-05, momentum=0.1, affine=True, track_running_stats=True)\n",
              "    )\n",
              "  )\n",
              "  (layer3): Sequential(\n",
              "    (0): BasicBlock(\n",
              "      (conv1): Conv2d(128, 256, kernel_size=(3, 3), stride=(2, 2), padding=(1, 1), bias=False)\n",
              "      (bn1): BatchNorm2d(256, eps=1e-05, momentum=0.1, affine=True, track_running_stats=True)\n",
              "      (relu): ReLU(inplace=True)\n",
              "      (conv2): Conv2d(256, 256, kernel_size=(3, 3), stride=(1, 1), padding=(1, 1), bias=False)\n",
              "      (bn2): BatchNorm2d(256, eps=1e-05, momentum=0.1, affine=True, track_running_stats=True)\n",
              "      (downsample): Sequential(\n",
              "        (0): Conv2d(128, 256, kernel_size=(1, 1), stride=(2, 2), bias=False)\n",
              "        (1): BatchNorm2d(256, eps=1e-05, momentum=0.1, affine=True, track_running_stats=True)\n",
              "      )\n",
              "    )\n",
              "    (1): BasicBlock(\n",
              "      (conv1): Conv2d(256, 256, kernel_size=(3, 3), stride=(1, 1), padding=(1, 1), bias=False)\n",
              "      (bn1): BatchNorm2d(256, eps=1e-05, momentum=0.1, affine=True, track_running_stats=True)\n",
              "      (relu): ReLU(inplace=True)\n",
              "      (conv2): Conv2d(256, 256, kernel_size=(3, 3), stride=(1, 1), padding=(1, 1), bias=False)\n",
              "      (bn2): BatchNorm2d(256, eps=1e-05, momentum=0.1, affine=True, track_running_stats=True)\n",
              "    )\n",
              "  )\n",
              "  (layer4): Sequential(\n",
              "    (0): BasicBlock(\n",
              "      (conv1): Conv2d(256, 512, kernel_size=(3, 3), stride=(2, 2), padding=(1, 1), bias=False)\n",
              "      (bn1): BatchNorm2d(512, eps=1e-05, momentum=0.1, affine=True, track_running_stats=True)\n",
              "      (relu): ReLU(inplace=True)\n",
              "      (conv2): Conv2d(512, 512, kernel_size=(3, 3), stride=(1, 1), padding=(1, 1), bias=False)\n",
              "      (bn2): BatchNorm2d(512, eps=1e-05, momentum=0.1, affine=True, track_running_stats=True)\n",
              "      (downsample): Sequential(\n",
              "        (0): Conv2d(256, 512, kernel_size=(1, 1), stride=(2, 2), bias=False)\n",
              "        (1): BatchNorm2d(512, eps=1e-05, momentum=0.1, affine=True, track_running_stats=True)\n",
              "      )\n",
              "    )\n",
              "    (1): BasicBlock(\n",
              "      (conv1): Conv2d(512, 512, kernel_size=(3, 3), stride=(1, 1), padding=(1, 1), bias=False)\n",
              "      (bn1): BatchNorm2d(512, eps=1e-05, momentum=0.1, affine=True, track_running_stats=True)\n",
              "      (relu): ReLU(inplace=True)\n",
              "      (conv2): Conv2d(512, 512, kernel_size=(3, 3), stride=(1, 1), padding=(1, 1), bias=False)\n",
              "      (bn2): BatchNorm2d(512, eps=1e-05, momentum=0.1, affine=True, track_running_stats=True)\n",
              "    )\n",
              "  )\n",
              "  (avgpool): AdaptiveAvgPool2d(output_size=(1, 1))\n",
              "  (fc): Linear(in_features=512, out_features=31, bias=True)\n",
              ")"
            ]
          },
          "metadata": {},
          "execution_count": 15
        }
      ]
    },
    {
      "cell_type": "code",
      "metadata": {
        "id": "8jdU9KNPlWx_"
      },
      "source": [
        "from sklearn.metrics import accuracy_score\n",
        "\n",
        "def evaluate_batch_accuracy(y_pred, y_true):\n",
        "    '''\n",
        "    Оценка точности предсказания (accuracy)\n",
        "\n",
        "    y_pred:\n",
        "        батч сырых степеней уверенности, размер (N, K)\n",
        "    y_true:\n",
        "        вектор истинных значений, размер (N)\n",
        "    '''\n",
        "    y_pred = y_pred.detach().numpy()\n",
        "    y_true = y_true.detach().numpy()\n",
        "    # print(y_true)\n",
        "    # print(y_pred)\n",
        "    accuracy = 0\n",
        "    for i in range(len(y_true)):\n",
        "        index_max = max(range(len(y_pred[i, :])), key=y_pred[i].__getitem__)\n",
        "        # print(index_max)\n",
        "        if (index_max == y_true[i]):\n",
        "            accuracy += 1\n",
        "    accuracy /= len(y_pred)\n",
        "    return accuracy\n",
        "    \n",
        "def valid_epoch(model, loader, loss):\n",
        "    acc_ = []\n",
        "    torch.set_grad_enabled(False)\n",
        "    # Таким образом переводим модель в режим исполнения (inference)\n",
        "    # В этом режиме отключены градиенты, он быстрее, \n",
        "    #   но в нём нельзя обучать модель\n",
        "    model.eval()\n",
        "    for batch_idx, (imgs_batch, labels_batch) in enumerate(loader):\n",
        "        imgs_batch = imgs_batch.to(device)\n",
        "        #print(labels_batch)\n",
        "        labels_batch = labels_batch.to(device)\n",
        "        \n",
        "        pred = model(imgs_batch)\n",
        "        \n",
        "        local_acc = evaluate_batch_accuracy(pred.cpu(), labels_batch.cpu())\n",
        "        acc_.append(local_acc)\n",
        "        \n",
        "        # model.addValidHistoryAcc(local_acc)\n",
        "        \n",
        "        if batch_idx % 20 == 0:\n",
        "            print('\\rValid Epoch: {} [{}/{} ({:.2f}%)]'.\n",
        "                  format(epoch, batch_idx * len(imgs_batch), len(loader.dataset),\n",
        "                 100 * batch_idx * len(imgs_batch) / len(loader.dataset)), flush=True, end='')\n",
        "        \n",
        "    print('\\rValid Epoch: {} [{}/{} (100%)]     \\n'.\n",
        "                  format(epoch, len(loader.dataset), len(loader.dataset)), flush=True, end='')\n",
        "    \n",
        "    return np.mean(acc_)"
      ],
      "execution_count": null,
      "outputs": []
    },
    {
      "cell_type": "code",
      "metadata": {
        "id": "-NE0PkVdpRKH"
      },
      "source": [
        "%cp '/resnet18_rtsd_test_11.09_23.09_loss0.4226_acc_0.9067' /content/rtsd-r3/"
      ],
      "execution_count": null,
      "outputs": []
    },
    {
      "cell_type": "code",
      "metadata": {
        "colab": {
          "base_uri": "https://localhost:8080/"
        },
        "id": "FxBn0BmamBZZ",
        "outputId": "f6c83c44-142b-40e7-858c-f949e6850fd5"
      },
      "source": [
        "if os.path.isfile('resnet18_rtsd_test'):\n",
        "    model.load_state_dict(torch.load('resnet18_rtsd_test', map_location=torch.device('cpu')))\n",
        "    print('[+] Model restored from save file!')\n",
        "else:\n",
        "  print('NF')\n",
        "\n",
        "\n",
        "loss_op = nn.CrossEntropyLoss()\n",
        "epoch = 1\n",
        "valid_epoch(model, test_loader, loss_op)"
      ],
      "execution_count": null,
      "outputs": [
        {
          "output_type": "stream",
          "name": "stdout",
          "text": [
            "[+] Model restored from save file!\n",
            "Valid Epoch: 1 [13304/13304 (100%)]     \n"
          ]
        },
        {
          "output_type": "execute_result",
          "data": {
            "text/plain": [
              "0.8783792162698413"
            ]
          },
          "metadata": {},
          "execution_count": 20
        }
      ]
    },
    {
      "cell_type": "code",
      "metadata": {
        "colab": {
          "base_uri": "https://localhost:8080/",
          "height": 299
        },
        "id": "FxLA-xQyuEKW",
        "outputId": "cee88ec3-f6cb-418b-8493-2598ceda2650"
      },
      "source": [
        "path, class_ = getRandomPictureFromTest()\n",
        "\n",
        "showPictureAndClass(path)\n",
        "\n",
        "img = cv2.imread(str(path))\n",
        "img = cv2.resize(img, (160, 160))\n",
        "img_tnsr = torch.Tensor.permute(torch.Tensor(img), [2, 0, 1]).div(255)\n",
        "\n",
        "pred = model(img_tnsr[None, ...]).numpy()\n",
        "# print(pred)\n",
        "MODEL_CLASS_MAP_I = dict(zip(MODEL_CLASSES_TARGETS, MODEL_CLASSES))\n",
        "\n",
        "MODEL_CLASS_MAP_I[np.argmax(pred)]"
      ],
      "execution_count": null,
      "outputs": [
        {
          "output_type": "display_data",
          "data": {
            "image/png": "[encoded data removed]",
            "text/plain": [
              "<Figure size 288x288 with 1 Axes>"
            ]
          },
          "metadata": {
            "needs_background": "light"
          }
        },
        {
          "output_type": "execute_result",
          "data": {
            "application/vnd.google.colaboratory.intrinsic+json": {
              "type": "string"
            },
            "text/plain": [
              "'3_20'"
            ]
          },
          "metadata": {},
          "execution_count": 98
        }
      ]
    },
    {
      "cell_type": "code",
      "metadata": {
        "id": "N5iKHrE3rG4m"
      },
      "source": [
        "%pwd"
      ],
      "execution_count": null,
      "outputs": []
    }
  ]
}