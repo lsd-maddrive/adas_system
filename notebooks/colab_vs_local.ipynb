{
 "cells": [
  {
   "cell_type": "raw",
   "metadata": {
    "colab": {
     "base_uri": "https://localhost:8080/"
    },
    "executionInfo": {
     "elapsed": 223,
     "status": "ok",
     "timestamp": 1636489469582,
     "user": {
      "displayName": "Evgeniy Macheev",
      "photoUrl": "https://lh3.googleusercontent.com/a/default-user=s64",
      "userId": "07811491615512481378"
     },
     "user_tz": -180
    },
    "id": "rkV42eQBowr-",
    "outputId": "324523f6-ba5a-40cc-d9c6-0aede622ce95"
   },
   "source": [
    "#@title Default title text\n",
    "from google.colab import drive\n",
    "\n",
    "drive.mount('/content/gdrive/')\n",
    "!~\n",
    "drive.flush_and_unmount()\n",
    "\n",
    "%cd  /content/gdrive/MyDrive/MastersD/RTSD_dataset+/rtsd-r3\n",
    "!pwd"
   ]
  },
  {
   "cell_type": "raw",
   "metadata": {
    "colab": {
     "base_uri": "https://localhost:8080/"
    },
    "executionInfo": {
     "elapsed": 5783,
     "status": "ok",
     "timestamp": 1636491258515,
     "user": {
      "displayName": "Evgeniy Macheev",
      "photoUrl": "https://lh3.googleusercontent.com/a/default-user=s64",
      "userId": "07811491615512481378"
     },
     "user_tz": -180
    },
    "id": "u39uiyhBcmpr",
    "outputId": "fa2e2b2e-0672-49f2-ef61-76ac572c4bfd"
   },
   "source": [
    "!gdown --id '1eKNfEuNQadRW1H4NOoMw5sdnyHV14ze0'"
   ]
  },
  {
   "cell_type": "raw",
   "metadata": {
    "id": "3E3IWvrnevOn"
   },
   "source": [
    "!unzip rtsd-r3.zip"
   ]
  },
  {
   "cell_type": "code",
   "execution_count": 1,
   "metadata": {
    "colab": {
     "base_uri": "https://localhost:8080/"
    },
    "executionInfo": {
     "elapsed": 1362,
     "status": "ok",
     "timestamp": 1636492283346,
     "user": {
      "displayName": "Evgeniy Macheev",
      "photoUrl": "https://lh3.googleusercontent.com/a/default-user=s64",
      "userId": "07811491615512481378"
     },
     "user_tz": -180
    },
    "id": "XtyeNnnnuBTJ",
    "outputId": "f604758c-7991-4d0f-f039-9f83587e8aab"
   },
   "outputs": [
    {
     "data": {
      "text/plain": [
       "device(type='cuda')"
      ]
     },
     "execution_count": 1,
     "metadata": {},
     "output_type": "execute_result"
    }
   ],
   "source": [
    "import matplotlib.pyplot as plt\n",
    "import numpy as np\n",
    "import random\n",
    "import torch\n",
    "from torch import nn\n",
    "import seaborn as sns\n",
    "import pandas as pd\n",
    "import os\n",
    "import pathlib\n",
    "import shutil\n",
    "import cv2\n",
    "import PIL\n",
    "\n",
    "TEXT_COLOR = 'black'\n",
    "\n",
    "# Зафиксируем состояние случайных чисел\n",
    "RANDOM_STATE = 42\n",
    "np.random.seed(RANDOM_STATE)\n",
    "torch.manual_seed(RANDOM_STATE)\n",
    "random.seed(RANDOM_STATE)\n",
    "\n",
    "device = torch.device('cuda' if torch.cuda.is_available() else 'cpu')\n",
    "device"
   ]
  },
  {
   "cell_type": "code",
   "execution_count": 2,
   "metadata": {
    "executionInfo": {
     "elapsed": 2,
     "status": "ok",
     "timestamp": 1636492284088,
     "user": {
      "displayName": "Evgeniy Macheev",
      "photoUrl": "https://lh3.googleusercontent.com/a/default-user=s64",
      "userId": "07811491615512481378"
     },
     "user_tz": -180
    },
    "id": "nUd698RcuIyI"
   },
   "outputs": [],
   "source": [
    "PROJECT_ROOT = pathlib.Path('D:/d_tsw/1_SIGN_CLASSIFIER') #pathlib.Path(os.path.join(os.curdir, os.pardir))\n",
    "ROOT_DIR = PROJECT_ROOT / 'data/rtsd-r3'\n",
    "train_dir_source = ROOT_DIR / 'train'\n",
    "train_dir = ROOT_DIR / 'train'"
   ]
  },
  {
   "cell_type": "code",
   "execution_count": 3,
   "metadata": {
    "executionInfo": {
     "elapsed": 201,
     "status": "ok",
     "timestamp": 1636492285482,
     "user": {
      "displayName": "Evgeniy Macheev",
      "photoUrl": "https://lh3.googleusercontent.com/a/default-user=s64",
      "userId": "07811491615512481378"
     },
     "user_tz": -180
    },
    "id": "5hzFPkAPwFIp"
   },
   "outputs": [],
   "source": [
    "gt_train = pd.read_csv(ROOT_DIR / 'gt_train.csv')\n",
    "numbers_to_classes = pd.read_csv(ROOT_DIR / 'numbers_to_classes.csv')\n",
    "\n",
    "gt_train = pd.merge(gt_train, numbers_to_classes, on='class_number', how='left', validate='many_to_one', copy=False)\n",
    "gt_train.drop(['class_number'], inplace=True, axis=1)\n",
    "gt_train['IsPresent'] = pd.Series([1 for x in range(len(gt_train.index))])\n",
    "\n",
    "del numbers_to_classes"
   ]
  },
  {
   "cell_type": "code",
   "execution_count": 4,
   "metadata": {
    "colab": {
     "base_uri": "https://localhost:8080/",
     "height": 921
    },
    "executionInfo": {
     "elapsed": 2371,
     "status": "ok",
     "timestamp": 1636492288587,
     "user": {
      "displayName": "Evgeniy Macheev",
      "photoUrl": "https://lh3.googleusercontent.com/a/default-user=s64",
      "userId": "07811491615512481378"
     },
     "user_tz": -180
    },
    "id": "g16dw4sSwTQj",
    "outputId": "e2b163e3-cd69-420b-d4fe-de4f6b768a06"
   },
   "outputs": [
    {
     "data": {
      "text/html": [
       "<div>\n",
       "<style scoped>\n",
       "    .dataframe tbody tr th:only-of-type {\n",
       "        vertical-align: middle;\n",
       "    }\n",
       "\n",
       "    .dataframe tbody tr th {\n",
       "        vertical-align: top;\n",
       "    }\n",
       "\n",
       "    .dataframe thead th {\n",
       "        text-align: right;\n",
       "    }\n",
       "</style>\n",
       "<table border=\"1\" class=\"dataframe\">\n",
       "  <thead>\n",
       "    <tr style=\"text-align: right;\">\n",
       "      <th></th>\n",
       "      <th>filename</th>\n",
       "      <th>sign_class</th>\n",
       "      <th>IsPresent</th>\n",
       "    </tr>\n",
       "  </thead>\n",
       "  <tbody>\n",
       "    <tr>\n",
       "      <th>0</th>\n",
       "      <td>000000.png</td>\n",
       "      <td>2_1</td>\n",
       "      <td>1</td>\n",
       "    </tr>\n",
       "    <tr>\n",
       "      <th>1</th>\n",
       "      <td>000001.png</td>\n",
       "      <td>2_1</td>\n",
       "      <td>1</td>\n",
       "    </tr>\n",
       "    <tr>\n",
       "      <th>2</th>\n",
       "      <td>000002.png</td>\n",
       "      <td>2_1</td>\n",
       "      <td>1</td>\n",
       "    </tr>\n",
       "    <tr>\n",
       "      <th>3</th>\n",
       "      <td>000003.png</td>\n",
       "      <td>2_1</td>\n",
       "      <td>1</td>\n",
       "    </tr>\n",
       "    <tr>\n",
       "      <th>4</th>\n",
       "      <td>000004.png</td>\n",
       "      <td>1_23</td>\n",
       "      <td>1</td>\n",
       "    </tr>\n",
       "    <tr>\n",
       "      <th>...</th>\n",
       "      <td>...</td>\n",
       "      <td>...</td>\n",
       "      <td>...</td>\n",
       "    </tr>\n",
       "    <tr>\n",
       "      <th>71012</th>\n",
       "      <td>071007.png</td>\n",
       "      <td>3_22</td>\n",
       "      <td>1</td>\n",
       "    </tr>\n",
       "    <tr>\n",
       "      <th>71013</th>\n",
       "      <td>071008.png</td>\n",
       "      <td>3_22</td>\n",
       "      <td>1</td>\n",
       "    </tr>\n",
       "    <tr>\n",
       "      <th>71014</th>\n",
       "      <td>071009.png</td>\n",
       "      <td>3_22</td>\n",
       "      <td>1</td>\n",
       "    </tr>\n",
       "    <tr>\n",
       "      <th>71015</th>\n",
       "      <td>071010.png</td>\n",
       "      <td>3_22</td>\n",
       "      <td>1</td>\n",
       "    </tr>\n",
       "    <tr>\n",
       "      <th>71016</th>\n",
       "      <td>071011.png</td>\n",
       "      <td>3_22</td>\n",
       "      <td>1</td>\n",
       "    </tr>\n",
       "  </tbody>\n",
       "</table>\n",
       "<p>71017 rows × 3 columns</p>\n",
       "</div>"
      ],
      "text/plain": [
       "         filename sign_class  IsPresent\n",
       "0      000000.png        2_1          1\n",
       "1      000001.png        2_1          1\n",
       "2      000002.png        2_1          1\n",
       "3      000003.png        2_1          1\n",
       "4      000004.png       1_23          1\n",
       "...           ...        ...        ...\n",
       "71012  071007.png       3_22          1\n",
       "71013  071008.png       3_22          1\n",
       "71014  071009.png       3_22          1\n",
       "71015  071010.png       3_22          1\n",
       "71016  071011.png       3_22          1\n",
       "\n",
       "[71017 rows x 3 columns]"
      ]
     },
     "metadata": {},
     "output_type": "display_data"
    },
    {
     "name": "stdout",
     "output_type": "stream",
     "text": [
      "{\"5_19_1\":19913,\"2_1\":8620,\"5_16\":3751,\"5_15_2\":3544,\"3_27\":2409,\"1_23\":2320,\"5_20\":1841,\"3_24_n40\":1804,\"4_1_1\":1673,\"1_17\":1145,\"3_20\":1036,\"5_5\":915,\"5_15_1\":873,\"4_1_4\":871,\"3_1\":868,\"4_2_3\":828,\"1_25\":802,\"6_4\":794,\"7_3\":790,\"5_15_2_2\":700,\"3_24_n20\":696,\"4_2_1\":693,\"6_6\":662,\"5_15_3\":619,\"1_22\":603,\"2_3_2\":593,\"5_15_5\":559,\"2_5\":512,\"2_2\":479,\"3_4_1\":476,\"5_6\":474,\"4_2_2\":433,\"2_3_3\":400,\"4_1_2\":359,\"1_20_2\":319,\"7_5\":312,\"1_2\":301,\"1_11_1\":298,\"3_28\":294,\"5_14\":251,\"1_11\":249,\"1_16\":235,\"3_18\":219,\"1_1\":198,\"3_24_n50\":193,\"2_3\":191,\"3_18_2\":169,\"6_3_1\":156,\"5_15_7\":152,\"4_3\":149,\"3_24_n5\":149,\"5_7_2\":141,\"4_1_5\":139,\"4_1_2_1\":135,\"3_24_n30\":131,\"7_2\":129,\"1_12_2\":128,\"1_15\":126,\"3_13_r4.5\":124,\"1_8\":120,\"5_7_1\":119,\"4_1_2_2\":119,\"3_24_n60\":117,\"7_11\":111,\"3_24_n80\":111,\"3_2\":110,\"7_4\":110,\"7_7\":101,\"1_21\":93,\"5_3\":91,\"5_11\":85,\"7_12\":84,\"2_6\":83,\"2_4\":83,\"1_33\":82,\"6_7\":80,\"3_24_n70\":80,\"3_22\":80,\"1_12\":79,\"1_20_3\":76,\"1_5\":72,\"4_1_6\":68,\"6_2_n50\":59,\"3_24_n120\":57,\"3_32\":54,\"5_21\":51,\"1_20\":51,\"4_1_3\":51,\"7_6\":50,\"1_19\":45,\"5_22\":43,\"1_27\":43,\"3_24_n100\":41,\"3_30\":38,\"3_4_n8\":35,\"5_8\":34,\"3_19\":34,\"3_10\":28,\"6_2_n60\":25,\"3_11_n5\":24,\"7_1\":21,\"5_18\":20,\"3_25\":19,\"3_13_r3.5\":15,\"6_2_n70\":14,\"1_13\":11,\"3_29\":10,\"1_14\":10,\"3_24_n10\":9,\"1_18\":8,\"3_31\":8,\"3_23\":7,\"3_21\":3,\"6_3_2\":1,\"1_6\":1}\n"
     ]
    },
    {
     "data": {
      "image/png": "[encoded data removed]",
      "text/plain": [
       "<Figure size 1512x504 with 1 Axes>"
      ]
     },
     "metadata": {
      "needs_background": "light"
     },
     "output_type": "display_data"
    }
   ],
   "source": [
    "display(gt_train)\n",
    "print(gt_train['sign_class'].value_counts().to_json())\n",
    "_, ax = plt.subplots(figsize=(21, 7))\n",
    "plt.xticks(rotation=90)\n",
    "sns.countplot(x='sign_class', data=gt_train, ax=ax);"
   ]
  },
  {
   "cell_type": "code",
   "execution_count": 5,
   "metadata": {
    "colab": {
     "base_uri": "https://localhost:8080/"
    },
    "executionInfo": {
     "elapsed": 29687,
     "status": "ok",
     "timestamp": 1636492319274,
     "user": {
      "displayName": "Evgeniy Macheev",
      "photoUrl": "https://lh3.googleusercontent.com/a/default-user=s64",
      "userId": "07811491615512481378"
     },
     "user_tz": -180
    },
    "id": "qyEUV051wL3q",
    "outputId": "1ef6d026-be80-47f1-a624-5b2f2f7bd8fd"
   },
   "outputs": [
    {
     "name": "stdout",
     "output_type": "stream",
     "text": [
      "[+] Classification for all of those classes:\n",
      " ['1_1', '1_6', '1_8', '1_22', '1_31', '1_33', '2_1', '2_2', '2_3', '2_4', '2_5', '3_1', '3_18', '3_20', '3_21', '3_22', '3_23', '3_24_n10', '3_24_n20', '3_24_n30', '3_24_n40', '3_24_n50', '3_24_n60', '3_24_n70', '3_24_n80', '3_24_n90', '3_24_n100', '3_24_n110', '3_24_n120', '3_24_n130', '3_25', '3_27', '3_28', '3_31', '4_1_1', '4_3', '5_5', '5_6', '5_16', '5_19_1', '5_20', '6_3_2', '6_4', '7_3', '7_4']\n",
      "Progress: 71017/71017 (100.00%)\n",
      "[!] These signs were not included: \n",
      " {'3_24_n130', '3_24_n90', '3_24_n110', '1_31'}\n"
     ]
    }
   ],
   "source": [
    "EXTRACT_BIG = True\n",
    "EXTRACT_SPECIFIC_CLASSES = True\n",
    "\n",
    "if EXTRACT_SPECIFIC_CLASSES == False:\n",
    "    CLASSES = gt_train['sign_class'].values\n",
    "    print(\"[!] Assume classification for all of available classes\")\n",
    "    \n",
    "else:\n",
    "    CLASSES = [\n",
    "        '1_1', '1_6', '1_8', '1_22', '1_31', '1_33', '2_1', '2_2', \n",
    "        # ~2_3_1\n",
    "        '2_3', \\\n",
    "        # /~2_3_1\n",
    "        '2_4', '2_5', '3_1', \n",
    "        # ~3_18_1\n",
    "        '3_18', \n",
    "        # /~3_18_1\n",
    "        '3_20', '3_21', '3_22', '3_23', \\\n",
    "        # all speed limits\n",
    "        '3_24_n10', '3_24_n20', '3_24_n30', '3_24_n40', '3_24_n50', '3_24_n60', \\\n",
    "        '3_24_n70', '3_24_n80', '3_24_n90', '3_24_n100', '3_24_n110', '3_24_n120', '3_24_n130', \\\n",
    "        # /all speed limits\n",
    "        '3_25', '3_27', '3_28', '3_31', '4_1_1', '4_3', '5_5', '5_6', '5_16', \n",
    "        '5_19_1',  \n",
    "        #'5_19_2', \\ ~ '5_19_1'\n",
    "        '5_20', '6_3_2', '6_4', '7_3', '7_4'\n",
    "    ]\n",
    "    print(\"[+] Classification for all of those classes:\\n\", CLASSES)\n",
    "\n",
    "def printProgressEnum(index, length, label=None):\n",
    "    print('\\r{}Progress: {}/{} ({:.2f}%)'.\n",
    "                  format(label if label != None else '', index + 1, length, 100 * (index + 1) / length), flush=True, end='')\n",
    "\n",
    "def getPictureSignClass(filename=None, path=None, index=None):\n",
    "    if index:\n",
    "        return gt_train.iloc[index]['sign_class']\n",
    "    if path:\n",
    "        return gt_train[gt_train['filename']==str(path).split(sep='\\\\')[-1]]['sign_class'].values[0]\n",
    "    else:\n",
    "        if filename:\n",
    "            return gt_train[gt_train['filename']==filename]['sign_class'].values[0]\n",
    "        else:\n",
    "            assert False, 'wrong arg'\n",
    "\n",
    "if EXTRACT_BIG == True:\n",
    "    list_of_origin_train_images = os.listdir(train_dir_source)\n",
    "  \n",
    "    included_clases = set()\n",
    "    \n",
    "    gt_train_size = len(gt_train.index)\n",
    "    \n",
    "    for index, row in gt_train.iterrows():\n",
    "\n",
    "        full_path_to_image = train_dir_source / row['filename']\n",
    "        \n",
    "        class_for_current_image = row['sign_class']\n",
    "                \n",
    "        if class_for_current_image in CLASSES:\n",
    "          included_clases.add(class_for_current_image)\n",
    "          # shutil.copy2(full_path_to_image, train_dir)\n",
    "        else:\n",
    "          gt_train.loc[index, 'IsPresent'] = 0\n",
    "          # print('\\n[!]', class_for_current_image, 'is not CLASSES')\n",
    "\n",
    "        \n",
    "        if (index % 100 == 0) or (index + 1 == gt_train_size):\n",
    "            printProgressEnum(index, gt_train_size)\n",
    "    \n",
    "    not_included_signs = set(CLASSES) - included_clases\n",
    "    if not_included_signs:\n",
    "        print('\\n[!] These signs were not included: \\n', not_included_signs)\n",
    "        \n",
    "list_of_big_train_images = os.listdir(train_dir)"
   ]
  },
  {
   "cell_type": "code",
   "execution_count": 6,
   "metadata": {
    "colab": {
     "base_uri": "https://localhost:8080/"
    },
    "executionInfo": {
     "elapsed": 231,
     "status": "ok",
     "timestamp": 1636492328555,
     "user": {
      "displayName": "Evgeniy Macheev",
      "photoUrl": "https://lh3.googleusercontent.com/a/default-user=s64",
      "userId": "07811491615512481378"
     },
     "user_tz": -180
    },
    "id": "0cbt15szwuVR",
    "outputId": "9e794687-8dca-4f34-e0b0-de8d48596bc4"
   },
   "outputs": [
    {
     "name": "stdout",
     "output_type": "stream",
     "text": [
      "5_19_1       19913\n",
      "2_1           8620\n",
      "5_16          3751\n",
      "3_27          2409\n",
      "5_20          1841\n",
      "3_24_n40      1804\n",
      "4_1_1         1673\n",
      "3_20          1036\n",
      "5_5            915\n",
      "3_1            868\n",
      "6_4            794\n",
      "7_3            790\n",
      "3_24_n20       696\n",
      "1_22           603\n",
      "2_5            512\n",
      "2_2            479\n",
      "5_6            474\n",
      "3_28           294\n",
      "3_18           219\n",
      "1_1            198\n",
      "3_24_n50       193\n",
      "2_3            191\n",
      "4_3            149\n",
      "3_24_n30       131\n",
      "1_8            120\n",
      "3_24_n60       117\n",
      "3_24_n80       111\n",
      "7_4            110\n",
      "2_4             83\n",
      "1_33            82\n",
      "3_24_n70        80\n",
      "3_22            80\n",
      "3_24_n120       57\n",
      "3_24_n100       41\n",
      "3_25            19\n",
      "3_24_n10         9\n",
      "3_31             8\n",
      "3_23             7\n",
      "3_21             3\n",
      "6_3_2            1\n",
      "1_6              1\n",
      "Name: sign_class, dtype: int64\n",
      "1206.878048780488\n"
     ]
    }
   ],
   "source": [
    "print(gt_train.loc[gt_train['IsPresent'] == 1]['sign_class'].value_counts())\n",
    "print(np.mean(gt_train.loc[gt_train['IsPresent'] == 1]['sign_class'].value_counts()))"
   ]
  },
  {
   "cell_type": "code",
   "execution_count": 7,
   "metadata": {
    "colab": {
     "base_uri": "https://localhost:8080/"
    },
    "executionInfo": {
     "elapsed": 199,
     "status": "ok",
     "timestamp": 1636492331357,
     "user": {
      "displayName": "Evgeniy Macheev",
      "photoUrl": "https://lh3.googleusercontent.com/a/default-user=s64",
      "userId": "07811491615512481378"
     },
     "user_tz": -180
    },
    "id": "qsOMPCBfJZP9",
    "outputId": "a74fd3ee-9b88-4f00-fbe6-2963bf3d8523"
   },
   "outputs": [
    {
     "data": {
      "text/plain": [
       "{'1_1': 0,\n",
       " '1_22': 1,\n",
       " '1_33': 2,\n",
       " '1_6': 3,\n",
       " '1_8': 4,\n",
       " '2_1': 5,\n",
       " '2_2': 6,\n",
       " '2_3': 7,\n",
       " '2_4': 8,\n",
       " '2_5': 9,\n",
       " '3_1': 10,\n",
       " '3_18': 11,\n",
       " '3_20': 12,\n",
       " '3_21': 13,\n",
       " '3_22': 14,\n",
       " '3_23': 15,\n",
       " '3_24_n10': 16,\n",
       " '3_24_n100': 17,\n",
       " '3_24_n120': 18,\n",
       " '3_24_n20': 19,\n",
       " '3_24_n30': 20,\n",
       " '3_24_n40': 21,\n",
       " '3_24_n50': 22,\n",
       " '3_24_n60': 23,\n",
       " '3_24_n70': 24,\n",
       " '3_24_n80': 25,\n",
       " '3_25': 26,\n",
       " '3_27': 27,\n",
       " '3_28': 28,\n",
       " '3_31': 29,\n",
       " '4_1_1': 30,\n",
       " '4_3': 31,\n",
       " '5_16': 32,\n",
       " '5_19_1': 33,\n",
       " '5_20': 34,\n",
       " '5_5': 35,\n",
       " '5_6': 36,\n",
       " '6_3_2': 37,\n",
       " '6_4': 38,\n",
       " '7_3': 39,\n",
       " '7_4': 40}"
      ]
     },
     "execution_count": 7,
     "metadata": {},
     "output_type": "execute_result"
    }
   ],
   "source": [
    "MODEL_CLASSES = sorted(list(included_clases))\n",
    "MODEL_CLASSES\n",
    "\n",
    "from sklearn import preprocessing\n",
    "MODEL_LABEL_ENCODER = preprocessing.LabelEncoder()\n",
    "MODEL_CLASSES_TARGETS = MODEL_LABEL_ENCODER.fit_transform(MODEL_CLASSES)\n",
    "\n",
    "MODEL_CLASS_MAP = dict(zip(MODEL_CLASSES, MODEL_CLASSES_TARGETS))\n",
    "MODEL_CLASS_MAP"
   ]
  },
  {
   "cell_type": "code",
   "execution_count": 8,
   "metadata": {
    "executionInfo": {
     "elapsed": 200,
     "status": "ok",
     "timestamp": 1636492334667,
     "user": {
      "displayName": "Evgeniy Macheev",
      "photoUrl": "https://lh3.googleusercontent.com/a/default-user=s64",
      "userId": "07811491615512481378"
     },
     "user_tz": -180
    },
    "id": "5NgwpYo3z8AO"
   },
   "outputs": [],
   "source": [
    "def getPictureSignClass(filename=None, path=None, index=None):\n",
    "    if index:\n",
    "        return gt_train.iloc[index]['sign_class']\n",
    "    if path:\n",
    "      return gt_train[gt_train['filename']==pathlib.Path(path).parts[-1]]['sign_class'].values[0]\n",
    "    else:\n",
    "        if filename:\n",
    "            return gt_train[gt_train['filename']==filename]['sign_class'].values[0]\n",
    "        else:\n",
    "            assert False, 'wrong arg'\n",
    "\n",
    "def getRandomPictureFromTrain():\n",
    "    # instance = gt_train.sample(1)   # fix me or kill me\n",
    "    while(1):\n",
    "        instance = gt_train.sample(axis=0)\n",
    "        # print(instance['IsPresent'].values)\n",
    "        if instance['IsPresent'].values == 1:\n",
    "            instance = instance['filename'].values[0]\n",
    "            break\n",
    "        \n",
    "    # print('!', instance)\n",
    "    path = pathlib.Path(train_dir / instance)\n",
    "    # print(path)\n",
    "    return path, getPictureSignClass(path=path)\n",
    "\n",
    "def showPictureAndClass(path=None, gt_train_index=None):\n",
    "    if path != None:\n",
    "        pass\n",
    "    else:\n",
    "        if gt_train_index == None:\n",
    "            assert False, 'cannot identify picture'\n",
    "        else:\n",
    "            path = train_dir / gt_train.iloc[gt_train_index]['filename']\n",
    "    \n",
    "    sign_class = str(getPictureSignClass(path=path))\n",
    "    \n",
    "    fig = plt.figure(figsize=(4, 4))\n",
    "    img = cv2.imread(str(path))\n",
    "    img = cv2.cvtColor(img, cv2.COLOR_RGB2BGR)\n",
    "    plt.imshow(img)\n",
    "    plt.title(f'Label: {sign_class}')\n",
    "    plt.show()           "
   ]
  },
  {
   "cell_type": "code",
   "execution_count": 9,
   "metadata": {
    "colab": {
     "base_uri": "https://localhost:8080/",
     "height": 315
    },
    "executionInfo": {
     "elapsed": 1016,
     "status": "ok",
     "timestamp": 1636492337930,
     "user": {
      "displayName": "Evgeniy Macheev",
      "photoUrl": "https://lh3.googleusercontent.com/a/default-user=s64",
      "userId": "07811491615512481378"
     },
     "user_tz": -180
    },
    "id": "sf9-Hp6G0CaM",
    "outputId": "4c5e7aaa-0bb5-4922-cfba-8013ec15d91b"
   },
   "outputs": [
    {
     "name": "stdout",
     "output_type": "stream",
     "text": [
      "D:\\d_tsw\\1_SIGN_CLASSIFIER\\data\\rtsd-r3\\train\\034646.png 3_24_n40\n"
     ]
    },
    {
     "data": {
      "image/png": "[encoded data removed]",
      "text/plain": [
       "<Figure size 288x288 with 1 Axes>"
      ]
     },
     "metadata": {
      "needs_background": "light"
     },
     "output_type": "display_data"
    },
    {
     "name": "stdout",
     "output_type": "stream",
     "text": [
      "3_24_n40\n"
     ]
    }
   ],
   "source": [
    "path, class_ = getRandomPictureFromTrain()\n",
    "print(path, class_)\n",
    "showPictureAndClass(path)\n",
    "print(getPictureSignClass(path=path))"
   ]
  },
  {
   "cell_type": "code",
   "execution_count": 10,
   "metadata": {
    "executionInfo": {
     "elapsed": 2,
     "status": "ok",
     "timestamp": 1636492340886,
     "user": {
      "displayName": "Evgeniy Macheev",
      "photoUrl": "https://lh3.googleusercontent.com/a/default-user=s64",
      "userId": "07811491615512481378"
     },
     "user_tz": -180
    },
    "id": "zSuBWbTX6rrz"
   },
   "outputs": [],
   "source": [
    "class SignDataset(torch.utils.data.Dataset):\n",
    "    def __init__(self, df, dir):\n",
    "        self.df = df[df['IsPresent'] == 1]\n",
    "        self.dir = dir\n",
    "    def __len__(self):\n",
    "        return len(self.df.index)\n",
    "    \n",
    "    def __getitem__(self, index):\n",
    "        label = self.df.iloc[index]['sign_class']\n",
    "        path = self.dir / self.df.iloc[index]['filename']\n",
    "        # print(path)\n",
    "        img = cv2.imread(str(path))\n",
    "        img = cv2.resize(img, (160, 160))\n",
    "        # print(img)\n",
    "        img_tnsr = torch.Tensor.permute(torch.Tensor(img), [2, 0, 1]).div(255)\n",
    "        # print(label)\n",
    "        encoded_label = MODEL_CLASS_MAP[label]\n",
    "        # print(encoded_label)\n",
    "        return img_tnsr, encoded_label"
   ]
  },
  {
   "cell_type": "code",
   "execution_count": 11,
   "metadata": {
    "executionInfo": {
     "elapsed": 198,
     "status": "ok",
     "timestamp": 1636492346150,
     "user": {
      "displayName": "Evgeniy Macheev",
      "photoUrl": "https://lh3.googleusercontent.com/a/default-user=s64",
      "userId": "07811491615512481378"
     },
     "user_tz": -180
    },
    "id": "_M1gc75x8qFl"
   },
   "outputs": [],
   "source": [
    "batch_size_ = 64\n",
    "train_loader = torch.utils.data.DataLoader(\n",
    "         SignDataset(gt_train, train_dir),\n",
    "        batch_size=batch_size_,\n",
    "        # pin_memory=True,\n",
    "        shuffle=True,\n",
    "    )\n",
    "# next(iter(train_loader))"
   ]
  },
  {
   "cell_type": "code",
   "execution_count": 12,
   "metadata": {
    "executionInfo": {
     "elapsed": 2873,
     "status": "ok",
     "timestamp": 1636492352405,
     "user": {
      "displayName": "Evgeniy Macheev",
      "photoUrl": "https://lh3.googleusercontent.com/a/default-user=s64",
      "userId": "07811491615512481378"
     },
     "user_tz": -180
    },
    "id": "AhqWRtSb-ndd"
   },
   "outputs": [],
   "source": [
    "from torchvision import models, transforms as transforms\n",
    "model = models.resnet18(pretrained=True)\n",
    "model.fc = nn.Linear(512, len(MODEL_CLASSES))\n",
    "model.to(device)\n",
    "\n",
    "data_transforms = {\n",
    "    'train': transforms.Compose([\n",
    "        transforms.Resize(244),\n",
    "        #transforms.RandomResizedCrop(input_size),\n",
    "        #transforms.RandomHorizontalFlip(),\n",
    "        transforms.ToTensor(),\n",
    "        transforms.Normalize([0.485, 0.456, 0.406], [0.229, 0.224, 0.225])\n",
    "    ]),\n",
    "    'val': transforms.Compose([\n",
    "        transforms.Resize(244),\n",
    "        #transforms.Resize(input_size),\n",
    "        #transforms.CenterCrop(input_size),\n",
    "        transforms.ToTensor(),\n",
    "        transforms.Normalize([0.485, 0.456, 0.406], [0.229, 0.224, 0.225])\n",
    "    ]),\n",
    "}"
   ]
  },
  {
   "cell_type": "code",
   "execution_count": 13,
   "metadata": {
    "executionInfo": {
     "elapsed": 195,
     "status": "ok",
     "timestamp": 1636492353658,
     "user": {
      "displayName": "Evgeniy Macheev",
      "photoUrl": "https://lh3.googleusercontent.com/a/default-user=s64",
      "userId": "07811491615512481378"
     },
     "user_tz": -180
    },
    "id": "dcRK0hwMLo7Y"
   },
   "outputs": [],
   "source": [
    "def train_epoch(model, loader, loss_op, optim):\n",
    "    loss_ = []\n",
    "    torch.set_grad_enabled(True)\n",
    "    \n",
    "    # Таким образом переводим модель в режим обучения\n",
    "    # В этом режиме вычисляются градиенты, нужные для обучения\n",
    "    model.train()\n",
    "    \n",
    "    for batch_idx, (imgs_batch, labels_batch) in enumerate(loader):\n",
    "        # print(imgs_batch.shape)\n",
    "        imgs_batch = imgs_batch.to(device)\n",
    "        # print(labels_batch)\n",
    "        labels_batch = labels_batch.to(device)\n",
    "\n",
    "        pred = model(imgs_batch)\n",
    "\n",
    "        loss = loss_op(pred, labels_batch)\n",
    "        # Сохраним в историю эпохи\n",
    "        l_ = loss.item()\n",
    "        loss_.append(l_)\n",
    "        # model.addValidHistoryAcc(l_)\n",
    "        # optim.zero_grad()\n",
    "        for param in model.parameters(): # https://pytorch.org/tutorials/recipes/recipes/tuning_guide.html\n",
    "            param.grad = None\n",
    "        loss.backward()\n",
    "        optim.step()\n",
    "        \n",
    "        if batch_idx % 20 == 0:\n",
    "            print('\\rTrain Epoch: {} [{}/{} ({:.2f}%)]'.\n",
    "                  format(epoch, batch_idx * len(imgs_batch), len(loader.dataset),\n",
    "                 100 * batch_idx * len(imgs_batch) / len(loader.dataset)), flush=True, end='')\n",
    "        \n",
    "    print('\\rTrain Epoch: {} [{}/{} (100%)]     \\n'.\n",
    "                  format(epoch, len(loader.dataset), len(loader.dataset)), flush=True, end='')\n",
    "    \n",
    "    return np.mean(loss_)\n",
    "\n",
    "\n",
    "from sklearn.metrics import accuracy_score\n",
    "\n",
    "def evaluate_batch_accuracy(y_pred, y_true):\n",
    "    '''\n",
    "    Оценка точности предсказания (accuracy)\n",
    "\n",
    "    y_pred:\n",
    "        батч сырых степеней уверенности, размер (N, K)\n",
    "    y_true:\n",
    "        вектор истинных значений, размер (N)\n",
    "    '''\n",
    "    y_pred = y_pred.detach().numpy()\n",
    "    y_true = y_true.detach().numpy()\n",
    "    # print(y_true)\n",
    "    # print(y_pred)\n",
    "    accuracy = 0\n",
    "    for i in range(len(y_true)):\n",
    "        index_max = max(range(len(y_pred[i, :])), key=y_pred[i].__getitem__)\n",
    "        # print(index_max)\n",
    "        if (index_max == y_true[i]):\n",
    "            accuracy += 1\n",
    "    accuracy /= len(y_pred)\n",
    "    return accuracy\n",
    "\n",
    "def valid_epoch(model, loader, loss):\n",
    "    acc_ = []\n",
    "    torch.set_grad_enabled(False)\n",
    "    # Таким образом переводим модель в режим исполнения (inference)\n",
    "    # В этом режиме отключены градиенты, он быстрее, \n",
    "    #   но в нём нельзя обучать модель\n",
    "    model.eval()\n",
    "    for batch_idx, (imgs_batch, labels_batch) in enumerate(loader):\n",
    "        imgs_batch = imgs_batch.to(device)\n",
    "        #print(labels_batch)\n",
    "        labels_batch = labels_batch.to(device)\n",
    "        \n",
    "        pred = model(imgs_batch)\n",
    "        \n",
    "        local_acc = evaluate_batch_accuracy(pred.cpu(), labels_batch.cpu())\n",
    "        acc_.append(local_acc)\n",
    "        \n",
    "        # model.addValidHistoryAcc(local_acc)\n",
    "        \n",
    "        if batch_idx % 20 == 0:\n",
    "            print('\\rValid Epoch: {} [{}/{} ({:.2f}%)]'.\n",
    "                  format(epoch, batch_idx * len(imgs_batch), len(loader.dataset),\n",
    "                 100 * batch_idx * len(imgs_batch) / len(loader.dataset)), flush=True, end='')\n",
    "        \n",
    "    print('\\rValid Epoch: {} [{}/{} (100%)]     \\n'.\n",
    "                  format(epoch, len(loader.dataset), len(loader.dataset)), flush=True, end='')\n",
    "    \n",
    "    return np.mean(acc_)"
   ]
  },
  {
   "cell_type": "code",
   "execution_count": 14,
   "metadata": {
    "colab": {
     "base_uri": "https://localhost:8080/"
    },
    "id": "Cw7SfWnTQ_lL",
    "outputId": "eff35e94-f4de-4a29-dffa-3f0792249507"
   },
   "outputs": [
    {
     "name": "stdout",
     "output_type": "stream",
     "text": [
      "Train Epoch: 0 [23040/49482 (46.56%)]"
     ]
    },
    {
     "ename": "error",
     "evalue": "OpenCV(4.5.4-dev) D:\\a\\opencv-python\\opencv-python\\opencv\\modules\\imgproc\\src\\resize.cpp:4051: error: (-215:Assertion failed) !ssize.empty() in function 'cv::resize'\n",
     "output_type": "error",
     "traceback": [
      "\u001b[1;31m---------------------------------------------------------------------------\u001b[0m",
      "\u001b[1;31merror\u001b[0m                                     Traceback (most recent call last)",
      "\u001b[1;32m~\\AppData\\Local\\Temp/ipykernel_12584/1637190854.py\u001b[0m in \u001b[0;36m<module>\u001b[1;34m\u001b[0m\n\u001b[0;32m     20\u001b[0m \u001b[1;32mfor\u001b[0m \u001b[0mepoch\u001b[0m \u001b[1;32min\u001b[0m \u001b[0mrange\u001b[0m\u001b[1;33m(\u001b[0m\u001b[0mconfig\u001b[0m\u001b[1;33m[\u001b[0m\u001b[1;34m'epochs'\u001b[0m\u001b[1;33m]\u001b[0m\u001b[1;33m)\u001b[0m\u001b[1;33m:\u001b[0m\u001b[1;33m\u001b[0m\u001b[1;33m\u001b[0m\u001b[0m\n\u001b[0;32m     21\u001b[0m \u001b[1;33m\u001b[0m\u001b[0m\n\u001b[1;32m---> 22\u001b[1;33m     \u001b[0mhistory\u001b[0m\u001b[1;33m[\u001b[0m\u001b[1;34m'train_loss'\u001b[0m\u001b[1;33m]\u001b[0m\u001b[1;33m.\u001b[0m\u001b[0mappend\u001b[0m\u001b[1;33m(\u001b[0m\u001b[0mtrain_epoch\u001b[0m\u001b[1;33m(\u001b[0m\u001b[0mmodel\u001b[0m\u001b[1;33m,\u001b[0m \u001b[0mtrain_loader\u001b[0m\u001b[1;33m,\u001b[0m \u001b[0mloss_op\u001b[0m\u001b[1;33m,\u001b[0m \u001b[0moptim\u001b[0m\u001b[1;33m)\u001b[0m\u001b[1;33m)\u001b[0m\u001b[1;33m\u001b[0m\u001b[1;33m\u001b[0m\u001b[0m\n\u001b[0m\u001b[0;32m     23\u001b[0m \u001b[1;33m\u001b[0m\u001b[0m\n\u001b[0;32m     24\u001b[0m     \u001b[0mprint\u001b[0m\u001b[1;33m(\u001b[0m\u001b[1;34mf'Epoch {epoch}:'\u001b[0m\u001b[1;33m)\u001b[0m\u001b[1;33m\u001b[0m\u001b[1;33m\u001b[0m\u001b[0m\n",
      "\u001b[1;32m~\\AppData\\Local\\Temp/ipykernel_12584/3180821888.py\u001b[0m in \u001b[0;36mtrain_epoch\u001b[1;34m(model, loader, loss_op, optim)\u001b[0m\n\u001b[0;32m      7\u001b[0m     \u001b[0mmodel\u001b[0m\u001b[1;33m.\u001b[0m\u001b[0mtrain\u001b[0m\u001b[1;33m(\u001b[0m\u001b[1;33m)\u001b[0m\u001b[1;33m\u001b[0m\u001b[1;33m\u001b[0m\u001b[0m\n\u001b[0;32m      8\u001b[0m \u001b[1;33m\u001b[0m\u001b[0m\n\u001b[1;32m----> 9\u001b[1;33m     \u001b[1;32mfor\u001b[0m \u001b[0mbatch_idx\u001b[0m\u001b[1;33m,\u001b[0m \u001b[1;33m(\u001b[0m\u001b[0mimgs_batch\u001b[0m\u001b[1;33m,\u001b[0m \u001b[0mlabels_batch\u001b[0m\u001b[1;33m)\u001b[0m \u001b[1;32min\u001b[0m \u001b[0menumerate\u001b[0m\u001b[1;33m(\u001b[0m\u001b[0mloader\u001b[0m\u001b[1;33m)\u001b[0m\u001b[1;33m:\u001b[0m\u001b[1;33m\u001b[0m\u001b[1;33m\u001b[0m\u001b[0m\n\u001b[0m\u001b[0;32m     10\u001b[0m         \u001b[1;31m# print(imgs_batch.shape)\u001b[0m\u001b[1;33m\u001b[0m\u001b[1;33m\u001b[0m\u001b[1;33m\u001b[0m\u001b[0m\n\u001b[0;32m     11\u001b[0m         \u001b[0mimgs_batch\u001b[0m \u001b[1;33m=\u001b[0m \u001b[0mimgs_batch\u001b[0m\u001b[1;33m.\u001b[0m\u001b[0mto\u001b[0m\u001b[1;33m(\u001b[0m\u001b[0mdevice\u001b[0m\u001b[1;33m)\u001b[0m\u001b[1;33m\u001b[0m\u001b[1;33m\u001b[0m\u001b[0m\n",
      "\u001b[1;32mC:\\ProgramData\\Anaconda3\\lib\\site-packages\\torch\\utils\\data\\dataloader.py\u001b[0m in \u001b[0;36m__next__\u001b[1;34m(self)\u001b[0m\n\u001b[0;32m    519\u001b[0m             \u001b[1;32mif\u001b[0m \u001b[0mself\u001b[0m\u001b[1;33m.\u001b[0m\u001b[0m_sampler_iter\u001b[0m \u001b[1;32mis\u001b[0m \u001b[1;32mNone\u001b[0m\u001b[1;33m:\u001b[0m\u001b[1;33m\u001b[0m\u001b[1;33m\u001b[0m\u001b[0m\n\u001b[0;32m    520\u001b[0m                 \u001b[0mself\u001b[0m\u001b[1;33m.\u001b[0m\u001b[0m_reset\u001b[0m\u001b[1;33m(\u001b[0m\u001b[1;33m)\u001b[0m\u001b[1;33m\u001b[0m\u001b[1;33m\u001b[0m\u001b[0m\n\u001b[1;32m--> 521\u001b[1;33m             \u001b[0mdata\u001b[0m \u001b[1;33m=\u001b[0m \u001b[0mself\u001b[0m\u001b[1;33m.\u001b[0m\u001b[0m_next_data\u001b[0m\u001b[1;33m(\u001b[0m\u001b[1;33m)\u001b[0m\u001b[1;33m\u001b[0m\u001b[1;33m\u001b[0m\u001b[0m\n\u001b[0m\u001b[0;32m    522\u001b[0m             \u001b[0mself\u001b[0m\u001b[1;33m.\u001b[0m\u001b[0m_num_yielded\u001b[0m \u001b[1;33m+=\u001b[0m \u001b[1;36m1\u001b[0m\u001b[1;33m\u001b[0m\u001b[1;33m\u001b[0m\u001b[0m\n\u001b[0;32m    523\u001b[0m             \u001b[1;32mif\u001b[0m \u001b[0mself\u001b[0m\u001b[1;33m.\u001b[0m\u001b[0m_dataset_kind\u001b[0m \u001b[1;33m==\u001b[0m \u001b[0m_DatasetKind\u001b[0m\u001b[1;33m.\u001b[0m\u001b[0mIterable\u001b[0m \u001b[1;32mand\u001b[0m\u001b[0;31m \u001b[0m\u001b[0;31m\\\u001b[0m\u001b[1;33m\u001b[0m\u001b[1;33m\u001b[0m\u001b[0m\n",
      "\u001b[1;32mC:\\ProgramData\\Anaconda3\\lib\\site-packages\\torch\\utils\\data\\dataloader.py\u001b[0m in \u001b[0;36m_next_data\u001b[1;34m(self)\u001b[0m\n\u001b[0;32m    559\u001b[0m     \u001b[1;32mdef\u001b[0m \u001b[0m_next_data\u001b[0m\u001b[1;33m(\u001b[0m\u001b[0mself\u001b[0m\u001b[1;33m)\u001b[0m\u001b[1;33m:\u001b[0m\u001b[1;33m\u001b[0m\u001b[1;33m\u001b[0m\u001b[0m\n\u001b[0;32m    560\u001b[0m         \u001b[0mindex\u001b[0m \u001b[1;33m=\u001b[0m \u001b[0mself\u001b[0m\u001b[1;33m.\u001b[0m\u001b[0m_next_index\u001b[0m\u001b[1;33m(\u001b[0m\u001b[1;33m)\u001b[0m  \u001b[1;31m# may raise StopIteration\u001b[0m\u001b[1;33m\u001b[0m\u001b[1;33m\u001b[0m\u001b[0m\n\u001b[1;32m--> 561\u001b[1;33m         \u001b[0mdata\u001b[0m \u001b[1;33m=\u001b[0m \u001b[0mself\u001b[0m\u001b[1;33m.\u001b[0m\u001b[0m_dataset_fetcher\u001b[0m\u001b[1;33m.\u001b[0m\u001b[0mfetch\u001b[0m\u001b[1;33m(\u001b[0m\u001b[0mindex\u001b[0m\u001b[1;33m)\u001b[0m  \u001b[1;31m# may raise StopIteration\u001b[0m\u001b[1;33m\u001b[0m\u001b[1;33m\u001b[0m\u001b[0m\n\u001b[0m\u001b[0;32m    562\u001b[0m         \u001b[1;32mif\u001b[0m \u001b[0mself\u001b[0m\u001b[1;33m.\u001b[0m\u001b[0m_pin_memory\u001b[0m\u001b[1;33m:\u001b[0m\u001b[1;33m\u001b[0m\u001b[1;33m\u001b[0m\u001b[0m\n\u001b[0;32m    563\u001b[0m             \u001b[0mdata\u001b[0m \u001b[1;33m=\u001b[0m \u001b[0m_utils\u001b[0m\u001b[1;33m.\u001b[0m\u001b[0mpin_memory\u001b[0m\u001b[1;33m.\u001b[0m\u001b[0mpin_memory\u001b[0m\u001b[1;33m(\u001b[0m\u001b[0mdata\u001b[0m\u001b[1;33m)\u001b[0m\u001b[1;33m\u001b[0m\u001b[1;33m\u001b[0m\u001b[0m\n",
      "\u001b[1;32mC:\\ProgramData\\Anaconda3\\lib\\site-packages\\torch\\utils\\data\\_utils\\fetch.py\u001b[0m in \u001b[0;36mfetch\u001b[1;34m(self, possibly_batched_index)\u001b[0m\n\u001b[0;32m     47\u001b[0m     \u001b[1;32mdef\u001b[0m \u001b[0mfetch\u001b[0m\u001b[1;33m(\u001b[0m\u001b[0mself\u001b[0m\u001b[1;33m,\u001b[0m \u001b[0mpossibly_batched_index\u001b[0m\u001b[1;33m)\u001b[0m\u001b[1;33m:\u001b[0m\u001b[1;33m\u001b[0m\u001b[1;33m\u001b[0m\u001b[0m\n\u001b[0;32m     48\u001b[0m         \u001b[1;32mif\u001b[0m \u001b[0mself\u001b[0m\u001b[1;33m.\u001b[0m\u001b[0mauto_collation\u001b[0m\u001b[1;33m:\u001b[0m\u001b[1;33m\u001b[0m\u001b[1;33m\u001b[0m\u001b[0m\n\u001b[1;32m---> 49\u001b[1;33m             \u001b[0mdata\u001b[0m \u001b[1;33m=\u001b[0m \u001b[1;33m[\u001b[0m\u001b[0mself\u001b[0m\u001b[1;33m.\u001b[0m\u001b[0mdataset\u001b[0m\u001b[1;33m[\u001b[0m\u001b[0midx\u001b[0m\u001b[1;33m]\u001b[0m \u001b[1;32mfor\u001b[0m \u001b[0midx\u001b[0m \u001b[1;32min\u001b[0m \u001b[0mpossibly_batched_index\u001b[0m\u001b[1;33m]\u001b[0m\u001b[1;33m\u001b[0m\u001b[1;33m\u001b[0m\u001b[0m\n\u001b[0m\u001b[0;32m     50\u001b[0m         \u001b[1;32melse\u001b[0m\u001b[1;33m:\u001b[0m\u001b[1;33m\u001b[0m\u001b[1;33m\u001b[0m\u001b[0m\n\u001b[0;32m     51\u001b[0m             \u001b[0mdata\u001b[0m \u001b[1;33m=\u001b[0m \u001b[0mself\u001b[0m\u001b[1;33m.\u001b[0m\u001b[0mdataset\u001b[0m\u001b[1;33m[\u001b[0m\u001b[0mpossibly_batched_index\u001b[0m\u001b[1;33m]\u001b[0m\u001b[1;33m\u001b[0m\u001b[1;33m\u001b[0m\u001b[0m\n",
      "\u001b[1;32mC:\\ProgramData\\Anaconda3\\lib\\site-packages\\torch\\utils\\data\\_utils\\fetch.py\u001b[0m in \u001b[0;36m<listcomp>\u001b[1;34m(.0)\u001b[0m\n\u001b[0;32m     47\u001b[0m     \u001b[1;32mdef\u001b[0m \u001b[0mfetch\u001b[0m\u001b[1;33m(\u001b[0m\u001b[0mself\u001b[0m\u001b[1;33m,\u001b[0m \u001b[0mpossibly_batched_index\u001b[0m\u001b[1;33m)\u001b[0m\u001b[1;33m:\u001b[0m\u001b[1;33m\u001b[0m\u001b[1;33m\u001b[0m\u001b[0m\n\u001b[0;32m     48\u001b[0m         \u001b[1;32mif\u001b[0m \u001b[0mself\u001b[0m\u001b[1;33m.\u001b[0m\u001b[0mauto_collation\u001b[0m\u001b[1;33m:\u001b[0m\u001b[1;33m\u001b[0m\u001b[1;33m\u001b[0m\u001b[0m\n\u001b[1;32m---> 49\u001b[1;33m             \u001b[0mdata\u001b[0m \u001b[1;33m=\u001b[0m \u001b[1;33m[\u001b[0m\u001b[0mself\u001b[0m\u001b[1;33m.\u001b[0m\u001b[0mdataset\u001b[0m\u001b[1;33m[\u001b[0m\u001b[0midx\u001b[0m\u001b[1;33m]\u001b[0m \u001b[1;32mfor\u001b[0m \u001b[0midx\u001b[0m \u001b[1;32min\u001b[0m \u001b[0mpossibly_batched_index\u001b[0m\u001b[1;33m]\u001b[0m\u001b[1;33m\u001b[0m\u001b[1;33m\u001b[0m\u001b[0m\n\u001b[0m\u001b[0;32m     50\u001b[0m         \u001b[1;32melse\u001b[0m\u001b[1;33m:\u001b[0m\u001b[1;33m\u001b[0m\u001b[1;33m\u001b[0m\u001b[0m\n\u001b[0;32m     51\u001b[0m             \u001b[0mdata\u001b[0m \u001b[1;33m=\u001b[0m \u001b[0mself\u001b[0m\u001b[1;33m.\u001b[0m\u001b[0mdataset\u001b[0m\u001b[1;33m[\u001b[0m\u001b[0mpossibly_batched_index\u001b[0m\u001b[1;33m]\u001b[0m\u001b[1;33m\u001b[0m\u001b[1;33m\u001b[0m\u001b[0m\n",
      "\u001b[1;32m~\\AppData\\Local\\Temp/ipykernel_12584/1993151389.py\u001b[0m in \u001b[0;36m__getitem__\u001b[1;34m(self, index)\u001b[0m\n\u001b[0;32m     11\u001b[0m         \u001b[1;31m# print(path)\u001b[0m\u001b[1;33m\u001b[0m\u001b[1;33m\u001b[0m\u001b[1;33m\u001b[0m\u001b[0m\n\u001b[0;32m     12\u001b[0m         \u001b[0mimg\u001b[0m \u001b[1;33m=\u001b[0m \u001b[0mcv2\u001b[0m\u001b[1;33m.\u001b[0m\u001b[0mimread\u001b[0m\u001b[1;33m(\u001b[0m\u001b[0mstr\u001b[0m\u001b[1;33m(\u001b[0m\u001b[0mpath\u001b[0m\u001b[1;33m)\u001b[0m\u001b[1;33m)\u001b[0m\u001b[1;33m\u001b[0m\u001b[1;33m\u001b[0m\u001b[0m\n\u001b[1;32m---> 13\u001b[1;33m         \u001b[0mimg\u001b[0m \u001b[1;33m=\u001b[0m \u001b[0mcv2\u001b[0m\u001b[1;33m.\u001b[0m\u001b[0mresize\u001b[0m\u001b[1;33m(\u001b[0m\u001b[0mimg\u001b[0m\u001b[1;33m,\u001b[0m \u001b[1;33m(\u001b[0m\u001b[1;36m160\u001b[0m\u001b[1;33m,\u001b[0m \u001b[1;36m160\u001b[0m\u001b[1;33m)\u001b[0m\u001b[1;33m)\u001b[0m\u001b[1;33m\u001b[0m\u001b[1;33m\u001b[0m\u001b[0m\n\u001b[0m\u001b[0;32m     14\u001b[0m         \u001b[1;31m# print(img)\u001b[0m\u001b[1;33m\u001b[0m\u001b[1;33m\u001b[0m\u001b[1;33m\u001b[0m\u001b[0m\n\u001b[0;32m     15\u001b[0m         \u001b[0mimg_tnsr\u001b[0m \u001b[1;33m=\u001b[0m \u001b[0mtorch\u001b[0m\u001b[1;33m.\u001b[0m\u001b[0mTensor\u001b[0m\u001b[1;33m.\u001b[0m\u001b[0mpermute\u001b[0m\u001b[1;33m(\u001b[0m\u001b[0mtorch\u001b[0m\u001b[1;33m.\u001b[0m\u001b[0mTensor\u001b[0m\u001b[1;33m(\u001b[0m\u001b[0mimg\u001b[0m\u001b[1;33m)\u001b[0m\u001b[1;33m,\u001b[0m \u001b[1;33m[\u001b[0m\u001b[1;36m2\u001b[0m\u001b[1;33m,\u001b[0m \u001b[1;36m0\u001b[0m\u001b[1;33m,\u001b[0m \u001b[1;36m1\u001b[0m\u001b[1;33m]\u001b[0m\u001b[1;33m)\u001b[0m\u001b[1;33m.\u001b[0m\u001b[0mdiv\u001b[0m\u001b[1;33m(\u001b[0m\u001b[1;36m255\u001b[0m\u001b[1;33m)\u001b[0m\u001b[1;33m\u001b[0m\u001b[1;33m\u001b[0m\u001b[0m\n",
      "\u001b[1;31merror\u001b[0m: OpenCV(4.5.4-dev) D:\\a\\opencv-python\\opencv-python\\opencv\\modules\\imgproc\\src\\resize.cpp:4051: error: (-215:Assertion failed) !ssize.empty() in function 'cv::resize'\n"
     ]
    }
   ],
   "source": [
    "config = {\n",
    "    'lr': 0.001,\n",
    "    'epochs': 15,\n",
    "}\n",
    "\n",
    "if os.path.isfile('44_hw_nn2'):\n",
    "    model.load_state_dict(torch.load('44_hw_nn2'))\n",
    "    print('[+] Model restored from save file!')\n",
    "\n",
    "loss_op = nn.CrossEntropyLoss().cuda()\n",
    "optim = torch.optim.Adadelta(model.parameters(), lr=config['lr'])\n",
    "\n",
    "history = {\n",
    "    'train_loss': [],\n",
    "    'valid_acc': []\n",
    "}\n",
    "\n",
    "from datetime import datetime\n",
    "model.to(device)\n",
    "for epoch in range(config['epochs']):\n",
    "    \n",
    "    history['train_loss'].append(train_epoch(model, train_loader, loss_op, optim))\n",
    "\n",
    "    print(f'Epoch {epoch}:')\n",
    "    print('  Train loss:', history['train_loss'][-1])\n",
    "\n",
    "    history['valid_acc'].append(valid_epoch(model, train_loader, loss_op))\n",
    "    # model.incIter()\n",
    "    print('  Valid acc:', history['valid_acc'][-1])\n",
    "    \n",
    "    now = datetime.now()\n",
    "    model_save_name = '44_hw_nn2_{}_loss{:.4f}_acc_{:.4f}'.format(now.strftime(\"%m.%d_%H.%M\"),\n",
    "                                                                  history['train_loss'][-1],\n",
    "                                                                  history['valid_acc'][-1],\n",
    "                                                         )\n",
    "\n",
    "    torch.save(model.state_dict(), model_save_name)\n",
    "    torch.save(model.state_dict(), '44_hw_nn2')\n",
    "\n",
    "print(history)"
   ]
  },
  {
   "cell_type": "code",
   "execution_count": null,
   "metadata": {
    "colab": {
     "base_uri": "https://localhost:8080/"
    },
    "executionInfo": {
     "elapsed": 659,
     "status": "ok",
     "timestamp": 1636483879625,
     "user": {
      "displayName": "Evgeniy Macheev",
      "photoUrl": "https://lh3.googleusercontent.com/a/default-user=s64",
      "userId": "07811491615512481378"
     },
     "user_tz": -180
    },
    "id": "ZWSgQqLP_CY1",
    "outputId": "292b9657-c509-4cff-dfbc-beb45afa5c0e"
   },
   "outputs": [],
   "source": [
    "model(train_loader[0][0][None, ...])"
   ]
  },
  {
   "cell_type": "markdown",
   "metadata": {
    "id": "3eGKuCzEpsK5"
   },
   "source": [
    "# New Section"
   ]
  },
  {
   "cell_type": "code",
   "execution_count": null,
   "metadata": {
    "colab": {
     "base_uri": "https://localhost:8080/"
    },
    "executionInfo": {
     "elapsed": 287,
     "status": "ok",
     "timestamp": 1636311779298,
     "user": {
      "displayName": "Evgeniy Macheev",
      "photoUrl": "https://lh3.googleusercontent.com/a/default-user=s64",
      "userId": "07811491615512481378"
     },
     "user_tz": -180
    },
    "id": "Y5p4QtlKwUzz",
    "outputId": "eb924afc-132b-47e0-90cb-13b9db296757"
   },
   "outputs": [],
   "source": [
    "!pwd\n",
    "%cd 'classification'\n",
    "!ls"
   ]
  },
  {
   "cell_type": "code",
   "execution_count": null,
   "metadata": {
    "colab": {
     "base_uri": "https://localhost:8080/"
    },
    "executionInfo": {
     "elapsed": 2565484,
     "status": "ok",
     "timestamp": 1636314632288,
     "user": {
      "displayName": "Evgeniy Macheev",
      "photoUrl": "https://lh3.googleusercontent.com/a/default-user=s64",
      "userId": "07811491615512481378"
     },
     "user_tz": -180
    },
    "id": "Wp_1Y-RmxtQy",
    "outputId": "a2011a05-a702-486e-b7ed-e5106d90573a"
   },
   "outputs": [],
   "source": [
    "!7z e rtsd-r1.tar"
   ]
  }
 ],
 "metadata": {
  "accelerator": "GPU",
  "colab": {
   "authorship_tag": "ABX9TyOHj6sLTcKTt3NM2EMlwaWU",
   "collapsed_sections": [],
   "name": "rtsd_research.ipynb",
   "provenance": []
  },
  "kernelspec": {
   "display_name": "Python 3 (ipykernel)",
   "language": "python",
   "name": "python3"
  },
  "language_info": {
   "codemirror_mode": {
    "name": "ipython",
    "version": 3
   },
   "file_extension": ".py",
   "mimetype": "text/x-python",
   "name": "python",
   "nbconvert_exporter": "python",
   "pygments_lexer": "ipython3",
   "version": "3.8.12"
  }
 },
 "nbformat": 4,
 "nbformat_minor": 1
}
