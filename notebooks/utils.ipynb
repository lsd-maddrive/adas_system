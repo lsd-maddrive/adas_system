{
 "cells": [
  {
   "cell_type": "code",
   "execution_count": 1,
   "id": "52b4f79a",
   "metadata": {},
   "outputs": [],
   "source": [
    "def printProgressEnum(index, length, label=None):\n",
    "    print('\\r{}Progress: {}/{} ({:.2f}%)'.\n",
    "                  format(label if label != None else '', index + 1, length, 100 * (index + 1) / length), flush=True, end='')\n",
    "    \n"
   ]
  }
 ],
 "metadata": {
  "kernelspec": {
   "display_name": "Python 3 (ipykernel)",
   "language": "python",
   "name": "python3"
  },
  "language_info": {
   "codemirror_mode": {
    "name": "ipython",
    "version": 3
   },
   "file_extension": ".py",
   "mimetype": "text/x-python",
   "name": "python",
   "nbconvert_exporter": "python",
   "pygments_lexer": "ipython3",
   "version": "3.8.12"
  }
 },
 "nbformat": 4,
 "nbformat_minor": 5
}
