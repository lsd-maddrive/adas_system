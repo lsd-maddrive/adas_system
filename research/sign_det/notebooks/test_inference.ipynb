{
 "cells": [
  {
   "cell_type": "code",
   "execution_count": null,
   "metadata": {},
   "outputs": [],
   "source": [
    "%load_ext autoreload\n",
    "%autoreload 2\n",
    "\n",
    "import os\n",
    "\n",
    "from maddrive_adas.train.inference import InferExecutor\n",
    "from maddrive_adas.utils import fs, viz\n",
    "\n",
    "from matplotlib import pyplot as plt"
   ]
  },
  {
   "cell_type": "code",
   "execution_count": null,
   "metadata": {},
   "outputs": [],
   "source": [
    "PROJECT_ROOT = os.path.abspath(os.path.join(os.curdir, os.pardir, os.pardir, os.pardir))\n",
    "\n",
    "print(PROJECT_ROOT)\n",
    "\n",
    "BEST_CHECKPOINT_PATH = os.path.join(PROJECT_ROOT, \"outputs\", \"2022-07-03\", \"14-33-16\", \"train_checkpoints\", \"signs_detector\", \"model.best.pth\")\n",
    "\n",
    "print(BEST_CHECKPOINT_PATH)"
   ]
  },
  {
   "cell_type": "code",
   "execution_count": null,
   "metadata": {},
   "outputs": [],
   "source": [
    "infer = InferExecutor.from_file(BEST_CHECKPOINT_PATH)"
   ]
  },
  {
   "cell_type": "code",
   "execution_count": null,
   "metadata": {},
   "outputs": [],
   "source": [
    "DATA_FPATH = os.path.join(PROJECT_ROOT, \"17-17_det.png\")\n",
    "\n",
    "img = fs.imread_rgb(DATA_FPATH)"
   ]
  },
  {
   "cell_type": "code",
   "execution_count": null,
   "metadata": {},
   "outputs": [],
   "source": [
    "preds = infer.infer_image(img)\n",
    "preds"
   ]
  },
  {
   "cell_type": "code",
   "execution_count": null,
   "metadata": {},
   "outputs": [],
   "source": [
    "canvas = img.copy()\n",
    "\n",
    "canvas = viz.draw_detections(canvas, bboxes=preds[\"bboxes\"], labels=preds[\"classes\"], scores=preds[\"scores\"])\n",
    "\n",
    "plt.figure(figsize=(15,9))\n",
    "plt.imshow(canvas)"
   ]
  },
  {
   "cell_type": "code",
   "execution_count": null,
   "metadata": {},
   "outputs": [],
   "source": []
  }
 ],
 "metadata": {
  "kernelspec": {
   "display_name": "Python 3.8.10 ('.venv': poetry)",
   "language": "python",
   "name": "python3"
  },
  "language_info": {
   "codemirror_mode": {
    "name": "ipython",
    "version": 3
   },
   "file_extension": ".py",
   "mimetype": "text/x-python",
   "name": "python",
   "nbconvert_exporter": "python",
   "pygments_lexer": "ipython3",
   "version": "3.8.10"
  },
  "vscode": {
   "interpreter": {
    "hash": "8c79b715b1e24e4032388d58afa3c3a3af0f4972d168c635ac58bb91e0215914"
   }
  }
 },
 "nbformat": 4,
 "nbformat_minor": 2
}
