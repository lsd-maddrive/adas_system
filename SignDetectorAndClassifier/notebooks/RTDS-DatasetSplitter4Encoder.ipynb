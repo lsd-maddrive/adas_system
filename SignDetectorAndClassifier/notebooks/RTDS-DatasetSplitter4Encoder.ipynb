{
 "cells": [
  {
   "cell_type": "markdown",
   "id": "d869f31a",
   "metadata": {},
   "source": [
    "В отличии от друг *RTSD-R_MERGED.ipynb*, этот ноутбук нацелен на формировние обуч. датасета с учетом след. условий:\n",
    "\n",
    "* Объеденить все знаки ограничения скорости\n",
    "* Объеденить все знаки конца ограничений скорости\n",
    "\n",
    "* Выплевывать датасет со всеми доступными знаками, т.к. он будет нужен для энкодера **иншааллах**!"
   ]
  },
  {
   "cell_type": "code",
   "execution_count": null,
   "id": "05066764",
   "metadata": {},
   "outputs": [],
   "source": [
    "import pandas as pd\n",
    "import os\n",
    "import pathlib\n",
    "import shutil\n",
    "import numpy as np\n",
    "import seaborn as sns\n",
    "import matplotlib.pyplot as plt\n",
    "\n",
    "RTSD_PUBLIC_ROOT = pathlib.Path('D:\\\\Downloads\\\\rtsd-public\\\\classification')\n",
    "\n",
    "PATH_TO_RTDS_R1 = RTSD_PUBLIC_ROOT / 'rtsd-r1.tar/rtsd-r1'\n",
    "PATH_TO_RTDS_R3 = RTSD_PUBLIC_ROOT / 'rtsd-r3.tar/rtsd-r3'\n",
    "\n",
    "PROJECT_ROOT = pathlib.Path(os.path.join(os.curdir, os.pardir))\n",
    "\n",
    "DATA_DIR = PROJECT_ROOT / 'data'\n",
    "NOTEBOOKS_DIR = PROJECT_ROOT / 'notebooks'\n",
    "\n",
    "RTSD_MERGE_OUT_DIR = DATA_DIR / 'RTSD_CLASSIFIER_DATASET'\n",
    "RTSD_MERGE_OUT_DIR.mkdir(parents=True, exist_ok=True)"
   ]
  },
  {
   "cell_type": "code",
   "execution_count": null,
   "id": "34c587e4",
   "metadata": {},
   "outputs": [],
   "source": [
    "RTDS_R1_N2C = pd.read_csv(PATH_TO_RTDS_R1 / 'numbers_to_classes.csv')\n",
    "RTDS_R1_N2C_DICT = RTDS_R1_N2C.set_index('class_number').to_dict()['sign_class']\n",
    "display(RTDS_R1_N2C.head())\n",
    "\n",
    "RTDS_R3_N2C = pd.read_csv(PATH_TO_RTDS_R3 / 'numbers_to_classes.csv')\n",
    "RTDS_R3_N2C_DICT = RTDS_R3_N2C.set_index('class_number').to_dict()['sign_class']\n",
    "display(RTDS_R3_N2C.head())\n",
    "\n",
    "R1_TEST = pd.read_csv(PATH_TO_RTDS_R1 / 'gt_test.csv')\n",
    "R1_TRAIN = pd.read_csv(PATH_TO_RTDS_R1 / 'gt_train.csv')\n",
    "R3_TEST = pd.read_csv(PATH_TO_RTDS_R3 / 'gt_test.csv')\n",
    "R3_TRAIN = pd.read_csv(PATH_TO_RTDS_R3 / 'gt_train.csv')\n",
    "\n",
    "\n",
    "R1_TRAIN['class_number'] = R1_TRAIN['class_number'].apply(lambda x: RTDS_R1_N2C_DICT[x])\n",
    "R1_TRAIN['filename'] = R1_TRAIN['filename'].apply(lambda x: 'rtsd-r1/train/' + x)\n",
    "\n",
    "R1_TEST['class_number'] = R1_TEST['class_number'].apply(lambda x: RTDS_R1_N2C_DICT[x])\n",
    "R1_TEST['filename'] = R1_TEST['filename'].apply(lambda x: 'rtsd-r1/test/' + x)\n",
    "\n",
    "R3_TRAIN['class_number'] = R3_TRAIN['class_number'].apply(lambda x: RTDS_R3_N2C_DICT[x])\n",
    "R3_TRAIN['filename'] = R3_TRAIN['filename'].apply(lambda x: 'rtsd-r3/train/' + x)\n",
    "\n",
    "R3_TEST['class_number'] = R3_TEST['class_number'].apply(lambda x: RTDS_R3_N2C_DICT[x])\n",
    "R3_TEST['filename'] = R3_TEST['filename'].apply(lambda x: 'rtsd-r3/test/' + x)"
   ]
  },
  {
   "cell_type": "code",
   "execution_count": null,
   "id": "003d00a3",
   "metadata": {},
   "outputs": [],
   "source": [
    "R_MERGED = pd.concat(\n",
    "    [\n",
    "        R1_TRAIN, R3_TRAIN,\n",
    "        R1_TEST, R3_TEST\n",
    "    ],\n",
    "    ignore_index=True\n",
    ")\n",
    "R_MERGED.rename({'filename': 'filepath', 'class_number': 'sign'}, axis=1, inplace=True)"
   ]
  },
  {
   "cell_type": "code",
   "execution_count": null,
   "id": "9c58489d",
   "metadata": {},
   "outputs": [],
   "source": [
    "_, ax = plt.subplots(nrows=1, ncols=1, figsize=(21, 7))\n",
    "ax.tick_params(labelrotation=90)\n",
    "g = sns.countplot(\n",
    "    ax=ax, \n",
    "    x='sign', \n",
    "    data=R_MERGED, \n",
    "    order=sorted(\n",
    "        R_MERGED['sign'].value_counts().index.tolist()\n",
    "    )\n",
    ")\n",
    "plt.tight_layout()"
   ]
  },
  {
   "cell_type": "code",
   "execution_count": null,
   "id": "2a178ce8",
   "metadata": {},
   "outputs": [],
   "source": [
    "R_MERGED['sign'] = R_MERGED['sign'].apply(lambda x: \".\".join(x.split('_')[:-1]) if 'n' in x else x.replace('_', '.')) "
   ]
  },
  {
   "cell_type": "code",
   "execution_count": null,
   "id": "8a829ccc",
   "metadata": {},
   "outputs": [],
   "source": [
    "_, ax = plt.subplots(nrows=1, ncols=1, figsize=(21, 7))\n",
    "ax.tick_params(labelrotation=90)\n",
    "g = sns.countplot(\n",
    "    ax=ax, \n",
    "    x='sign', \n",
    "    data=R_MERGED, \n",
    "    order=sorted(\n",
    "        R_MERGED['sign'].value_counts().index.tolist()\n",
    "    )\n",
    ")\n",
    "plt.tight_layout()"
   ]
  },
  {
   "cell_type": "markdown",
   "id": "1c3ab48c",
   "metadata": {},
   "source": [
    "Напомню кого не хватает\n",
    "\n",
    "| Знак | Описание | Источник |\n",
    "| ------------- | ------------- | ---- |\n",
    "| 1.6 | Пересечение равнозначных дорог | - |\n",
    "| 1.31 | Туннель | - |\n",
    "| 2.4 | Уступите дорогу | GTSRB Recognition |\n",
    "| 3.21 | Конец запрещения обгона | GTSRB Recognition |\n",
    "| 3.22 | Обгон грузовым автомобилям запрещен | GTSRB Recognition |\n",
    "| 3.23 | Конец запрещения обгона грузовым автомобилям | GTSRB Recognition |\n",
    "| 3.24-90 | Огр 90 | - |\n",
    "| 3.24-100 | Огр 100 | GTSRB Recognition |\n",
    "| 3.24-110 | Огр 110 | - |\n",
    "| 3.24-120 | Огр 120 | GTSRB Recognition |\n",
    "| 3.24-130 | Огр 130 | - |\n",
    "| 3.25 | Конец огр. максимальной скорости | GTSRB Recognition |\n",
    "| 3.31 | Конец всех ограничений | GTSRB Recognition |\n",
    "| 6.3.2 | Зона для разворота | - |\n",
    "\n",
    "Что делать\n",
    "\n",
    "| Знак | Описание | Источник |\n",
    "| ------------- | ------------- | ---- |\n",
    "| 1.6 | Пересечение равнозначных дорог | Надеемся на удачу |\n",
    "| 1.31 | Туннель | Надеемся на удачу |\n",
    "| 2.4 | Уступите дорогу | GTSRB Recognition |\n",
    "| 3.21 | Конец запрещения обгона | GTSRB Recognition |\n",
    "| 3.22 | Обгон грузовым автомобилям запрещен | GTSRB Recognition |\n",
    "| 3.23 | Конец запрещения обгона грузовым автомобилям | GTSRB Recognition |\n",
    "| 3.24-90 | Огр 90 | Объеденили |\n",
    "| 3.24-100 | Огр 100 | Объеденили |\n",
    "| 3.24-110 | Огр 110 | Объеденили |\n",
    "| 3.24-120 | Огр 120 | Объеденили |\n",
    "| 3.24-130 | Огр 130 | Объеденили |\n",
    "| 3.25 | Конец огр. максимальной скорости | GTSRB Recognition |\n",
    "| 3.31 | Конец всех ограничений | GTSRB Recognition |\n",
    "| 6.3.2 | Зона для разворота | Надеемся на удачу |"
   ]
  },
  {
   "cell_type": "markdown",
   "id": "6864c05d",
   "metadata": {},
   "source": [
    "Объединение уже сделали, дергаем из GTSRB 2.4, 3.21, 3.22, 3.23, 3.25, 3.31"
   ]
  },
  {
   "cell_type": "code",
   "execution_count": null,
   "id": "4580a226",
   "metadata": {},
   "outputs": [],
   "source": [
    "new_folders = ['2.4', '3.21', '3.22', '3.23', '3.25', '3.31']\n",
    "sub_dfs = []\n",
    "for folder in new_folders:\n",
    "    temp_df = pd.DataFrame(os.listdir(RTSD_PUBLIC_ROOT / folder), columns=['filepath'])\n",
    "    temp_df['filepath'] = temp_df['filepath'].apply(lambda x: folder + '/' + x)\n",
    "    temp_df['sign'] = folder\n",
    "    sub_dfs.append(temp_df)"
   ]
  },
  {
   "cell_type": "code",
   "execution_count": null,
   "id": "c7a482d1",
   "metadata": {},
   "outputs": [],
   "source": [
    "merged_sub_dfs = pd.concat(sub_dfs, ignore_index=True)\n",
    "R_MERGED = pd.concat([R_MERGED, merged_sub_dfs], ignore_index=True)"
   ]
  },
  {
   "cell_type": "code",
   "execution_count": null,
   "id": "ee55701a",
   "metadata": {},
   "outputs": [],
   "source": [
    "_, ax = plt.subplots(nrows=1, ncols=1, figsize=(21, 7))\n",
    "ax.tick_params(labelrotation=90)\n",
    "g = sns.countplot(\n",
    "    ax=ax, \n",
    "    x='sign', \n",
    "    data=R_MERGED, \n",
    "    order=sorted(\n",
    "        R_MERGED['sign'].value_counts().index.tolist()\n",
    "    )\n",
    ")\n",
    "plt.tight_layout()"
   ]
  },
  {
   "cell_type": "markdown",
   "id": "c2e72d7e",
   "metadata": {},
   "source": [
    "Undersampling + Oversampling"
   ]
  },
  {
   "cell_type": "code",
   "execution_count": null,
   "id": "e5c66d92",
   "metadata": {},
   "outputs": [],
   "source": [
    "R_MERGED_GROUPED = R_MERGED.groupby('sign', axis=0)\n",
    "MEAN_BY_GROUPS = int(np.floor(R_MERGED_GROUPED.size().mean())) * 4\n",
    "R_MERGED['set'] = np.nan\n",
    "print(MEAN_BY_GROUPS)"
   ]
  },
  {
   "cell_type": "code",
   "execution_count": null,
   "id": "7113b83e",
   "metadata": {},
   "outputs": [],
   "source": [
    "import random\n",
    "\n",
    "SET_COLUMN_INDEX = R_MERGED.columns.get_loc(\"set\")\n",
    "\n",
    "for key, items in R_MERGED_GROUPED.groups.items():\n",
    "        # print(items)\n",
    "        items = list(items)     # явно приведем к списку для душевного спокойствия\n",
    "        random.shuffle(items)   # перемешаем\n",
    "\n",
    "        # print(key)\n",
    "\n",
    "        if len(items) > MEAN_BY_GROUPS:\n",
    "            # выбираем рандомные значения из этой группы в колличестве MEAN_BY_GROUPS*0.6 для train\n",
    "            # MEAN_BY_GROUPS*0.2 для valid, остальное кинем в test\n",
    "            # print(int(MEAN_BY_GROUPS*0.8))\n",
    "            \n",
    "            TEMP_ITEMS_INCLUDED = items[0:MEAN_BY_GROUPS]\n",
    "            TEMP_ITEMS_EXCLUDED = items[MEAN_BY_GROUPS::]\n",
    "            \n",
    "            TRAIN_GROUP, VALID_GROUP, TEST_GPOUP = np.split(\n",
    "                TEMP_ITEMS_INCLUDED, \n",
    "                [int(len(TEMP_ITEMS_INCLUDED)*0.6), \n",
    "                 int(len(TEMP_ITEMS_INCLUDED)*0.8)]\n",
    "            )\n",
    "            \n",
    "            TEST_GPOUP = np.append(TEST_GPOUP, TEMP_ITEMS_EXCLUDED)\n",
    "\n",
    "        else:\n",
    "            TRAIN_GROUP, VALID_GROUP, TEST_GPOUP = np.split(items, [int(len(items)*0.6), int(len(items)*0.8)])\n",
    "        \n",
    "        R_MERGED.iloc[TRAIN_GROUP, SET_COLUMN_INDEX] = 'train'\n",
    "        R_MERGED.iloc[VALID_GROUP, SET_COLUMN_INDEX] = 'valid'\n",
    "        R_MERGED.iloc[TEST_GPOUP, SET_COLUMN_INDEX] = 'test'\n",
    "\n",
    "_, ax = plt.subplots(nrows=3, ncols=1, figsize=(21, 14))\n",
    "\n",
    "LABELS = ['train', 'valid', 'test']\n",
    "for i in range(len(LABELS)):\n",
    "    g = sns.countplot(x='sign', \n",
    "                      data=R_MERGED[R_MERGED['set']==LABELS[i]],  \n",
    "                      ax=ax[i], \n",
    "                      order=sorted(R_MERGED['sign'].value_counts().index.tolist())\n",
    "                     )\n",
    "    ax[i].tick_params(labelrotation=90)\n",
    "    ax[i].set_title(LABELS[i])\n",
    "    plt.tight_layout()"
   ]
  },
  {
   "cell_type": "code",
   "execution_count": null,
   "id": "2a6c1ae1",
   "metadata": {},
   "outputs": [],
   "source": [
    "R_MERGED"
   ]
  },
  {
   "cell_type": "code",
   "execution_count": null,
   "id": "1bfb538c",
   "metadata": {},
   "outputs": [],
   "source": [
    "R_MERGED_TRAIN = R_MERGED[R_MERGED['set']=='train']\n",
    "R_MERGED_TRAIN_GROUPED = R_MERGED_TRAIN.groupby('sign', axis=0)\n",
    "\n",
    "for key, items in R_MERGED_TRAIN_GROUPED.groups.items():\n",
    "\n",
    "    items = list(items)     # явно приведем к списку для душевного спокойствия\n",
    "    random.shuffle(items)   # перемешаем\n",
    "\n",
    "    if len(items) < MEAN_BY_GROUPS:\n",
    "        ROWS_TO_FILL_COUNT = int(MEAN_BY_GROUPS*0.6) - len(items)\n",
    "        ROWS_TO_APPEND = R_MERGED.iloc[items].sample(ROWS_TO_FILL_COUNT, replace=True)\n",
    "        # print(ROWS_TO_APPEND)\n",
    "        #print(len(gt.index))\n",
    "        R_MERGED = R_MERGED.append(ROWS_TO_APPEND, ignore_index=True)\n",
    "        #print(len(gt.index))\n",
    "        \n",
    "_, ax = plt.subplots(nrows=3, ncols=1, figsize=(21, 14))\n",
    "\n",
    "LABELS = ['train', 'valid', 'test']\n",
    "for i in range(len(LABELS)):\n",
    "    g = sns.countplot(x='sign', \n",
    "                      data=R_MERGED[R_MERGED['set']==LABELS[i]],  \n",
    "                      ax=ax[i], \n",
    "                      order=sorted(R_MERGED['sign'].value_counts().index.tolist())\n",
    "                     )\n",
    "    ax[i].tick_params(labelrotation=90)\n",
    "    ax[i].set_title(LABELS[i])\n",
    "    plt.tight_layout()"
   ]
  },
  {
   "cell_type": "code",
   "execution_count": null,
   "id": "73ee5154",
   "metadata": {},
   "outputs": [],
   "source": [
    "R_MERGED"
   ]
  },
  {
   "cell_type": "code",
   "execution_count": null,
   "id": "b29339e2",
   "metadata": {},
   "outputs": [],
   "source": [
    "from sklearn import preprocessing\n",
    "le = preprocessing.LabelEncoder()\n",
    "\n",
    "R_MERGED['encoded'] = le.fit_transform(R_MERGED['sign'])"
   ]
  },
  {
   "cell_type": "code",
   "execution_count": null,
   "id": "95c3e260",
   "metadata": {},
   "outputs": [],
   "source": [
    "R_MERGED.to_csv('WIDE_DATASET_4_ENCODER.csv', index=False)\n"
   ]
  },
  {
   "cell_type": "code",
   "execution_count": null,
   "id": "b9daf433",
   "metadata": {},
   "outputs": [],
   "source": []
  },
  {
   "cell_type": "code",
   "execution_count": null,
   "id": "3c09321d",
   "metadata": {},
   "outputs": [],
   "source": []
  }
 ],
 "metadata": {
  "kernelspec": {
   "display_name": "Python [conda env:adas] *",
   "language": "python",
   "name": "conda-env-adas-py"
  },
  "language_info": {
   "codemirror_mode": {
    "name": "ipython",
    "version": 3
   },
   "file_extension": ".py",
   "mimetype": "text/x-python",
   "name": "python",
   "nbconvert_exporter": "python",
   "pygments_lexer": "ipython3",
   "version": "3.7.11"
  }
 },
 "nbformat": 4,
 "nbformat_minor": 5
}
