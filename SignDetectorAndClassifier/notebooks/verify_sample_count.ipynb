{
 "cells": [
  {
   "cell_type": "code",
   "execution_count": null,
   "metadata": {},
   "outputs": [],
   "source": [
    "import os\n",
    "os.listdir()"
   ]
  },
  {
   "cell_type": "code",
   "execution_count": null,
   "metadata": {},
   "outputs": [],
   "source": [
    "import pandas as pd\n",
    "PATH_PREFIX = './../data/ENCODER_DATASET/'\n",
    "R_MERGED = pd.read_csv(PATH_PREFIX + 'WIDE_DATASET_4_ENCODER.csv')\n",
    "R_MERGED['filepath'] = R_MERGED['filepath'].apply(lambda x: str(PATH_PREFIX + x))"
   ]
  },
  {
   "cell_type": "code",
   "execution_count": null,
   "metadata": {},
   "outputs": [],
   "source": [
    "print('train sign count:', len(set(R_MERGED[R_MERGED['set'] == 'train']['sign'])))\n",
    "print('train sign count:', len(set(R_MERGED[R_MERGED['set'] == 'valid']['sign'])))\n",
    "print('train sign count:', len(set(R_MERGED[R_MERGED['set'] == 'test']['sign'])))"
   ]
  },
  {
   "cell_type": "code",
   "execution_count": null,
   "metadata": {},
   "outputs": [],
   "source": [
    "import random\n",
    "import numpy as np\n",
    "import matplotlib.pyplot as plt\n",
    "import seaborn as sns\n",
    "\n",
    "_, ax = plt.subplots(nrows=3, ncols=1, figsize=(21, 14))\n",
    "\n",
    "LABELS = ['train', 'valid', 'test']\n",
    "for i in range(len(LABELS)):\n",
    "    g = sns.countplot(x='sign', \n",
    "                      data=R_MERGED[R_MERGED['set']==LABELS[i]],  \n",
    "                      ax=ax[i], \n",
    "                      order=sorted(R_MERGED['sign'].value_counts().index.tolist())\n",
    "                     )\n",
    "    ax[i].tick_params(labelrotation=90)\n",
    "    ax[i].set_title(LABELS[i])\n",
    "    plt.tight_layout()"
   ]
  },
  {
   "cell_type": "code",
   "execution_count": null,
   "metadata": {},
   "outputs": [],
   "source": [
    "R_MERGED[R_MERGED['set']=='test']['sign'].describe()"
   ]
  },
  {
   "cell_type": "code",
   "execution_count": null,
   "metadata": {},
   "outputs": [],
   "source": [
    "R_MERGED.loc[((R_MERGED['set']=='test') | (R_MERGED['set']=='valid'))  & (R_MERGED['sign']=='5.19.1')]"
   ]
  },
  {
   "cell_type": "code",
   "execution_count": null,
   "metadata": {},
   "outputs": [],
   "source": [
    "set(R_MERGED['set'])"
   ]
  }
 ],
 "metadata": {
  "interpreter": {
   "hash": "3f126ba513cd923a91965ccfdcd1e275957d64ce4742838d456229721288bc16"
  },
  "kernelspec": {
   "display_name": "Python 3 (ipykernel)",
   "language": "python",
   "name": "python3"
  },
  "language_info": {
   "codemirror_mode": {
    "name": "ipython",
    "version": 3
   },
   "file_extension": ".py",
   "mimetype": "text/x-python",
   "name": "python",
   "nbconvert_exporter": "python",
   "pygments_lexer": "ipython3",
   "version": "3.8.0"
  }
 },
 "nbformat": 4,
 "nbformat_minor": 2
}
