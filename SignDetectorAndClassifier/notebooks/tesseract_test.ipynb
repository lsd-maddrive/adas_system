{
 "cells": [
  {
   "cell_type": "code",
   "execution_count": null,
   "id": "0c55c335",
   "metadata": {},
   "outputs": [],
   "source": [
    "import seaborn as sns\n",
    "import matplotlib.pyplot as plt\n",
    "import cv2\n",
    "import numpy as np\n",
    "import pytesseract\n",
    "\n",
    "import os\n",
    "import subprocess\n",
    "from pathlib import Path\n",
    "\n",
    "from maddrive_adas.sign_det.base import AbstractSignClassifier\n",
    "from maddrive_adas.sign_det.classifier import EncoderBasedClassifier\n",
    "from maddrive_adas.utils.fs import imread_rgb\n",
    "\n",
    "try:\n",
    "    output = subprocess.check_output(\n",
    "        'tesseract -v',\n",
    "        stderr=subprocess.STDOUT\n",
    "    ).decode()\n",
    "    if 'tesseract' not in output:\n",
    "        raise subprocess.CalledProcessError\n",
    "except subprocess.CalledProcessError:\n",
    "    print('Unable to call tessecact. Install and add tesseract to PATH variable.')\n",
    "    print('Link: https://tesseract-ocr.github.io/tessdoc/Downloads.html')\n",
    "    raise subprocess.CalledProcessError\n",
    "\n",
    "def crop_img(img, xscale=1.0, yscale=1.0):\n",
    "    center_x, center_y = img.shape[1] / 2, img.shape[0] / 2\n",
    "    width_scaled, height_scaled = img.shape[1] * xscale, img.shape[0] * yscale\n",
    "    left_x, right_x = center_x - width_scaled / 2, center_x + width_scaled / 2\n",
    "    top_y, bottom_y = center_y - height_scaled / 2, center_y + height_scaled / 2\n",
    "    img_cropped = img[int(top_y):int(bottom_y), int(left_x):int(right_x)]\n",
    "    return img_cropped\n",
    "\n",
    "try:\n",
    "    PROJECT_ROOT = Path(os.readlink(f'/proc/{os.environ[\"JPY_PARENT_PID\"]}/cwd'))\n",
    "except FileNotFoundError:\n",
    "    __file = %pwd\n",
    "    PROJECT_ROOT = Path(__file).parents[1]\n",
    "    \n",
    "data_path: Path = Path(PROJECT_ROOT / 'SignDetectorAndClassifier/data/additional_sign')\n",
    "CLASSIFIER_ARCHIVE = PROJECT_ROOT / 'encoder_archive'\n",
    "\n",
    "c: AbstractSignClassifier = EncoderBasedClassifier(\n",
    "    config_path=str(CLASSIFIER_ARCHIVE)\n",
    ")"
   ]
  },
  {
   "cell_type": "code",
   "execution_count": null,
   "id": "62ca6905",
   "metadata": {},
   "outputs": [],
   "source": [
    "import matplotlib"
   ]
  },
  {
   "cell_type": "code",
   "execution_count": null,
   "id": "b59c4f66",
   "metadata": {},
   "outputs": [],
   "source": [
    "for file in data_path.iterdir():\n",
    "    if '3.24' in str(file) or '3.25' in str(file):\n",
    "        img = imread_rgb(file)\n",
    "        res, d = c._fixup_signs_with_text(img, ('3.24', 1.), ret_debug_img=True)\n",
    "        fig, ax = plt.subplots(1, len(d) + 1, figsize=(4,4))\n",
    "        # print(len(d))\n",
    "        if isinstance(ax, np.ndarray):\n",
    "            # print('mult')\n",
    "            ax[0].title.set_text(res[0])\n",
    "            ax[0].imshow(img)\n",
    "            for i in range(0, len(d)):\n",
    "                # print(i)\n",
    "                ax[i+1].imshow(d[i], cmap='gray')\n",
    "        else:\n",
    "            ax.title.set_text(res[0])\n",
    "            ax.imshow(img)\n",
    "        \n",
    "plt.show()"
   ]
  },
  {
   "cell_type": "code",
   "execution_count": null,
   "id": "88f685d7",
   "metadata": {},
   "outputs": [],
   "source": []
  },
  {
   "cell_type": "code",
   "execution_count": null,
   "id": "00ec2ae1",
   "metadata": {},
   "outputs": [],
   "source": [
    "list(int(scale / x) for x in img.shape)"
   ]
  }
 ],
 "metadata": {
  "kernelspec": {
   "display_name": "Python 3 (ipykernel)",
   "language": "python",
   "name": "python3"
  },
  "language_info": {
   "codemirror_mode": {
    "name": "ipython",
    "version": 3
   },
   "file_extension": ".py",
   "mimetype": "text/x-python",
   "name": "python",
   "nbconvert_exporter": "python",
   "pygments_lexer": "ipython3",
   "version": "3.8.10"
  }
 },
 "nbformat": 4,
 "nbformat_minor": 5
}
