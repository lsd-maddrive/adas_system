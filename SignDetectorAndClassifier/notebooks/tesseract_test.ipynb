{
 "cells": [
  {
   "cell_type": "code",
   "execution_count": null,
   "id": "0c55c335",
   "metadata": {},
   "outputs": [],
   "source": [
    "import seaborn as sns\n",
    "import matplotlib.pyplot as plt\n",
    "import cv2\n",
    "import numpy as np\n",
    "import pytesseract\n",
    "\n",
    "import subprocess\n",
    "from pathlib import Path\n",
    "\n",
    "from maddrive_adas.sign_det.base import AbstractSignClassifier\n",
    "from maddrive_adas.sign_det.classifier import EncoderBasedClassifier\n",
    "from maddrive_adas.utils.fs import imread_rgb\n",
    "\n",
    "try:\n",
    "    output = subprocess.check_output(\n",
    "        'tesseract -v',\n",
    "        stderr=subprocess.STDOUT\n",
    "    ).decode()\n",
    "    if 'tesseract' not in output:\n",
    "        raise subprocess.CalledProcessError\n",
    "except subprocess.CalledProcessError:\n",
    "    print('Unable to call tessecact. Install and add tesseract to PATH variable.')\n",
    "    print('Link: https://tesseract-ocr.github.io/tessdoc/Downloads.html')\n",
    "    raise subprocess.CalledProcessError\n",
    "\n",
    "def crop_img(img, xscale=1.0, yscale=1.0):\n",
    "    center_x, center_y = img.shape[1] / 2, img.shape[0] / 2\n",
    "    width_scaled, height_scaled = img.shape[1] * xscale, img.shape[0] * yscale\n",
    "    left_x, right_x = center_x - width_scaled / 2, center_x + width_scaled / 2\n",
    "    top_y, bottom_y = center_y - height_scaled / 2, center_y + height_scaled / 2\n",
    "    img_cropped = img[int(top_y):int(bottom_y), int(left_x):int(right_x)]\n",
    "    return img_cropped\n",
    "\n",
    "PROJECT_ROOT = Path('.')\n",
    "data_path: Path = Path(PROJECT_ROOT / 'SignDetectorAndClassifier/data/additional_sign')\n",
    "\n",
    "TARGET_WIDTH = 40\n",
    "erode_kernel = np.ones((2, 2), np.uint8)\n",
    "\n",
    "for file in data_path.iterdir():\n",
    "    if '3.24' in str(file):  # or '3.25' in str(file):\n",
    "        print(file)\n",
    "        # plt.figure()\n",
    "        # f, axarr = plt.subplots(7,1, figsize=(30, 15)) \n",
    "        \n",
    "        img = imread_rgb(file)\n",
    "        # axarr[0].imshow(img)\n",
    "        \n",
    "        img = cv2.cvtColor(img, cv2.COLOR_RGB2GRAY)\n",
    "        # axarr[1].imshow(img, cmap='gray')\n",
    "        \n",
    "        img = crop_img(img, xscale=0.7, yscale=0.4)\n",
    "        # axarr[2].imshow(img, cmap='gray')\n",
    "        \n",
    "        scale_x = TARGET_WIDTH / img.shape[0]\n",
    "        img = cv2.resize(img, (int(img.shape[0] * scale_x), TARGET_WIDTH), interpolation=cv2.INTER_AREA)\n",
    "        # axarr[3].imshow(img, cmap='gray')\n",
    "\n",
    "        img = cv2.GaussianBlur(img, (7, 7), 0)\n",
    "        # axarr[4].imshow(img, cmap='gray')\n",
    "        img = cv2.adaptiveThreshold(img, 255, cv2.ADAPTIVE_THRESH_GAUSSIAN_C, cv2.THRESH_BINARY, 5,5)\n",
    "        \n",
    "        kernel = cv2.getStructuringElement(cv2.MORPH_RECT, (2, 2))\n",
    "        img = cv2.morphologyEx(img, cv2.MORPH_OPEN, kernel, iterations=2)\n",
    "        # axarr[5].imshow(opening, cmap='gray')        \n",
    "        \n",
    "        img = cv2.erode(img, erode_kernel, cv2.BORDER_CONSTANT) \n",
    "        img = cv2.dilate(img, erode_kernel, cv2.BORDER_CONSTANT,  iterations=1) \n",
    "        # res = c.classify(img)\n",
    "        # c._fixup_signs_with_text(img, ('3.25', 1))\n",
    "        plt.imshow(img, cmap='gray')\n",
    "        print(pytesseract.image_to_string(img, config='--psm 13').split('\\n\\n')[0])\n",
    "        plt.show()\n",
    "        input()\n",
    "assert False, 'Check windows'"
   ]
  },
  {
   "cell_type": "code",
   "execution_count": null,
   "id": "b59c4f66",
   "metadata": {},
   "outputs": [],
   "source": [
    "img.shape"
   ]
  },
  {
   "cell_type": "code",
   "execution_count": null,
   "id": "88f685d7",
   "metadata": {},
   "outputs": [],
   "source": []
  },
  {
   "cell_type": "code",
   "execution_count": null,
   "id": "00ec2ae1",
   "metadata": {},
   "outputs": [],
   "source": [
    "list(int(scale / x) for x in img.shape)"
   ]
  }
 ],
 "metadata": {
  "kernelspec": {
   "display_name": "Python 3 (ipykernel)",
   "language": "python",
   "name": "python3"
  },
  "language_info": {
   "codemirror_mode": {
    "name": "ipython",
    "version": 3
   },
   "file_extension": ".py",
   "mimetype": "text/x-python",
   "name": "python",
   "nbconvert_exporter": "python",
   "pygments_lexer": "ipython3",
   "version": "3.8.10"
  }
 },
 "nbformat": 4,
 "nbformat_minor": 5
}
