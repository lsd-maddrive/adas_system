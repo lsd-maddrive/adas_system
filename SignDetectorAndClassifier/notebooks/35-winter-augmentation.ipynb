{
 "cells": [
  {
   "cell_type": "code",
   "execution_count": null,
   "metadata": {},
   "outputs": [],
   "source": [
    "import pathlib\n",
    "import os\n",
    "\n",
    "import cv2\n",
    "import pandas as pd \n",
    "import numpy as np\n",
    "import albumentations\n",
    "import matplotlib.pyplot as plt\n",
    "\n",
    "PROJECT_ROOT = pathlib.Path('.')\n",
    "\n",
    "DATA_DIR = PROJECT_ROOT / 'SignDetectorAndClassifier' / 'data'\n",
    "DATASET_DIR = DATA_DIR / 'YOLO_DATASET'"
   ]
  },
  {
   "cell_type": "markdown",
   "metadata": {},
   "source": [
    "### Winter photo example for `classifier`\n",
    "\n",
    "![](./../data/winter_traffic_signs_example/2_cut.png)\n",
    "![](./../data/winter_traffic_signs_example/1_cut.png)"
   ]
  },
  {
   "cell_type": "code",
   "execution_count": null,
   "metadata": {},
   "outputs": [],
   "source": [
    "img = cv2.imread(\n",
    "    str(DATA_DIR / 'STOCK_SIGNS' / '1.8.png')\n",
    ")\n",
    "img = cv2.cvtColor(img, cv2.COLOR_BGRA2RGBA)\n",
    "\n",
    "plt.imshow(img)"
   ]
  },
  {
   "cell_type": "code",
   "execution_count": null,
   "metadata": {},
   "outputs": [],
   "source": [
    "class Winterize(albumentations.ImageOnlyTransform):\n",
    "    def __init__(self, contrast_limit=0.8, tiles_count=5, tiles_size=5, tiles_relative=True, always_apply=False, p=0.5):\n",
    "        super(Winterize, self).__init__(always_apply, p)\n",
    "        self.contrast_limit = contrast_limit\n",
    "        self.tiles_count = tiles_count\n",
    "        self.tiles_size = tiles_size,\n",
    "        self.tiles_relative = tiles_relative\n",
    "        \n",
    "    # TODO: implement white noise + gaussian on alpha channel of input image\n",
    "    # TODO: implement while-gray random cuts from image\n",
    "    def _transform(self, img):\n",
    "        self.noise = np.random.normal(1, 1, img.shape)\n",
    "        img = albumentations.brightness_contrast_adjust(img)\n",
    "        return self.noise \n",
    "\n",
    "    def apply(self, img, clip_limit=2, **params):\n",
    "        if albumentations.get_num_channels(img) != 4:\n",
    "            raise TypeError(\"Winterize transformation expects RGBA image\")\n",
    "\n",
    "        return self._transform(img)\n",
    "\n",
    "    def get_params(self):\n",
    "        return {'contrast_limit': self.contrast_limit, 'tiles_count': self.tiles_count, 'tiles_size': self.tiles_size, 'tiles_relation': self.tiles_relative}\n",
    "\n",
    "    def get_transform_init_args_names(self):\n",
    "        return (\"contrast_limit\", \"tiles_count\", \"tiles_size\", \"tiles_relative\")\n",
    "\n",
    "a = Winterize()\n",
    "\n",
    "img_t = a.apply(img)\n",
    "plt.imshow(img_t)"
   ]
  },
  {
   "cell_type": "code",
   "execution_count": null,
   "metadata": {},
   "outputs": [],
   "source": [
    "Winterize.__annotations__"
   ]
  },
  {
   "cell_type": "code",
   "execution_count": null,
   "metadata": {},
   "outputs": [],
   "source": []
  },
  {
   "cell_type": "markdown",
   "metadata": {},
   "source": [
    "### Winter photo example for `detector`\n",
    "![](./../data/winter_traffic_signs_example/1_full.png)"
   ]
  },
  {
   "cell_type": "code",
   "execution_count": null,
   "metadata": {},
   "outputs": [],
   "source": [
    "import pathlib\n",
    "import os\n",
    "\n",
    "import cv2\n",
    "import pandas as pd \n",
    "import numpy as np\n",
    "import albumentations\n",
    "\n",
    "\n",
    "PROJECT_ROOT = pathlib.Path('.')\n",
    "\n",
    "DATA_DIR = PROJECT_ROOT / 'SignDetectorAndClassifier' / 'data'\n",
    "DATASET_DIR = DATA_DIR / 'YOLO_DATASET'"
   ]
  },
  {
   "cell_type": "code",
   "execution_count": null,
   "metadata": {},
   "outputs": [],
   "source": [
    "sample_img = cv2.imread(\n",
    "    DATA_DIR / \n",
    ")"
   ]
  },
  {
   "cell_type": "code",
   "execution_count": null,
   "metadata": {},
   "outputs": [],
   "source": [
    "nb_name"
   ]
  }
 ],
 "metadata": {
  "kernelspec": {
   "display_name": "Python 3 (ipykernel)",
   "language": "python",
   "name": "python3"
  },
  "language_info": {
   "codemirror_mode": {
    "name": "ipython",
    "version": 3
   },
   "file_extension": ".py",
   "mimetype": "text/x-python",
   "name": "python",
   "nbconvert_exporter": "python",
   "pygments_lexer": "ipython3",
   "version": "3.10.5"
  },
  "vscode": {
   "interpreter": {
    "hash": "d30e6d4e6473c55ee31536bc57169ace291c153da81c0a4bb3e2b2828384d15a"
   }
  }
 },
 "nbformat": 4,
 "nbformat_minor": 2
}
