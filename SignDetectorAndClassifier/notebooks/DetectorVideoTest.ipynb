{
 "cells": [
  {
   "cell_type": "markdown",
   "id": "0f770e3a",
   "metadata": {},
   "source": [
    "# Ноутбук для демонстрации детектора."
   ]
  },
  {
   "cell_type": "markdown",
   "id": "d88f8a4f",
   "metadata": {},
   "source": [
    "# Core import"
   ]
  },
  {
   "cell_type": "code",
   "execution_count": null,
   "id": "a21e9951",
   "metadata": {},
   "outputs": [],
   "source": [
    "import sys\n",
    "import random\n",
    "import os\n",
    "import pathlib\n",
    "\n",
    "import matplotlib.pyplot as plt\n",
    "import numpy as np\n",
    "import cv2\n",
    "import torch\n",
    "\n",
    "# Зафиксируем состояние случайных чисел\n",
    "RANDOM_STATE = 42\n",
    "np.random.seed(RANDOM_STATE)\n",
    "torch.manual_seed(RANDOM_STATE)\n",
    "random.seed(RANDOM_STATE)\n",
    "%matplotlib inline\n",
    "plt.rcParams[\"figure.figsize\"] = (17,10)\n",
    "\n",
    "device = torch.device('cuda:0' if torch.cuda.is_available() else 'cpu')\n",
    "device"
   ]
  },
  {
   "cell_type": "markdown",
   "id": "031ec83e",
   "metadata": {},
   "source": [
    "# Init dirs"
   ]
  },
  {
   "cell_type": "code",
   "execution_count": null,
   "id": "33385669",
   "metadata": {},
   "outputs": [],
   "source": [
    "try:\n",
    "    PROJECT_ROOT = pathlib.Path(os.readlink(f'/proc/{os.environ[\"JPY_PARENT_PID\"]}/cwd'))\n",
    "except FileNotFoundError:\n",
    "    __file = %pwd\n",
    "    PROJECT_ROOT = pathlib.Path(__file).parents[1]\n",
    "\n",
    "# FIX THIS PATHS BY YOURS\n",
    "DATA_DIR = PROJECT_ROOT / 'SignDetectorAndClassifier' / 'data'\n",
    "VIDEO_DIR = DATA_DIR / 'reg_videos'\n",
    "\n",
    "video_path = str(VIDEO_DIR / '1.mp4')\n",
    "print(video_path)"
   ]
  },
  {
   "cell_type": "code",
   "execution_count": null,
   "id": "5d2e710a",
   "metadata": {},
   "outputs": [],
   "source": [
    "from datetime import datetime\n",
    "\n",
    "# FIX THIS PATH BY YOURS\n",
    "MODEL_ARCHIVE_PATH = str(PROJECT_ROOT / 'detector_archive')\n",
    "\n",
    "from maddrive_adas.sign_det.detector import YoloV5Detector\n",
    "from maddrive_adas.sign_det.base import AbstractSignDetector\n",
    "\n",
    "d: AbstractSignDetector = YoloV5Detector(\n",
    "    config_path=MODEL_ARCHIVE_PATH\n",
    ")"
   ]
  },
  {
   "cell_type": "code",
   "execution_count": null,
   "id": "3cbc1409",
   "metadata": {},
   "outputs": [],
   "source": [
    "from IPython.display import display, Image\n",
    "import datetime\n",
    "now = datetime.datetime.now\n",
    "\n",
    "# initialize video display handles\n",
    "video = cv2.VideoCapture(video_path)\n",
    "display_handle1=display(1, display_id=True)\n",
    "display_handle2=display(2, display_id=True)\n",
    "\n",
    "RAND_TO_SKIP = 0.001\n",
    "while True:\n",
    "    # store per iter initial time\n",
    "    if (random.random() > RAND_TO_SKIP):\n",
    "        continue\n",
    "    t0 = now()\n",
    "    \n",
    "    # get video frame and detector results\n",
    "    _, frame_src = video.read()\n",
    "    frame_marks = cv2.cvtColor(frame_src.copy(), cv2.COLOR_BGR2RGB)    \n",
    "    pred = d.detect(frame_marks)\n",
    "    \n",
    "    # plot per ROI rectangle\n",
    "    for i in range(pred.get_roi_count()):\n",
    "        COORD_ARR, conf = pred.get_abs_roi(i)\n",
    "        \n",
    "        frame_marks = cv2.rectangle(frame_marks, (COORD_ARR[0], COORD_ARR[1]), \n",
    "                        (COORD_ARR[2], COORD_ARR[3]), \n",
    "                        (255, 0, 0), \n",
    "                        3)\n",
    "        \n",
    "        frame_marks = cv2.putText(frame_marks, str(round(conf, 3)), \n",
    "                           (COORD_ARR[2] - 40,COORD_ARR[3]),\n",
    "                           cv2.FONT_HERSHEY_SIMPLEX,\n",
    "                           0.7, (255, 255, 0),\n",
    "                           5, cv2.LINE_AA\n",
    "                          )\n",
    "        \n",
    "        frame_marks = cv2.putText(frame_marks, str(round(conf, 3)), \n",
    "                           (COORD_ARR[2] - 40, COORD_ARR[3]),\n",
    "                           cv2.FONT_HERSHEY_SIMPLEX,\n",
    "                           0.7, (0, 0, 0),\n",
    "                           2, cv2.LINE_AA\n",
    "                          )\n",
    "    # get processing time\n",
    "    dt = now() - t0\n",
    "    frame_src = cv2.putText(\n",
    "        frame_src, \n",
    "        'fps:' + str(round(1 / dt.total_seconds() , 2)),\n",
    "        (0, 60),\n",
    "        cv2.FONT_HERSHEY_SIMPLEX,\n",
    "        3, (0, 0, 0),\n",
    "        3, cv2.LINE_AA\n",
    "    )\n",
    "    \n",
    "    # transform frame for display handle\n",
    "    _, frame_src = cv2.imencode('.jpeg', frame_src)\n",
    "    # conver back to BGR for cv2\n",
    "    frame_marks = cv2.cvtColor(frame_marks, cv2.COLOR_RGB2BGR)\n",
    "    _, frame_marks = cv2.imencode('.jpeg', frame_marks)\n",
    "   \n",
    "    # update display\n",
    "    display_handle1.update(Image(data=frame_src.tobytes()))\n",
    "    display_handle2.update(Image(data=frame_marks.tobytes()))"
   ]
  }
 ],
 "metadata": {
  "kernelspec": {
   "display_name": "Python 3 (ipykernel)",
   "language": "python",
   "name": "python3"
  },
  "language_info": {
   "codemirror_mode": {
    "name": "ipython",
    "version": 3
   },
   "file_extension": ".py",
   "mimetype": "text/x-python",
   "name": "python",
   "nbconvert_exporter": "python",
   "pygments_lexer": "ipython3",
   "version": "3.8.10"
  }
 },
 "nbformat": 4,
 "nbformat_minor": 5
}
