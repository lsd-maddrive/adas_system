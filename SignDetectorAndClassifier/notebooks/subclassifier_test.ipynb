{
 "cells": [
  {
   "cell_type": "code",
   "execution_count": null,
   "id": "88a39bc6",
   "metadata": {},
   "outputs": [],
   "source": [
    "%load_ext autoreload\n",
    "%autoreload 2\n",
    "\n",
    "import matplotlib.pyplot as plt\n",
    "import cv2\n",
    "import numpy as np\n",
    "\n",
    "import os\n",
    "import subprocess\n",
    "from pathlib import Path\n",
    "\n",
    "from maddrive_adas.sign_det.base import AbstractSignClassifier\n",
    "from maddrive_adas.sign_det.classifier import EncoderBasedClassifier\n",
    "from maddrive_adas.utils.fs import imread_rgb\n",
    "\n",
    "try:\n",
    "    PROJECT_ROOT = Path(os.readlink(f'/proc/{os.environ[\"JPY_PARENT_PID\"]}/cwd'))\n",
    "except FileNotFoundError:\n",
    "    __file = %pwd\n",
    "    PROJECT_ROOT = Path(__file).parents[1]\n",
    "    \n",
    "data_path: Path = Path(PROJECT_ROOT / 'SignDetectorAndClassifier/data/additional_sign')\n",
    "CLASSIFIER_ARCHIVE = PROJECT_ROOT / 'encoder_archive'\n",
    "SUBCLASSIFIER_ARCHIVE = PROJECT_ROOT / 'SignDetectorAndClassifier/data/classifier_chpt_07.03_00.07_TRAIN_ACC0.9231_VALID_ACC0.9091_EPOCH127'\n",
    "c: AbstractSignClassifier = EncoderBasedClassifier(\n",
    "    config_path=str(CLASSIFIER_ARCHIVE),\n",
    "    path_to_subclassifier_3_24_and_3_25_config=str(SUBCLASSIFIER_ARCHIVE)\n",
    ")"
   ]
  },
  {
   "cell_type": "code",
   "execution_count": null,
   "id": "fa881dfd",
   "metadata": {},
   "outputs": [],
   "source": [
    "wrongs = 0\n",
    "total = 0\n",
    "for file in data_path.iterdir():\n",
    "    if '3.24' in str(file) or '3.25' in str(file):\n",
    "        total += 1\n",
    "        img = imread_rgb(file)\n",
    "        res = c.classify(img)[1][0]\n",
    "        predicted_sign = res[0]\n",
    "        conf = res[1]\n",
    "        # print(res)\n",
    "        sign_class = file.stem.split('_')[0].rsplit('.', 1)[0]\n",
    "        sign_class_verbose = file.stem.split('_')[0]\n",
    "        \n",
    "        mark_as_bad = sign_class_verbose != res[0]\n",
    "\n",
    "        fig, ax = plt.subplots(1, 1, figsize=(4,4))\n",
    "        \n",
    "        ax.title.set_text(f'{predicted_sign}:{conf}')\n",
    "        ax.imshow(img)\n",
    "        if mark_as_bad:\n",
    "            wrongs += 1\n",
    "            ax.patch.set_edgecolor('red') \n",
    "            ax.patch.set_linewidth('30')\n",
    "        # break\n",
    "print(1 - wrongs / total)        \n",
    "plt.show()"
   ]
  }
 ],
 "metadata": {
  "kernelspec": {
   "display_name": "Python 3 (ipykernel)",
   "language": "python",
   "name": "python3"
  },
  "language_info": {
   "codemirror_mode": {
    "name": "ipython",
    "version": 3
   },
   "file_extension": ".py",
   "mimetype": "text/x-python",
   "name": "python",
   "nbconvert_exporter": "python",
   "pygments_lexer": "ipython3",
   "version": "3.8.10"
  }
 },
 "nbformat": 4,
 "nbformat_minor": 5
}
